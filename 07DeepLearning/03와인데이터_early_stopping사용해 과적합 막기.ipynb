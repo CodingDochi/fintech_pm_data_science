{
 "cells": [
  {
   "cell_type": "code",
   "execution_count": 1,
   "id": "bcc0e3c6",
   "metadata": {},
   "outputs": [],
   "source": [
    "import pandas as pd\n",
    "import numpy as np\n",
    "import matplotlib.pyplot as plt\n",
    "import seaborn as sns"
   ]
  },
  {
   "cell_type": "markdown",
   "id": "0e8b584d",
   "metadata": {},
   "source": [
    "1) Alcohol\n",
    "2) Malic acid\n",
    "3) Ash\n",
    "4) Alcalinity of ash  \n",
    "5) Magnesium\n",
    "6) Total phenols\n",
    "7) Flavanoids\n",
    "8) Nonflavanoid phenols\n",
    "9) Proanthocyanins\n",
    "10) Color intensity\n",
    "11) Hue\n",
    "12) OD280/OD315 of diluted wines\n",
    "13) Proline            "
   ]
  },
  {
   "cell_type": "code",
   "execution_count": 2,
   "id": "74fffd01",
   "metadata": {
    "scrolled": true
   },
   "outputs": [
    {
     "data": {
      "text/html": [
       "<div>\n",
       "<style scoped>\n",
       "    .dataframe tbody tr th:only-of-type {\n",
       "        vertical-align: middle;\n",
       "    }\n",
       "\n",
       "    .dataframe tbody tr th {\n",
       "        vertical-align: top;\n",
       "    }\n",
       "\n",
       "    .dataframe thead th {\n",
       "        text-align: right;\n",
       "    }\n",
       "</style>\n",
       "<table border=\"1\" class=\"dataframe\">\n",
       "  <thead>\n",
       "    <tr style=\"text-align: right;\">\n",
       "      <th></th>\n",
       "      <th>0</th>\n",
       "      <th>1</th>\n",
       "      <th>2</th>\n",
       "      <th>3</th>\n",
       "      <th>4</th>\n",
       "      <th>5</th>\n",
       "      <th>6</th>\n",
       "      <th>7</th>\n",
       "      <th>8</th>\n",
       "      <th>9</th>\n",
       "      <th>10</th>\n",
       "      <th>11</th>\n",
       "      <th>12</th>\n",
       "    </tr>\n",
       "  </thead>\n",
       "  <tbody>\n",
       "    <tr>\n",
       "      <th>0</th>\n",
       "      <td>7.4</td>\n",
       "      <td>0.70</td>\n",
       "      <td>0.00</td>\n",
       "      <td>1.9</td>\n",
       "      <td>0.076</td>\n",
       "      <td>11.0</td>\n",
       "      <td>34.0</td>\n",
       "      <td>0.99780</td>\n",
       "      <td>3.51</td>\n",
       "      <td>0.56</td>\n",
       "      <td>9.4</td>\n",
       "      <td>5</td>\n",
       "      <td>1</td>\n",
       "    </tr>\n",
       "    <tr>\n",
       "      <th>1</th>\n",
       "      <td>7.8</td>\n",
       "      <td>0.88</td>\n",
       "      <td>0.00</td>\n",
       "      <td>2.6</td>\n",
       "      <td>0.098</td>\n",
       "      <td>25.0</td>\n",
       "      <td>67.0</td>\n",
       "      <td>0.99680</td>\n",
       "      <td>3.20</td>\n",
       "      <td>0.68</td>\n",
       "      <td>9.8</td>\n",
       "      <td>5</td>\n",
       "      <td>1</td>\n",
       "    </tr>\n",
       "    <tr>\n",
       "      <th>2</th>\n",
       "      <td>7.8</td>\n",
       "      <td>0.76</td>\n",
       "      <td>0.04</td>\n",
       "      <td>2.3</td>\n",
       "      <td>0.092</td>\n",
       "      <td>15.0</td>\n",
       "      <td>54.0</td>\n",
       "      <td>0.99700</td>\n",
       "      <td>3.26</td>\n",
       "      <td>0.65</td>\n",
       "      <td>9.8</td>\n",
       "      <td>5</td>\n",
       "      <td>1</td>\n",
       "    </tr>\n",
       "    <tr>\n",
       "      <th>3</th>\n",
       "      <td>11.2</td>\n",
       "      <td>0.28</td>\n",
       "      <td>0.56</td>\n",
       "      <td>1.9</td>\n",
       "      <td>0.075</td>\n",
       "      <td>17.0</td>\n",
       "      <td>60.0</td>\n",
       "      <td>0.99800</td>\n",
       "      <td>3.16</td>\n",
       "      <td>0.58</td>\n",
       "      <td>9.8</td>\n",
       "      <td>6</td>\n",
       "      <td>1</td>\n",
       "    </tr>\n",
       "    <tr>\n",
       "      <th>4</th>\n",
       "      <td>7.4</td>\n",
       "      <td>0.70</td>\n",
       "      <td>0.00</td>\n",
       "      <td>1.9</td>\n",
       "      <td>0.076</td>\n",
       "      <td>11.0</td>\n",
       "      <td>34.0</td>\n",
       "      <td>0.99780</td>\n",
       "      <td>3.51</td>\n",
       "      <td>0.56</td>\n",
       "      <td>9.4</td>\n",
       "      <td>5</td>\n",
       "      <td>1</td>\n",
       "    </tr>\n",
       "    <tr>\n",
       "      <th>...</th>\n",
       "      <td>...</td>\n",
       "      <td>...</td>\n",
       "      <td>...</td>\n",
       "      <td>...</td>\n",
       "      <td>...</td>\n",
       "      <td>...</td>\n",
       "      <td>...</td>\n",
       "      <td>...</td>\n",
       "      <td>...</td>\n",
       "      <td>...</td>\n",
       "      <td>...</td>\n",
       "      <td>...</td>\n",
       "      <td>...</td>\n",
       "    </tr>\n",
       "    <tr>\n",
       "      <th>6492</th>\n",
       "      <td>6.2</td>\n",
       "      <td>0.21</td>\n",
       "      <td>0.29</td>\n",
       "      <td>1.6</td>\n",
       "      <td>0.039</td>\n",
       "      <td>24.0</td>\n",
       "      <td>92.0</td>\n",
       "      <td>0.99114</td>\n",
       "      <td>3.27</td>\n",
       "      <td>0.50</td>\n",
       "      <td>11.2</td>\n",
       "      <td>6</td>\n",
       "      <td>0</td>\n",
       "    </tr>\n",
       "    <tr>\n",
       "      <th>6493</th>\n",
       "      <td>6.6</td>\n",
       "      <td>0.32</td>\n",
       "      <td>0.36</td>\n",
       "      <td>8.0</td>\n",
       "      <td>0.047</td>\n",
       "      <td>57.0</td>\n",
       "      <td>168.0</td>\n",
       "      <td>0.99490</td>\n",
       "      <td>3.15</td>\n",
       "      <td>0.46</td>\n",
       "      <td>9.6</td>\n",
       "      <td>5</td>\n",
       "      <td>0</td>\n",
       "    </tr>\n",
       "    <tr>\n",
       "      <th>6494</th>\n",
       "      <td>6.5</td>\n",
       "      <td>0.24</td>\n",
       "      <td>0.19</td>\n",
       "      <td>1.2</td>\n",
       "      <td>0.041</td>\n",
       "      <td>30.0</td>\n",
       "      <td>111.0</td>\n",
       "      <td>0.99254</td>\n",
       "      <td>2.99</td>\n",
       "      <td>0.46</td>\n",
       "      <td>9.4</td>\n",
       "      <td>6</td>\n",
       "      <td>0</td>\n",
       "    </tr>\n",
       "    <tr>\n",
       "      <th>6495</th>\n",
       "      <td>5.5</td>\n",
       "      <td>0.29</td>\n",
       "      <td>0.30</td>\n",
       "      <td>1.1</td>\n",
       "      <td>0.022</td>\n",
       "      <td>20.0</td>\n",
       "      <td>110.0</td>\n",
       "      <td>0.98869</td>\n",
       "      <td>3.34</td>\n",
       "      <td>0.38</td>\n",
       "      <td>12.8</td>\n",
       "      <td>7</td>\n",
       "      <td>0</td>\n",
       "    </tr>\n",
       "    <tr>\n",
       "      <th>6496</th>\n",
       "      <td>6.0</td>\n",
       "      <td>0.21</td>\n",
       "      <td>0.38</td>\n",
       "      <td>0.8</td>\n",
       "      <td>0.020</td>\n",
       "      <td>22.0</td>\n",
       "      <td>98.0</td>\n",
       "      <td>0.98941</td>\n",
       "      <td>3.26</td>\n",
       "      <td>0.32</td>\n",
       "      <td>11.8</td>\n",
       "      <td>6</td>\n",
       "      <td>0</td>\n",
       "    </tr>\n",
       "  </tbody>\n",
       "</table>\n",
       "<p>6497 rows × 13 columns</p>\n",
       "</div>"
      ],
      "text/plain": [
       "        0     1     2    3      4     5      6        7     8     9     10  \\\n",
       "0      7.4  0.70  0.00  1.9  0.076  11.0   34.0  0.99780  3.51  0.56   9.4   \n",
       "1      7.8  0.88  0.00  2.6  0.098  25.0   67.0  0.99680  3.20  0.68   9.8   \n",
       "2      7.8  0.76  0.04  2.3  0.092  15.0   54.0  0.99700  3.26  0.65   9.8   \n",
       "3     11.2  0.28  0.56  1.9  0.075  17.0   60.0  0.99800  3.16  0.58   9.8   \n",
       "4      7.4  0.70  0.00  1.9  0.076  11.0   34.0  0.99780  3.51  0.56   9.4   \n",
       "...    ...   ...   ...  ...    ...   ...    ...      ...   ...   ...   ...   \n",
       "6492   6.2  0.21  0.29  1.6  0.039  24.0   92.0  0.99114  3.27  0.50  11.2   \n",
       "6493   6.6  0.32  0.36  8.0  0.047  57.0  168.0  0.99490  3.15  0.46   9.6   \n",
       "6494   6.5  0.24  0.19  1.2  0.041  30.0  111.0  0.99254  2.99  0.46   9.4   \n",
       "6495   5.5  0.29  0.30  1.1  0.022  20.0  110.0  0.98869  3.34  0.38  12.8   \n",
       "6496   6.0  0.21  0.38  0.8  0.020  22.0   98.0  0.98941  3.26  0.32  11.8   \n",
       "\n",
       "      11  12  \n",
       "0      5   1  \n",
       "1      5   1  \n",
       "2      5   1  \n",
       "3      6   1  \n",
       "4      5   1  \n",
       "...   ..  ..  \n",
       "6492   6   0  \n",
       "6493   5   0  \n",
       "6494   6   0  \n",
       "6495   7   0  \n",
       "6496   6   0  \n",
       "\n",
       "[6497 rows x 13 columns]"
      ]
     },
     "execution_count": 2,
     "metadata": {},
     "output_type": "execute_result"
    }
   ],
   "source": [
    "data = pd.read_csv(\"https://raw.githubusercontent.com/haram4th/ADsP/main/wine.csv\", header=None)\n",
    "data"
   ]
  },
  {
   "cell_type": "code",
   "execution_count": 4,
   "id": "feb8d625",
   "metadata": {},
   "outputs": [
    {
     "name": "stdout",
     "output_type": "stream",
     "text": [
      "<class 'pandas.core.frame.DataFrame'>\n",
      "RangeIndex: 6497 entries, 0 to 6496\n",
      "Data columns (total 13 columns):\n",
      " #   Column  Non-Null Count  Dtype  \n",
      "---  ------  --------------  -----  \n",
      " 0   0       6497 non-null   float64\n",
      " 1   1       6497 non-null   float64\n",
      " 2   2       6497 non-null   float64\n",
      " 3   3       6497 non-null   float64\n",
      " 4   4       6497 non-null   float64\n",
      " 5   5       6497 non-null   float64\n",
      " 6   6       6497 non-null   float64\n",
      " 7   7       6497 non-null   float64\n",
      " 8   8       6497 non-null   float64\n",
      " 9   9       6497 non-null   float64\n",
      " 10  10      6497 non-null   float64\n",
      " 11  11      6497 non-null   int64  \n",
      " 12  12      6497 non-null   int64  \n",
      "dtypes: float64(11), int64(2)\n",
      "memory usage: 660.0 KB\n"
     ]
    }
   ],
   "source": [
    "data.info()"
   ]
  },
  {
   "cell_type": "code",
   "execution_count": 7,
   "id": "864d5747",
   "metadata": {},
   "outputs": [
    {
     "data": {
      "text/plain": [
       "<Axes: >"
      ]
     },
     "execution_count": 7,
     "metadata": {},
     "output_type": "execute_result"
    },
    {
     "data": {
      "image/png": "[encoded data removed]",
      "text/plain": [
       "<Figure size 640x480 with 1 Axes>"
      ]
     },
     "metadata": {},
     "output_type": "display_data"
    }
   ],
   "source": [
    "sns.boxplot(data.iloc[:,0:3])"
   ]
  },
  {
   "cell_type": "code",
   "execution_count": 8,
   "id": "4f29150f",
   "metadata": {},
   "outputs": [
    {
     "data": {
      "text/plain": [
       "12\n",
       "0    4898\n",
       "1    1599\n",
       "Name: count, dtype: int64"
      ]
     },
     "execution_count": 8,
     "metadata": {},
     "output_type": "execute_result"
    }
   ],
   "source": [
    "data[12].value_counts()"
   ]
  },
  {
   "cell_type": "code",
   "execution_count": 10,
   "id": "ac1fe001",
   "metadata": {},
   "outputs": [],
   "source": [
    "X = data.drop(12, axis=1)\n",
    "y = data[12]"
   ]
  },
  {
   "cell_type": "code",
   "execution_count": 11,
   "id": "15029dfc",
   "metadata": {},
   "outputs": [],
   "source": [
    "from sklearn.preprocessing import RobustScaler"
   ]
  },
  {
   "cell_type": "code",
   "execution_count": 12,
   "id": "5996e7f2",
   "metadata": {},
   "outputs": [
    {
     "data": {
      "text/plain": [
       "array([[ 0.30769231,  2.41176471, -2.21428571, ...,  0.29411765,\n",
       "        -0.5       , -1.        ],\n",
       "       [ 0.61538462,  3.47058824, -2.21428571, ...,  1.        ,\n",
       "        -0.27777778, -1.        ],\n",
       "       [ 0.61538462,  2.76470588, -1.92857143, ...,  0.82352941,\n",
       "        -0.27777778, -1.        ],\n",
       "       ...,\n",
       "       [-0.38461538, -0.29411765, -0.85714286, ..., -0.29411765,\n",
       "        -0.5       ,  0.        ],\n",
       "       [-1.15384615,  0.        , -0.07142857, ..., -0.76470588,\n",
       "         1.38888889,  1.        ],\n",
       "       [-0.76923077, -0.47058824,  0.5       , ..., -1.11764706,\n",
       "         0.83333333,  0.        ]])"
      ]
     },
     "execution_count": 12,
     "metadata": {},
     "output_type": "execute_result"
    }
   ],
   "source": [
    "rs = RobustScaler()\n",
    "X_scaled = rs.fit_transform(X)\n",
    "X_scaled"
   ]
  },
  {
   "cell_type": "code",
   "execution_count": 13,
   "id": "f688b5a2",
   "metadata": {},
   "outputs": [
    {
     "data": {
      "text/plain": [
       "0       1\n",
       "1       1\n",
       "2       1\n",
       "3       1\n",
       "4       1\n",
       "       ..\n",
       "6492    0\n",
       "6493    0\n",
       "6494    0\n",
       "6495    0\n",
       "6496    0\n",
       "Name: 12, Length: 6497, dtype: int64"
      ]
     },
     "execution_count": 13,
     "metadata": {},
     "output_type": "execute_result"
    }
   ],
   "source": [
    "y"
   ]
  },
  {
   "cell_type": "code",
   "execution_count": 14,
   "id": "02bb04ab",
   "metadata": {},
   "outputs": [],
   "source": [
    "from sklearn.model_selection import train_test_split"
   ]
  },
  {
   "cell_type": "code",
   "execution_count": 15,
   "id": "0e693adb",
   "metadata": {},
   "outputs": [],
   "source": [
    "X_train, X_valid, y_train, y_valid = train_test_split(X_scaled, y, test_size=0.4, stratify=y, random_state=10)\n",
    "X_valid, X_test, y_valid, y_test = train_test_split(X_valid, y_valid, test_size=0.5, stratify=y_valid, random_state=10)"
   ]
  },
  {
   "cell_type": "code",
   "execution_count": 28,
   "id": "1f026a00",
   "metadata": {},
   "outputs": [],
   "source": [
    "from tensorflow.keras.models import Sequential, Model\n",
    "from tensorflow.keras.layers import Dense, Input\n",
    "from sklearn.metrics import classification_report"
   ]
  },
  {
   "cell_type": "code",
   "execution_count": 25,
   "id": "2d715f4f",
   "metadata": {},
   "outputs": [
    {
     "name": "stdout",
     "output_type": "stream",
     "text": [
      "Model: \"sequential_2\"\n",
      "_________________________________________________________________\n",
      " Layer (type)                Output Shape              Param #   \n",
      "=================================================================\n",
      " dense_1 (Dense)             (None, 32)                416       \n",
      "                                                                 \n",
      " dense_2 (Dense)             (None, 16)                528       \n",
      "                                                                 \n",
      " dense_3 (Dense)             (None, 8)                 136       \n",
      "                                                                 \n",
      " dense_4 (Dense)             (None, 1)                 9         \n",
      "                                                                 \n",
      "=================================================================\n",
      "Total params: 1,089\n",
      "Trainable params: 1,089\n",
      "Non-trainable params: 0\n",
      "_________________________________________________________________\n"
     ]
    }
   ],
   "source": [
    "model = Sequential()\n",
    "model.add(Dense(32, input_dim=X_train.shape[1], activation='relu'))\n",
    "model.add(Dense(16, activation='relu'))\n",
    "model.add(Dense(8, activation='relu'))\n",
    "model.add(Dense(1, activation='sigmoid'))\n",
    "model.summary()"
   ]
  },
  {
   "cell_type": "code",
   "execution_count": 26,
   "id": "bdfeb8cc",
   "metadata": {},
   "outputs": [
    {
     "name": "stdout",
     "output_type": "stream",
     "text": [
      "Epoch 1/100\n"
     ]
    },
    {
     "name": "stderr",
     "output_type": "stream",
     "text": [
      "2024-09-10 10:38:52.618198: I tensorflow/core/grappler/optimizers/custom_graph_optimizer_registry.cc:114] Plugin optimizer for device_type GPU is enabled.\n",
      "2024-09-10 10:38:52.707057: I tensorflow/core/common_runtime/pluggable_device/pluggable_device_factory.cc:306] Could not identify NUMA node of platform GPU ID 0, defaulting to 0. Your kernel may not have been built with NUMA support.\n",
      "2024-09-10 10:38:52.707286: I tensorflow/core/common_runtime/pluggable_device/pluggable_device_factory.cc:272] Created TensorFlow device (/job:localhost/replica:0/task:0/device:GPU:0 with 15603 MB memory) -> physical PluggableDevice (device: 0, name: DML, pci bus id: <undefined>)\n"
     ]
    },
    {
     "name": "stdout",
     "output_type": "stream",
     "text": [
      "8/8 [==============================] - 1s 59ms/step - loss: 0.6195 - accuracy: 0.7532 - val_loss: 0.5754 - val_accuracy: 0.7814\n",
      "Epoch 2/100\n",
      "8/8 [==============================] - ETA: 0s - loss: 0.5342 - accuracy: 0.7999"
     ]
    },
    {
     "name": "stderr",
     "output_type": "stream",
     "text": [
      "2024-09-10 10:38:53.210930: I tensorflow/core/grappler/optimizers/custom_graph_optimizer_registry.cc:114] Plugin optimizer for device_type GPU is enabled.\n",
      "2024-09-10 10:38:53.243058: I tensorflow/core/common_runtime/pluggable_device/pluggable_device_factory.cc:306] Could not identify NUMA node of platform GPU ID 0, defaulting to 0. Your kernel may not have been built with NUMA support.\n",
      "2024-09-10 10:38:53.243123: I tensorflow/core/common_runtime/pluggable_device/pluggable_device_factory.cc:272] Created TensorFlow device (/job:localhost/replica:0/task:0/device:GPU:0 with 15603 MB memory) -> physical PluggableDevice (device: 0, name: DML, pci bus id: <undefined>)\n"
     ]
    },
    {
     "name": "stdout",
     "output_type": "stream",
     "text": [
      "8/8 [==============================] - 0s 25ms/step - loss: 0.5342 - accuracy: 0.7999 - val_loss: 0.4953 - val_accuracy: 0.8406\n",
      "Epoch 3/100\n",
      "8/8 [==============================] - 0s 27ms/step - loss: 0.4563 - accuracy: 0.8697 - val_loss: 0.4199 - val_accuracy: 0.9038\n",
      "Epoch 4/100\n",
      "8/8 [==============================] - 0s 23ms/step - loss: 0.3837 - accuracy: 0.9271 - val_loss: 0.3506 - val_accuracy: 0.9461\n",
      "Epoch 5/100\n",
      "8/8 [==============================] - 0s 23ms/step - loss: 0.3174 - accuracy: 0.9605 - val_loss: 0.2882 - val_accuracy: 0.9723\n",
      "Epoch 6/100\n",
      "8/8 [==============================] - 0s 24ms/step - loss: 0.2585 - accuracy: 0.9746 - val_loss: 0.2341 - val_accuracy: 0.9792\n",
      "Epoch 7/100\n",
      "8/8 [==============================] - 0s 26ms/step - loss: 0.2074 - accuracy: 0.9805 - val_loss: 0.1891 - val_accuracy: 0.9838\n",
      "Epoch 8/100\n",
      "8/8 [==============================] - 0s 25ms/step - loss: 0.1660 - accuracy: 0.9831 - val_loss: 0.1528 - val_accuracy: 0.9861\n",
      "Epoch 9/100\n",
      "8/8 [==============================] - 0s 26ms/step - loss: 0.1331 - accuracy: 0.9854 - val_loss: 0.1248 - val_accuracy: 0.9869\n",
      "Epoch 10/100\n",
      "8/8 [==============================] - 0s 25ms/step - loss: 0.1079 - accuracy: 0.9874 - val_loss: 0.1040 - val_accuracy: 0.9892\n",
      "Epoch 11/100\n",
      "8/8 [==============================] - 0s 27ms/step - loss: 0.0894 - accuracy: 0.9887 - val_loss: 0.0885 - val_accuracy: 0.9892\n",
      "Epoch 12/100\n",
      "8/8 [==============================] - 0s 25ms/step - loss: 0.0758 - accuracy: 0.9900 - val_loss: 0.0771 - val_accuracy: 0.9892\n",
      "Epoch 13/100\n",
      "8/8 [==============================] - 0s 26ms/step - loss: 0.0655 - accuracy: 0.9903 - val_loss: 0.0686 - val_accuracy: 0.9892\n",
      "Epoch 14/100\n",
      "8/8 [==============================] - 0s 26ms/step - loss: 0.0580 - accuracy: 0.9908 - val_loss: 0.0621 - val_accuracy: 0.9892\n",
      "Epoch 15/100\n",
      "8/8 [==============================] - 0s 36ms/step - loss: 0.0520 - accuracy: 0.9915 - val_loss: 0.0571 - val_accuracy: 0.9892\n",
      "Epoch 16/100\n",
      "8/8 [==============================] - 0s 28ms/step - loss: 0.0474 - accuracy: 0.9920 - val_loss: 0.0531 - val_accuracy: 0.9900\n",
      "Epoch 17/100\n",
      "8/8 [==============================] - 0s 27ms/step - loss: 0.0435 - accuracy: 0.9923 - val_loss: 0.0500 - val_accuracy: 0.9915\n",
      "Epoch 18/100\n",
      "8/8 [==============================] - 0s 26ms/step - loss: 0.0404 - accuracy: 0.9923 - val_loss: 0.0474 - val_accuracy: 0.9915\n",
      "Epoch 19/100\n",
      "8/8 [==============================] - 0s 26ms/step - loss: 0.0378 - accuracy: 0.9926 - val_loss: 0.0454 - val_accuracy: 0.9923\n",
      "Epoch 20/100\n",
      "8/8 [==============================] - 0s 24ms/step - loss: 0.0356 - accuracy: 0.9928 - val_loss: 0.0437 - val_accuracy: 0.9923\n",
      "Epoch 21/100\n",
      "8/8 [==============================] - 0s 27ms/step - loss: 0.0338 - accuracy: 0.9931 - val_loss: 0.0423 - val_accuracy: 0.9931\n",
      "Epoch 22/100\n",
      "8/8 [==============================] - 0s 26ms/step - loss: 0.0322 - accuracy: 0.9933 - val_loss: 0.0410 - val_accuracy: 0.9931\n",
      "Epoch 23/100\n",
      "8/8 [==============================] - 0s 22ms/step - loss: 0.0308 - accuracy: 0.9938 - val_loss: 0.0402 - val_accuracy: 0.9938\n",
      "Epoch 24/100\n",
      "8/8 [==============================] - 0s 23ms/step - loss: 0.0296 - accuracy: 0.9944 - val_loss: 0.0393 - val_accuracy: 0.9938\n",
      "Epoch 25/100\n",
      "8/8 [==============================] - 0s 23ms/step - loss: 0.0287 - accuracy: 0.9949 - val_loss: 0.0386 - val_accuracy: 0.9938\n",
      "Epoch 26/100\n",
      "8/8 [==============================] - 0s 23ms/step - loss: 0.0278 - accuracy: 0.9951 - val_loss: 0.0379 - val_accuracy: 0.9938\n",
      "Epoch 27/100\n",
      "8/8 [==============================] - 0s 35ms/step - loss: 0.0270 - accuracy: 0.9951 - val_loss: 0.0373 - val_accuracy: 0.9938\n",
      "Epoch 28/100\n",
      "8/8 [==============================] - 0s 35ms/step - loss: 0.0262 - accuracy: 0.9954 - val_loss: 0.0368 - val_accuracy: 0.9938\n",
      "Epoch 29/100\n",
      "8/8 [==============================] - 0s 24ms/step - loss: 0.0256 - accuracy: 0.9956 - val_loss: 0.0365 - val_accuracy: 0.9938\n",
      "Epoch 30/100\n",
      "8/8 [==============================] - 0s 24ms/step - loss: 0.0250 - accuracy: 0.9956 - val_loss: 0.0361 - val_accuracy: 0.9938\n",
      "Epoch 31/100\n",
      "8/8 [==============================] - 0s 25ms/step - loss: 0.0244 - accuracy: 0.9956 - val_loss: 0.0358 - val_accuracy: 0.9938\n",
      "Epoch 32/100\n",
      "8/8 [==============================] - 0s 21ms/step - loss: 0.0238 - accuracy: 0.9956 - val_loss: 0.0355 - val_accuracy: 0.9938\n",
      "Epoch 33/100\n",
      "8/8 [==============================] - 0s 23ms/step - loss: 0.0233 - accuracy: 0.9956 - val_loss: 0.0351 - val_accuracy: 0.9938\n",
      "Epoch 34/100\n",
      "8/8 [==============================] - 0s 23ms/step - loss: 0.0228 - accuracy: 0.9956 - val_loss: 0.0348 - val_accuracy: 0.9938\n",
      "Epoch 35/100\n",
      "8/8 [==============================] - 0s 24ms/step - loss: 0.0223 - accuracy: 0.9959 - val_loss: 0.0346 - val_accuracy: 0.9938\n",
      "Epoch 36/100\n",
      "8/8 [==============================] - 0s 24ms/step - loss: 0.0219 - accuracy: 0.9964 - val_loss: 0.0346 - val_accuracy: 0.9938\n",
      "Epoch 37/100\n",
      "8/8 [==============================] - 0s 23ms/step - loss: 0.0215 - accuracy: 0.9964 - val_loss: 0.0344 - val_accuracy: 0.9938\n",
      "Epoch 38/100\n",
      "8/8 [==============================] - 0s 21ms/step - loss: 0.0211 - accuracy: 0.9964 - val_loss: 0.0341 - val_accuracy: 0.9938\n",
      "Epoch 39/100\n",
      "8/8 [==============================] - 0s 21ms/step - loss: 0.0207 - accuracy: 0.9964 - val_loss: 0.0338 - val_accuracy: 0.9938\n",
      "Epoch 40/100\n",
      "8/8 [==============================] - 0s 25ms/step - loss: 0.0203 - accuracy: 0.9964 - val_loss: 0.0337 - val_accuracy: 0.9938\n",
      "Epoch 41/100\n",
      "8/8 [==============================] - 0s 24ms/step - loss: 0.0200 - accuracy: 0.9967 - val_loss: 0.0336 - val_accuracy: 0.9938\n",
      "Epoch 42/100\n",
      "8/8 [==============================] - 0s 24ms/step - loss: 0.0197 - accuracy: 0.9967 - val_loss: 0.0335 - val_accuracy: 0.9938\n",
      "Epoch 43/100\n",
      "8/8 [==============================] - 0s 24ms/step - loss: 0.0193 - accuracy: 0.9967 - val_loss: 0.0332 - val_accuracy: 0.9938\n",
      "Epoch 44/100\n",
      "8/8 [==============================] - 0s 24ms/step - loss: 0.0190 - accuracy: 0.9967 - val_loss: 0.0330 - val_accuracy: 0.9938\n",
      "Epoch 45/100\n",
      "8/8 [==============================] - 0s 24ms/step - loss: 0.0187 - accuracy: 0.9967 - val_loss: 0.0329 - val_accuracy: 0.9938\n",
      "Epoch 46/100\n",
      "8/8 [==============================] - 0s 23ms/step - loss: 0.0184 - accuracy: 0.9967 - val_loss: 0.0328 - val_accuracy: 0.9938\n",
      "Epoch 47/100\n",
      "8/8 [==============================] - 0s 21ms/step - loss: 0.0181 - accuracy: 0.9967 - val_loss: 0.0329 - val_accuracy: 0.9938\n",
      "Epoch 48/100\n",
      "8/8 [==============================] - 0s 23ms/step - loss: 0.0178 - accuracy: 0.9967 - val_loss: 0.0327 - val_accuracy: 0.9938\n",
      "Epoch 49/100\n",
      "8/8 [==============================] - 0s 24ms/step - loss: 0.0176 - accuracy: 0.9967 - val_loss: 0.0325 - val_accuracy: 0.9938\n",
      "Epoch 50/100\n",
      "8/8 [==============================] - 0s 30ms/step - loss: 0.0173 - accuracy: 0.9967 - val_loss: 0.0324 - val_accuracy: 0.9938\n",
      "Epoch 51/100\n",
      "8/8 [==============================] - 0s 28ms/step - loss: 0.0171 - accuracy: 0.9967 - val_loss: 0.0325 - val_accuracy: 0.9938\n",
      "Epoch 52/100\n",
      "8/8 [==============================] - 0s 23ms/step - loss: 0.0168 - accuracy: 0.9967 - val_loss: 0.0323 - val_accuracy: 0.9938\n",
      "Epoch 53/100\n",
      "8/8 [==============================] - 0s 32ms/step - loss: 0.0166 - accuracy: 0.9967 - val_loss: 0.0321 - val_accuracy: 0.9938\n",
      "Epoch 54/100\n",
      "8/8 [==============================] - 0s 29ms/step - loss: 0.0164 - accuracy: 0.9967 - val_loss: 0.0321 - val_accuracy: 0.9946\n",
      "Epoch 55/100\n",
      "8/8 [==============================] - 0s 27ms/step - loss: 0.0161 - accuracy: 0.9967 - val_loss: 0.0321 - val_accuracy: 0.9938\n",
      "Epoch 56/100\n",
      "8/8 [==============================] - 0s 25ms/step - loss: 0.0159 - accuracy: 0.9969 - val_loss: 0.0320 - val_accuracy: 0.9938\n",
      "Epoch 57/100\n",
      "8/8 [==============================] - 0s 24ms/step - loss: 0.0157 - accuracy: 0.9969 - val_loss: 0.0316 - val_accuracy: 0.9946\n",
      "Epoch 58/100\n",
      "8/8 [==============================] - 0s 28ms/step - loss: 0.0155 - accuracy: 0.9969 - val_loss: 0.0318 - val_accuracy: 0.9938\n",
      "Epoch 59/100\n",
      "8/8 [==============================] - 0s 22ms/step - loss: 0.0152 - accuracy: 0.9969 - val_loss: 0.0316 - val_accuracy: 0.9946\n",
      "Epoch 60/100\n"
     ]
    },
    {
     "name": "stdout",
     "output_type": "stream",
     "text": [
      "8/8 [==============================] - 0s 28ms/step - loss: 0.0150 - accuracy: 0.9969 - val_loss: 0.0315 - val_accuracy: 0.9946\n",
      "Epoch 61/100\n",
      "8/8 [==============================] - 0s 37ms/step - loss: 0.0148 - accuracy: 0.9969 - val_loss: 0.0314 - val_accuracy: 0.9946\n",
      "Epoch 62/100\n",
      "8/8 [==============================] - 0s 24ms/step - loss: 0.0146 - accuracy: 0.9972 - val_loss: 0.0312 - val_accuracy: 0.9946\n",
      "Epoch 63/100\n",
      "8/8 [==============================] - 0s 36ms/step - loss: 0.0144 - accuracy: 0.9972 - val_loss: 0.0310 - val_accuracy: 0.9954\n",
      "Epoch 64/100\n",
      "8/8 [==============================] - 0s 24ms/step - loss: 0.0143 - accuracy: 0.9969 - val_loss: 0.0314 - val_accuracy: 0.9946\n",
      "Epoch 65/100\n",
      "8/8 [==============================] - 0s 35ms/step - loss: 0.0140 - accuracy: 0.9972 - val_loss: 0.0310 - val_accuracy: 0.9954\n",
      "Epoch 66/100\n",
      "8/8 [==============================] - 0s 24ms/step - loss: 0.0138 - accuracy: 0.9974 - val_loss: 0.0308 - val_accuracy: 0.9954\n",
      "Epoch 67/100\n",
      "8/8 [==============================] - 0s 37ms/step - loss: 0.0136 - accuracy: 0.9974 - val_loss: 0.0308 - val_accuracy: 0.9954\n",
      "Epoch 68/100\n",
      "8/8 [==============================] - 0s 25ms/step - loss: 0.0134 - accuracy: 0.9974 - val_loss: 0.0309 - val_accuracy: 0.9954\n",
      "Epoch 69/100\n",
      "8/8 [==============================] - 0s 33ms/step - loss: 0.0133 - accuracy: 0.9974 - val_loss: 0.0308 - val_accuracy: 0.9954\n",
      "Epoch 70/100\n",
      "8/8 [==============================] - 0s 27ms/step - loss: 0.0131 - accuracy: 0.9974 - val_loss: 0.0308 - val_accuracy: 0.9954\n",
      "Epoch 71/100\n",
      "8/8 [==============================] - 0s 30ms/step - loss: 0.0129 - accuracy: 0.9974 - val_loss: 0.0308 - val_accuracy: 0.9954\n",
      "Epoch 72/100\n",
      "8/8 [==============================] - 0s 32ms/step - loss: 0.0128 - accuracy: 0.9974 - val_loss: 0.0305 - val_accuracy: 0.9954\n",
      "Epoch 73/100\n",
      "8/8 [==============================] - 0s 22ms/step - loss: 0.0126 - accuracy: 0.9974 - val_loss: 0.0303 - val_accuracy: 0.9954\n",
      "Epoch 74/100\n",
      "8/8 [==============================] - 0s 29ms/step - loss: 0.0125 - accuracy: 0.9974 - val_loss: 0.0305 - val_accuracy: 0.9954\n",
      "Epoch 75/100\n",
      "8/8 [==============================] - 0s 35ms/step - loss: 0.0123 - accuracy: 0.9979 - val_loss: 0.0306 - val_accuracy: 0.9954\n",
      "Epoch 76/100\n",
      "8/8 [==============================] - 0s 24ms/step - loss: 0.0122 - accuracy: 0.9979 - val_loss: 0.0303 - val_accuracy: 0.9954\n",
      "Epoch 77/100\n",
      "8/8 [==============================] - 0s 26ms/step - loss: 0.0120 - accuracy: 0.9974 - val_loss: 0.0301 - val_accuracy: 0.9954\n",
      "Epoch 78/100\n",
      "8/8 [==============================] - 0s 39ms/step - loss: 0.0119 - accuracy: 0.9974 - val_loss: 0.0300 - val_accuracy: 0.9954\n",
      "Epoch 79/100\n",
      "8/8 [==============================] - 0s 29ms/step - loss: 0.0117 - accuracy: 0.9974 - val_loss: 0.0298 - val_accuracy: 0.9954\n",
      "Epoch 80/100\n",
      "8/8 [==============================] - 0s 25ms/step - loss: 0.0116 - accuracy: 0.9977 - val_loss: 0.0300 - val_accuracy: 0.9954\n",
      "Epoch 81/100\n",
      "8/8 [==============================] - 0s 25ms/step - loss: 0.0115 - accuracy: 0.9979 - val_loss: 0.0301 - val_accuracy: 0.9954\n",
      "Epoch 82/100\n",
      "8/8 [==============================] - 0s 25ms/step - loss: 0.0113 - accuracy: 0.9979 - val_loss: 0.0299 - val_accuracy: 0.9954\n",
      "Epoch 83/100\n",
      "8/8 [==============================] - 0s 21ms/step - loss: 0.0112 - accuracy: 0.9979 - val_loss: 0.0294 - val_accuracy: 0.9962\n",
      "Epoch 84/100\n",
      "8/8 [==============================] - 0s 23ms/step - loss: 0.0111 - accuracy: 0.9979 - val_loss: 0.0295 - val_accuracy: 0.9954\n",
      "Epoch 85/100\n",
      "8/8 [==============================] - 0s 35ms/step - loss: 0.0109 - accuracy: 0.9979 - val_loss: 0.0295 - val_accuracy: 0.9954\n",
      "Epoch 86/100\n",
      "8/8 [==============================] - 0s 34ms/step - loss: 0.0108 - accuracy: 0.9979 - val_loss: 0.0296 - val_accuracy: 0.9954\n",
      "Epoch 87/100\n",
      "8/8 [==============================] - 0s 29ms/step - loss: 0.0106 - accuracy: 0.9982 - val_loss: 0.0295 - val_accuracy: 0.9954\n",
      "Epoch 88/100\n",
      "8/8 [==============================] - 0s 30ms/step - loss: 0.0105 - accuracy: 0.9982 - val_loss: 0.0293 - val_accuracy: 0.9954\n",
      "Epoch 89/100\n",
      "8/8 [==============================] - 0s 23ms/step - loss: 0.0104 - accuracy: 0.9982 - val_loss: 0.0292 - val_accuracy: 0.9954\n",
      "Epoch 90/100\n",
      "8/8 [==============================] - 0s 22ms/step - loss: 0.0103 - accuracy: 0.9982 - val_loss: 0.0293 - val_accuracy: 0.9954\n",
      "Epoch 91/100\n",
      "8/8 [==============================] - 0s 23ms/step - loss: 0.0102 - accuracy: 0.9982 - val_loss: 0.0289 - val_accuracy: 0.9962\n",
      "Epoch 92/100\n",
      "8/8 [==============================] - 0s 21ms/step - loss: 0.0100 - accuracy: 0.9982 - val_loss: 0.0292 - val_accuracy: 0.9954\n",
      "Epoch 93/100\n",
      "8/8 [==============================] - 0s 25ms/step - loss: 0.0099 - accuracy: 0.9982 - val_loss: 0.0292 - val_accuracy: 0.9954\n",
      "Epoch 94/100\n",
      "8/8 [==============================] - 0s 24ms/step - loss: 0.0098 - accuracy: 0.9982 - val_loss: 0.0289 - val_accuracy: 0.9962\n",
      "Epoch 95/100\n",
      "8/8 [==============================] - 0s 36ms/step - loss: 0.0097 - accuracy: 0.9982 - val_loss: 0.0288 - val_accuracy: 0.9954\n",
      "Epoch 96/100\n",
      "8/8 [==============================] - 0s 33ms/step - loss: 0.0095 - accuracy: 0.9982 - val_loss: 0.0289 - val_accuracy: 0.9954\n",
      "Epoch 97/100\n",
      "8/8 [==============================] - 0s 22ms/step - loss: 0.0094 - accuracy: 0.9982 - val_loss: 0.0291 - val_accuracy: 0.9954\n",
      "Epoch 98/100\n",
      "8/8 [==============================] - 0s 35ms/step - loss: 0.0093 - accuracy: 0.9985 - val_loss: 0.0288 - val_accuracy: 0.9954\n",
      "Epoch 99/100\n",
      "8/8 [==============================] - 0s 27ms/step - loss: 0.0091 - accuracy: 0.9982 - val_loss: 0.0287 - val_accuracy: 0.9962\n",
      "Epoch 100/100\n",
      "8/8 [==============================] - 0s 24ms/step - loss: 0.0090 - accuracy: 0.9985 - val_loss: 0.0288 - val_accuracy: 0.9954\n"
     ]
    }
   ],
   "source": [
    "model.compile(loss='binary_crossentropy', optimizer='adam', metrics=['accuracy'])\n",
    "history = model.fit(X_train, y_train, epochs=100, batch_size=500, validation_data=(X_valid, y_valid))"
   ]
  },
  {
   "cell_type": "code",
   "execution_count": 29,
   "id": "ab09803e",
   "metadata": {},
   "outputs": [
    {
     "name": "stdout",
     "output_type": "stream",
     "text": [
      "41/41 [==============================] - 0s 5ms/step\n",
      "              precision    recall  f1-score   support\n",
      "\n",
      "           0       0.99      1.00      1.00       980\n",
      "           1       1.00      0.98      0.99       320\n",
      "\n",
      "    accuracy                           1.00      1300\n",
      "   macro avg       1.00      0.99      0.99      1300\n",
      "weighted avg       1.00      1.00      1.00      1300\n",
      "\n"
     ]
    }
   ],
   "source": [
    "pred = model.predict(X_test)\n",
    "pred = pd.DataFrame(pred)\n",
    "pred = pred[0].apply(lambda x: 1 if x > 0.5 else 0)\n",
    "print(classification_report(y_test, pred))"
   ]
  },
  {
   "cell_type": "code",
   "execution_count": 30,
   "id": "d9ad6447",
   "metadata": {},
   "outputs": [
    {
     "data": {
      "text/plain": [
       "dict_keys(['loss', 'accuracy', 'val_loss', 'val_accuracy'])"
      ]
     },
     "execution_count": 30,
     "metadata": {},
     "output_type": "execute_result"
    }
   ],
   "source": [
    "history.history.keys()"
   ]
  },
  {
   "cell_type": "code",
   "execution_count": 32,
   "id": "786dafa8",
   "metadata": {},
   "outputs": [
    {
     "data": {
      "image/png": "[encoded data removed]",
      "text/plain": [
       "<Figure size 800x400 with 1 Axes>"
      ]
     },
     "metadata": {},
     "output_type": "display_data"
    }
   ],
   "source": [
    "plt.figure(figsize=(8, 4))\n",
    "plt.plot(history.history['loss'])\n",
    "plt.plot(history.history['val_loss'])\n",
    "plt.xlabel(\"epochs\")\n",
    "plt.ylabel(\"loss\")\n",
    "plt.legend(['train', 'valid'])\n",
    "plt.show()"
   ]
  },
  {
   "cell_type": "markdown",
   "id": "da023ad7",
   "metadata": {},
   "source": [
    "# EarlyStopping으로 학습 조기 중단 및 저장하기"
   ]
  },
  {
   "cell_type": "code",
   "execution_count": 34,
   "id": "8c95e43d",
   "metadata": {},
   "outputs": [],
   "source": [
    "from tensorflow.keras.callbacks import EarlyStopping, ModelCheckpoint"
   ]
  },
  {
   "cell_type": "code",
   "execution_count": 41,
   "id": "01b8d40c",
   "metadata": {},
   "outputs": [],
   "source": [
    "early_stopping_callback = EarlyStopping(monitor='val_loss', patience=50)"
   ]
  },
  {
   "cell_type": "markdown",
   "id": "8fd4b0bf",
   "metadata": {},
   "source": [
    "# ModelCheckpoint\n",
    "* 모델을 중간에 저장하는 옵션"
   ]
  },
  {
   "cell_type": "code",
   "execution_count": 45,
   "id": "bc53574e",
   "metadata": {},
   "outputs": [
    {
     "name": "stdout",
     "output_type": "stream",
     "text": [
      "Directory /model already exists.\n"
     ]
    }
   ],
   "source": [
    "import os\n",
    "if not os.path.exists(\"./model\"):\n",
    "    os.makedirs(\"./model\")\n",
    "    print(f\"Directory /model created.\")\n",
    "else:\n",
    "    print(f\"Directory /model already exists.\")"
   ]
  },
  {
   "cell_type": "code",
   "execution_count": 46,
   "id": "2a04dae8",
   "metadata": {},
   "outputs": [],
   "source": [
    "modelpath = \"./model/{epoch:03d}--{val_loss:.4f}.keras\"\n",
    "checkpointer = ModelCheckpoint(filepath=modelpath, monitor='val_loss', verbose=0, save_best_only=True)"
   ]
  },
  {
   "cell_type": "code",
   "execution_count": 47,
   "id": "28ab4eab",
   "metadata": {},
   "outputs": [
    {
     "name": "stdout",
     "output_type": "stream",
     "text": [
      "Epoch 1/1000\n",
      "8/8 [==============================] - 0s 44ms/step - loss: 0.0017 - accuracy: 0.9990 - val_loss: 0.0356 - val_accuracy: 0.9962\n",
      "Epoch 2/1000\n",
      "8/8 [==============================] - 0s 27ms/step - loss: 0.0017 - accuracy: 0.9987 - val_loss: 0.0357 - val_accuracy: 0.9962\n",
      "Epoch 3/1000\n",
      "8/8 [==============================] - 0s 27ms/step - loss: 0.0017 - accuracy: 0.9987 - val_loss: 0.0357 - val_accuracy: 0.9962\n",
      "Epoch 4/1000\n",
      "8/8 [==============================] - 0s 29ms/step - loss: 0.0017 - accuracy: 0.9990 - val_loss: 0.0360 - val_accuracy: 0.9962\n",
      "Epoch 5/1000\n",
      "8/8 [==============================] - 0s 25ms/step - loss: 0.0017 - accuracy: 0.9990 - val_loss: 0.0359 - val_accuracy: 0.9962\n",
      "Epoch 6/1000\n",
      "8/8 [==============================] - 0s 24ms/step - loss: 0.0016 - accuracy: 0.9990 - val_loss: 0.0360 - val_accuracy: 0.9962\n",
      "Epoch 7/1000\n",
      "8/8 [==============================] - 0s 25ms/step - loss: 0.0016 - accuracy: 0.9990 - val_loss: 0.0361 - val_accuracy: 0.9962\n",
      "Epoch 8/1000\n",
      "8/8 [==============================] - 0s 23ms/step - loss: 0.0016 - accuracy: 0.9990 - val_loss: 0.0364 - val_accuracy: 0.9962\n",
      "Epoch 9/1000\n",
      "8/8 [==============================] - 0s 27ms/step - loss: 0.0016 - accuracy: 0.9990 - val_loss: 0.0363 - val_accuracy: 0.9969\n",
      "Epoch 10/1000\n",
      "8/8 [==============================] - 0s 24ms/step - loss: 0.0016 - accuracy: 0.9992 - val_loss: 0.0365 - val_accuracy: 0.9969\n",
      "Epoch 11/1000\n",
      "8/8 [==============================] - 0s 28ms/step - loss: 0.0016 - accuracy: 0.9992 - val_loss: 0.0367 - val_accuracy: 0.9969\n",
      "Epoch 12/1000\n",
      "8/8 [==============================] - 0s 25ms/step - loss: 0.0015 - accuracy: 0.9990 - val_loss: 0.0366 - val_accuracy: 0.9969\n",
      "Epoch 13/1000\n",
      "8/8 [==============================] - 0s 27ms/step - loss: 0.0015 - accuracy: 0.9990 - val_loss: 0.0367 - val_accuracy: 0.9969\n",
      "Epoch 14/1000\n",
      "8/8 [==============================] - 0s 28ms/step - loss: 0.0015 - accuracy: 0.9990 - val_loss: 0.0369 - val_accuracy: 0.9969\n",
      "Epoch 15/1000\n",
      "8/8 [==============================] - 0s 27ms/step - loss: 0.0015 - accuracy: 0.9990 - val_loss: 0.0371 - val_accuracy: 0.9969\n",
      "Epoch 16/1000\n",
      "8/8 [==============================] - 0s 28ms/step - loss: 0.0014 - accuracy: 0.9992 - val_loss: 0.0371 - val_accuracy: 0.9969\n",
      "Epoch 17/1000\n",
      "8/8 [==============================] - 0s 25ms/step - loss: 0.0015 - accuracy: 0.9992 - val_loss: 0.0373 - val_accuracy: 0.9969\n",
      "Epoch 18/1000\n",
      "8/8 [==============================] - 0s 37ms/step - loss: 0.0015 - accuracy: 0.9990 - val_loss: 0.0373 - val_accuracy: 0.9969\n",
      "Epoch 19/1000\n",
      "8/8 [==============================] - 0s 34ms/step - loss: 0.0014 - accuracy: 0.9992 - val_loss: 0.0375 - val_accuracy: 0.9969\n",
      "Epoch 20/1000\n",
      "8/8 [==============================] - 0s 25ms/step - loss: 0.0014 - accuracy: 0.9992 - val_loss: 0.0376 - val_accuracy: 0.9969\n",
      "Epoch 21/1000\n",
      "8/8 [==============================] - 0s 24ms/step - loss: 0.0014 - accuracy: 0.9992 - val_loss: 0.0378 - val_accuracy: 0.9969\n",
      "Epoch 22/1000\n",
      "8/8 [==============================] - 0s 23ms/step - loss: 0.0014 - accuracy: 0.9992 - val_loss: 0.0378 - val_accuracy: 0.9969\n",
      "Epoch 23/1000\n",
      "8/8 [==============================] - 0s 27ms/step - loss: 0.0014 - accuracy: 0.9992 - val_loss: 0.0380 - val_accuracy: 0.9969\n",
      "Epoch 24/1000\n",
      "8/8 [==============================] - 0s 38ms/step - loss: 0.0013 - accuracy: 0.9992 - val_loss: 0.0380 - val_accuracy: 0.9969\n",
      "Epoch 25/1000\n",
      "8/8 [==============================] - 0s 34ms/step - loss: 0.0014 - accuracy: 0.9990 - val_loss: 0.0379 - val_accuracy: 0.9969\n",
      "Epoch 26/1000\n",
      "8/8 [==============================] - 0s 25ms/step - loss: 0.0013 - accuracy: 0.9992 - val_loss: 0.0381 - val_accuracy: 0.9969\n",
      "Epoch 27/1000\n",
      "8/8 [==============================] - 0s 21ms/step - loss: 0.0013 - accuracy: 0.9992 - val_loss: 0.0384 - val_accuracy: 0.9969\n",
      "Epoch 28/1000\n",
      "8/8 [==============================] - 0s 25ms/step - loss: 0.0013 - accuracy: 0.9992 - val_loss: 0.0387 - val_accuracy: 0.9969\n",
      "Epoch 29/1000\n",
      "8/8 [==============================] - 0s 38ms/step - loss: 0.0013 - accuracy: 0.9992 - val_loss: 0.0386 - val_accuracy: 0.9969\n",
      "Epoch 30/1000\n",
      "8/8 [==============================] - 0s 32ms/step - loss: 0.0013 - accuracy: 0.9990 - val_loss: 0.0386 - val_accuracy: 0.9969\n",
      "Epoch 31/1000\n",
      "8/8 [==============================] - 0s 25ms/step - loss: 0.0012 - accuracy: 0.9992 - val_loss: 0.0388 - val_accuracy: 0.9969\n",
      "Epoch 32/1000\n",
      "8/8 [==============================] - 0s 25ms/step - loss: 0.0012 - accuracy: 0.9992 - val_loss: 0.0390 - val_accuracy: 0.9969\n",
      "Epoch 33/1000\n",
      "8/8 [==============================] - 0s 24ms/step - loss: 0.0012 - accuracy: 0.9992 - val_loss: 0.0391 - val_accuracy: 0.9969\n",
      "Epoch 34/1000\n",
      "8/8 [==============================] - 0s 24ms/step - loss: 0.0012 - accuracy: 0.9992 - val_loss: 0.0391 - val_accuracy: 0.9969\n",
      "Epoch 35/1000\n",
      "8/8 [==============================] - 0s 23ms/step - loss: 0.0012 - accuracy: 0.9992 - val_loss: 0.0392 - val_accuracy: 0.9969\n",
      "Epoch 36/1000\n",
      "8/8 [==============================] - 0s 24ms/step - loss: 0.0012 - accuracy: 0.9992 - val_loss: 0.0393 - val_accuracy: 0.9969\n",
      "Epoch 37/1000\n",
      "8/8 [==============================] - 0s 35ms/step - loss: 0.0011 - accuracy: 0.9992 - val_loss: 0.0394 - val_accuracy: 0.9969\n",
      "Epoch 38/1000\n",
      "8/8 [==============================] - 0s 34ms/step - loss: 0.0011 - accuracy: 0.9992 - val_loss: 0.0396 - val_accuracy: 0.9969\n",
      "Epoch 39/1000\n",
      "8/8 [==============================] - 0s 25ms/step - loss: 0.0011 - accuracy: 0.9992 - val_loss: 0.0397 - val_accuracy: 0.9969\n",
      "Epoch 40/1000\n",
      "8/8 [==============================] - 0s 24ms/step - loss: 0.0011 - accuracy: 0.9992 - val_loss: 0.0399 - val_accuracy: 0.9969\n",
      "Epoch 41/1000\n",
      "8/8 [==============================] - 0s 24ms/step - loss: 0.0011 - accuracy: 0.9995 - val_loss: 0.0400 - val_accuracy: 0.9969\n",
      "Epoch 42/1000\n",
      "8/8 [==============================] - 0s 27ms/step - loss: 0.0011 - accuracy: 0.9995 - val_loss: 0.0401 - val_accuracy: 0.9969\n",
      "Epoch 43/1000\n",
      "8/8 [==============================] - 0s 36ms/step - loss: 0.0011 - accuracy: 0.9997 - val_loss: 0.0400 - val_accuracy: 0.9962\n",
      "Epoch 44/1000\n",
      "8/8 [==============================] - 0s 26ms/step - loss: 0.0011 - accuracy: 0.9997 - val_loss: 0.0401 - val_accuracy: 0.9962\n",
      "Epoch 45/1000\n",
      "8/8 [==============================] - 0s 24ms/step - loss: 0.0011 - accuracy: 0.9997 - val_loss: 0.0404 - val_accuracy: 0.9969\n",
      "Epoch 46/1000\n",
      "8/8 [==============================] - 0s 24ms/step - loss: 0.0010 - accuracy: 0.9995 - val_loss: 0.0406 - val_accuracy: 0.9962\n",
      "Epoch 47/1000\n",
      "8/8 [==============================] - 0s 25ms/step - loss: 0.0010 - accuracy: 0.9997 - val_loss: 0.0407 - val_accuracy: 0.9962\n",
      "Epoch 48/1000\n",
      "8/8 [==============================] - 0s 25ms/step - loss: 0.0010 - accuracy: 0.9997 - val_loss: 0.0407 - val_accuracy: 0.9962\n",
      "Epoch 49/1000\n",
      "8/8 [==============================] - 0s 22ms/step - loss: 0.0010 - accuracy: 0.9997 - val_loss: 0.0408 - val_accuracy: 0.9962\n",
      "Epoch 50/1000\n",
      "8/8 [==============================] - 0s 22ms/step - loss: 0.0010 - accuracy: 0.9995 - val_loss: 0.0408 - val_accuracy: 0.9962\n",
      "Epoch 51/1000\n",
      "8/8 [==============================] - 0s 25ms/step - loss: 0.0010 - accuracy: 0.9995 - val_loss: 0.0411 - val_accuracy: 0.9962\n"
     ]
    }
   ],
   "source": [
    "history = model.fit(X_train, y_train, epochs=1000, batch_size=500, validation_data=(X_valid, y_valid), \n",
    "                   callbacks=[early_stopping_callback, checkpointer])"
   ]
  },
  {
   "cell_type": "markdown",
   "id": "32b7790f",
   "metadata": {},
   "source": [
    "# 저장된 베스트 모델을 불러와서 테스트 하기"
   ]
  },
  {
   "cell_type": "code",
   "execution_count": 48,
   "id": "a33e4706",
   "metadata": {},
   "outputs": [],
   "source": [
    "from tensorflow.keras.models import load_model"
   ]
  },
  {
   "cell_type": "code",
   "execution_count": 49,
   "id": "3120afa6",
   "metadata": {},
   "outputs": [],
   "source": [
    "best_model = load_model(\"./model/001--0.0356.keras\")  # .h5"
   ]
  },
  {
   "cell_type": "code",
   "execution_count": 50,
   "id": "fe24fdc9",
   "metadata": {},
   "outputs": [
    {
     "name": "stdout",
     "output_type": "stream",
     "text": [
      "34/41 [=======================>......] - ETA: 0s"
     ]
    },
    {
     "name": "stderr",
     "output_type": "stream",
     "text": [
      "2024-09-10 11:32:03.837489: I tensorflow/core/grappler/optimizers/custom_graph_optimizer_registry.cc:114] Plugin optimizer for device_type GPU is enabled.\n"
     ]
    },
    {
     "name": "stdout",
     "output_type": "stream",
     "text": [
      "41/41 [==============================] - 0s 5ms/step\n",
      "              precision    recall  f1-score   support\n",
      "\n",
      "           0       0.99      1.00      1.00       980\n",
      "           1       1.00      0.98      0.99       320\n",
      "\n",
      "    accuracy                           1.00      1300\n",
      "   macro avg       1.00      0.99      0.99      1300\n",
      "weighted avg       1.00      1.00      1.00      1300\n",
      "\n"
     ]
    }
   ],
   "source": [
    "best_pred = best_model.predict(X_test)\n",
    "best_pred = pd.DataFrame(best_pred)\n",
    "best_pred = best_pred[0].apply(lambda x: 1 if x > 0.5 else 0)\n",
    "print(classification_report(y_test, best_pred))"
   ]
  },
  {
   "cell_type": "code",
   "execution_count": null,
   "id": "889ae643",
   "metadata": {},
   "outputs": [],
   "source": []
  },
  {
   "cell_type": "code",
   "execution_count": null,
   "id": "078aa075",
   "metadata": {},
   "outputs": [],
   "source": []
  },
  {
   "cell_type": "code",
   "execution_count": null,
   "id": "8ce6652a",
   "metadata": {},
   "outputs": [],
   "source": []
  },
  {
   "cell_type": "code",
   "execution_count": 18,
   "id": "0f09593e",
   "metadata": {},
   "outputs": [
    {
     "data": {
      "text/html": [
       "<div>\n",
       "<style scoped>\n",
       "    .dataframe tbody tr th:only-of-type {\n",
       "        vertical-align: middle;\n",
       "    }\n",
       "\n",
       "    .dataframe tbody tr th {\n",
       "        vertical-align: top;\n",
       "    }\n",
       "\n",
       "    .dataframe thead th {\n",
       "        text-align: right;\n",
       "    }\n",
       "</style>\n",
       "<table border=\"1\" class=\"dataframe\">\n",
       "  <thead>\n",
       "    <tr style=\"text-align: right;\">\n",
       "      <th></th>\n",
       "      <th>fixed acidity</th>\n",
       "      <th>volatile acidity</th>\n",
       "      <th>citric acid</th>\n",
       "      <th>residual sugar</th>\n",
       "      <th>chlorides</th>\n",
       "      <th>free sulfur dioxide</th>\n",
       "      <th>total sulfur dioxide</th>\n",
       "      <th>density</th>\n",
       "      <th>pH</th>\n",
       "      <th>sulphates</th>\n",
       "      <th>alcohol</th>\n",
       "      <th>quality</th>\n",
       "    </tr>\n",
       "  </thead>\n",
       "  <tbody>\n",
       "    <tr>\n",
       "      <th>0</th>\n",
       "      <td>7.0</td>\n",
       "      <td>0.27</td>\n",
       "      <td>0.36</td>\n",
       "      <td>20.7</td>\n",
       "      <td>0.045</td>\n",
       "      <td>45.0</td>\n",
       "      <td>170.0</td>\n",
       "      <td>1.0010</td>\n",
       "      <td>3.00</td>\n",
       "      <td>0.45</td>\n",
       "      <td>8.8</td>\n",
       "      <td>6</td>\n",
       "    </tr>\n",
       "    <tr>\n",
       "      <th>1</th>\n",
       "      <td>6.3</td>\n",
       "      <td>0.30</td>\n",
       "      <td>0.34</td>\n",
       "      <td>1.6</td>\n",
       "      <td>0.049</td>\n",
       "      <td>14.0</td>\n",
       "      <td>132.0</td>\n",
       "      <td>0.9940</td>\n",
       "      <td>3.30</td>\n",
       "      <td>0.49</td>\n",
       "      <td>9.5</td>\n",
       "      <td>6</td>\n",
       "    </tr>\n",
       "    <tr>\n",
       "      <th>2</th>\n",
       "      <td>8.1</td>\n",
       "      <td>0.28</td>\n",
       "      <td>0.40</td>\n",
       "      <td>6.9</td>\n",
       "      <td>0.050</td>\n",
       "      <td>30.0</td>\n",
       "      <td>97.0</td>\n",
       "      <td>0.9951</td>\n",
       "      <td>3.26</td>\n",
       "      <td>0.44</td>\n",
       "      <td>10.1</td>\n",
       "      <td>6</td>\n",
       "    </tr>\n",
       "    <tr>\n",
       "      <th>3</th>\n",
       "      <td>7.2</td>\n",
       "      <td>0.23</td>\n",
       "      <td>0.32</td>\n",
       "      <td>8.5</td>\n",
       "      <td>0.058</td>\n",
       "      <td>47.0</td>\n",
       "      <td>186.0</td>\n",
       "      <td>0.9956</td>\n",
       "      <td>3.19</td>\n",
       "      <td>0.40</td>\n",
       "      <td>9.9</td>\n",
       "      <td>6</td>\n",
       "    </tr>\n",
       "    <tr>\n",
       "      <th>4</th>\n",
       "      <td>7.2</td>\n",
       "      <td>0.23</td>\n",
       "      <td>0.32</td>\n",
       "      <td>8.5</td>\n",
       "      <td>0.058</td>\n",
       "      <td>47.0</td>\n",
       "      <td>186.0</td>\n",
       "      <td>0.9956</td>\n",
       "      <td>3.19</td>\n",
       "      <td>0.40</td>\n",
       "      <td>9.9</td>\n",
       "      <td>6</td>\n",
       "    </tr>\n",
       "  </tbody>\n",
       "</table>\n",
       "</div>"
      ],
      "text/plain": [
       "   fixed acidity  volatile acidity  citric acid  residual sugar  chlorides  \\\n",
       "0            7.0              0.27         0.36            20.7      0.045   \n",
       "1            6.3              0.30         0.34             1.6      0.049   \n",
       "2            8.1              0.28         0.40             6.9      0.050   \n",
       "3            7.2              0.23         0.32             8.5      0.058   \n",
       "4            7.2              0.23         0.32             8.5      0.058   \n",
       "\n",
       "   free sulfur dioxide  total sulfur dioxide  density    pH  sulphates  \\\n",
       "0                 45.0                 170.0   1.0010  3.00       0.45   \n",
       "1                 14.0                 132.0   0.9940  3.30       0.49   \n",
       "2                 30.0                  97.0   0.9951  3.26       0.44   \n",
       "3                 47.0                 186.0   0.9956  3.19       0.40   \n",
       "4                 47.0                 186.0   0.9956  3.19       0.40   \n",
       "\n",
       "   alcohol  quality  \n",
       "0      8.8        6  \n",
       "1      9.5        6  \n",
       "2     10.1        6  \n",
       "3      9.9        6  \n",
       "4      9.9        6  "
      ]
     },
     "execution_count": 18,
     "metadata": {},
     "output_type": "execute_result"
    }
   ],
   "source": [
    "wine = pd.read_csv(\"../06machine_learning/data/winequality-white.csv\", sep=\";\")\n",
    "wine.head()"
   ]
  },
  {
   "cell_type": "code",
   "execution_count": 19,
   "id": "b3361084",
   "metadata": {},
   "outputs": [
    {
     "data": {
      "text/plain": [
       "quality\n",
       "6    2198\n",
       "5    1457\n",
       "7     880\n",
       "8     175\n",
       "4     163\n",
       "3      20\n",
       "9       5\n",
       "Name: count, dtype: int64"
      ]
     },
     "execution_count": 19,
     "metadata": {},
     "output_type": "execute_result"
    }
   ],
   "source": [
    "wine['quality'].value_counts()"
   ]
  }
 ],
 "metadata": {
  "kernelspec": {
   "display_name": "Python 3 (ipykernel)",
   "language": "python",
   "name": "python3"
  },
  "language_info": {
   "codemirror_mode": {
    "name": "ipython",
    "version": 3
   },
   "file_extension": ".py",
   "mimetype": "text/x-python",
   "name": "python",
   "nbconvert_exporter": "python",
   "pygments_lexer": "ipython3",
   "version": "3.9.19"
  }
 },
 "nbformat": 4,
 "nbformat_minor": 5
}
