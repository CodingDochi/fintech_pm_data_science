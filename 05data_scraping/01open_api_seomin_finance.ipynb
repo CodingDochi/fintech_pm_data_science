{
 "cells": [
  {
   "cell_type": "code",
   "execution_count": 9,
   "id": "15750c58",
   "metadata": {},
   "outputs": [
    {
     "data": {
      "text/plain": [
       "True"
      ]
     },
     "execution_count": 9,
     "metadata": {},
     "output_type": "execute_result"
    }
   ],
   "source": [
    "import os\n",
    "import requests\n",
    "from bs4 import BeautifulSoup as bs\n",
    "from dotenv import load_dotenv\n",
    "\n",
    "load_dotenv()"
   ]
  },
  {
   "cell_type": "code",
   "execution_count": 7,
   "id": "8ab03067-102e-4090-899b-65031270b734",
   "metadata": {},
   "outputs": [
    {
     "data": {
      "text/plain": [
       "OrderedDict([('service_key',\n",
       "              '8Ym5dhmVJdr12XzGnyYrQjSBS1QuRBYK8yHfx65JCl4vACM9uLKo8fxCVOFJkPB71llD7F2rOEROZnHgNGoj3A==')])"
      ]
     },
     "execution_count": 7,
     "metadata": {},
     "output_type": "execute_result"
    }
   ],
   "source": []
  },
  {
   "cell_type": "code",
   "execution_count": null,
   "id": "8307c1bb-ebdc-499a-a693-8718e93e4284",
   "metadata": {},
   "outputs": [],
   "source": []
  },
  {
   "cell_type": "raw",
   "id": "5fbe55d4-59dd-4648-b565-eb4530c7dcb3",
   "metadata": {},
   "source": [
    "service_key = os.getenv('service_key')\n",
    "url = \"http://apis.data.go.kr/1160100/service/GetSmallLoanFinanceInstituteInfoService/getOrdinaryFinanceInfo\"\n",
    "payload = dict(serviceKey=service_key, pageNo=1, numOfRows=1000)\n",
    "\n",
    "r = requests.get(url, params=payload)\n",
    "r.url\n",
    "r.status_code\n",
    "soup = bs(r.text, 'lxml')\n",
    "soup"
   ]
  },
  {
   "cell_type": "code",
   "execution_count": 15,
   "id": "e44b225b-d130-488a-a85b-c786577c10ed",
   "metadata": {},
   "outputs": [
    {
     "data": {
      "text/plain": [
       "[<basym>202202</basym>,\n",
       " <basym>202202</basym>,\n",
       " <basym>202202</basym>,\n",
       " <basym>202202</basym>,\n",
       " <basym>202202</basym>,\n",
       " <basym>202202</basym>,\n",
       " <basym>202202</basym>,\n",
       " <basym>202202</basym>,\n",
       " <basym>202202</basym>,\n",
       " <basym>202202</basym>]"
      ]
     },
     "execution_count": 15,
     "metadata": {},
     "output_type": "execute_result"
    }
   ],
   "source": [
    "basYm = soup.select('basYm')"
   ]
  },
  {
   "cell_type": "code",
   "execution_count": 18,
   "id": "2aba8847-9097-4906-a44e-101503ec4775",
   "metadata": {},
   "outputs": [
    {
     "data": {
      "text/plain": [
       "[<snq>1</snq>,\n",
       " <snq>2</snq>,\n",
       " <snq>3</snq>,\n",
       " <snq>4</snq>,\n",
       " <snq>5</snq>,\n",
       " <snq>6</snq>,\n",
       " <snq>7</snq>,\n",
       " <snq>8</snq>,\n",
       " <snq>9</snq>,\n",
       " <snq>10</snq>]"
      ]
     },
     "execution_count": 18,
     "metadata": {},
     "output_type": "execute_result"
    }
   ],
   "source": [
    "snq = soup.select('snq')\n"
   ]
  },
  {
   "cell_type": "code",
   "execution_count": null,
   "id": "5f99bac3",
   "metadata": {},
   "outputs": [],
   "source": [
    "resultCode\n",
    "resultMsg\n",
    "numOfRows\n",
    "pageNo\n",
    "totalCount\n",
    "basYm\n",
    "snq\n",
    "finPrdNm\n",
    "lnLmt\n",
    "irtCtg\n",
    "irt\n",
    "maxTotLnTrm\n",
    "maxDfrmTrm\n",
    "maxRdptTrm\n",
    "rdptMthd\n",
    "usge\n",
    "trgt\n",
    "instCtg\n",
    "ofrInstNm\n",
    "rsdAreaPamtEqltIstm\n",
    "suprTgtDtlCond\n",
    "age\n",
    "incm\n",
    "rsdArea\n",
    "crdtSc\n",
    "anin\n",
    "housHoldCnt\n",
    "housAr\n",
    "lnTgtHous\n",
    "rfrcCnpl\n",
    "grnInst\n",
    "jnMthd\n",
    "rpymdCfe\n",
    "lnIcdcst\n",
    "ovItrYr\n",
    "prftAddIrtCond\n",
    "etcRefSbjc\n",
    "hdlInst\n",
    "cnpl\n",
    "rltSite\n",
    "tgtFltr\n",
    "hdlInstDtlVw\n",
    "prdExisYn\n",
    "cv19Rfrc\n",
    "prdCtg\n",
    "prdNm\n",
    "cv19SuprCtg\n",
    "cv19SuprCtn\n",
    "cv19SuprTgtDtlCtn\n",
    "mgmDln\n",
    "prdCtg2\n",
    "fileWrtDt\n"
   ]
  },
  {
   "cell_type": "code",
   "execution_count": null,
   "id": "ba48fa98-c2ee-43f3-aa07-678e2192e87a",
   "metadata": {},
   "outputs": [],
   "source": []
  },
  {
   "cell_type": "code",
   "execution_count": null,
   "id": "50bddffe-d41f-46d5-970f-b912d6cba7e7",
   "metadata": {},
   "outputs": [],
   "source": []
  },
  {
   "cell_type": "code",
   "execution_count": null,
   "id": "0c7f8254-e25f-4f25-b9a4-a7395ffe1f89",
   "metadata": {},
   "outputs": [],
   "source": []
  },
  {
   "cell_type": "code",
   "execution_count": null,
   "id": "d04d6a35-2746-4660-837e-3e2896aa0fcc",
   "metadata": {},
   "outputs": [],
   "source": []
  },
  {
   "cell_type": "code",
   "execution_count": null,
   "id": "33ee7df3-ff6d-4066-8b80-2c1e0c052323",
   "metadata": {},
   "outputs": [],
   "source": []
  }
 ],
 "metadata": {
  "kernelspec": {
   "display_name": "Python 3 (ipykernel)",
   "language": "python",
   "name": "python3"
  },
  "language_info": {
   "codemirror_mode": {
    "name": "ipython",
    "version": 3
   },
   "file_extension": ".py",
   "mimetype": "text/x-python",
   "name": "python",
   "nbconvert_exporter": "python",
   "pygments_lexer": "ipython3",
   "version": "3.11.5"
  }
 },
 "nbformat": 4,
 "nbformat_minor": 5
}
