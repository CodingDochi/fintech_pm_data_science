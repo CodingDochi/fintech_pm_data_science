{
 "cells": [
  {
   "cell_type": "code",
   "execution_count": 4,
   "id": "15750c58",
   "metadata": {},
   "outputs": [
    {
     "data": {
      "text/plain": [
       "True"
      ]
     },
     "execution_count": 4,
     "metadata": {},
     "output_type": "execute_result"
    }
   ],
   "source": [
    "import os\n",
    "import requests\n",
    "from bs4 import BeautifulSoup as bs\n",
    "from dotenv import load_dotenv\n",
    "\n",
    "load_dotenv()"
   ]
  },
  {
   "cell_type": "code",
   "execution_count": 2,
   "id": "8ab03067-102e-4090-899b-65031270b734",
   "metadata": {},
   "outputs": [
    {
     "name": "stdout",
     "output_type": "stream",
     "text": [
      "ALLUSERSPROFILE: C:\\ProgramData\n",
      "APPDATA: C:\\Users\\5-29\\AppData\\Roaming\n",
      "COMMONPROGRAMFILES: C:\\Program Files\\Common Files\n",
      "COMMONPROGRAMFILES(X86): C:\\Program Files (x86)\\Common Files\n",
      "COMMONPROGRAMW6432: C:\\Program Files\\Common Files\n",
      "COMPUTERNAME: 5-29\n",
      "COMSPEC: C:\\WINDOWS\\system32\\cmd.exe\n",
      "CONDA_BAT: C:\\Users\\5-29\\miniforge3\\condabin\\conda.bat\n",
      "CONDA_DEFAULT_ENV: fintech\n",
      "CONDA_EXE: C:\\Users\\5-29\\miniforge3\\Scripts\\conda.exe\n",
      "CONDA_PREFIX: C:\\Users\\5-29\\miniforge3\\envs\\fintech\n",
      "CONDA_PROMPT_MODIFIER: (fintech) \n",
      "CONDA_PYTHON_EXE: C:\\Users\\5-29\\miniforge3\\python.exe\n",
      "CONDA_SHLVL: 1\n",
      "DRIVERDATA: C:\\Windows\\System32\\Drivers\\DriverData\n",
      "HOMEDRIVE: C:\n",
      "HOMEPATH: \\Users\\5-29\n",
      "LOCALAPPDATA: C:\\Users\\5-29\\AppData\\Local\n",
      "LOGONSERVER: \\\\5-29\n",
      "NUMBER_OF_PROCESSORS: 8\n",
      "ONEDRIVE: C:\\Users\\5-29\\OneDrive\n",
      "ONEDRIVECONSUMER: C:\\Users\\5-29\\OneDrive\n",
      "OS: Windows_NT\n",
      "PATH: C:\\Users\\5-29\\miniforge3\\envs\\fintech;C:\\Users\\5-29\\miniforge3\\envs\\fintech\\Library\\mingw-w64\\bin;C:\\Users\\5-29\\miniforge3\\envs\\fintech\\Library\\usr\\bin;C:\\Users\\5-29\\miniforge3\\envs\\fintech\\Library\\bin;C:\\Users\\5-29\\miniforge3\\envs\\fintech\\Scripts;C:\\Users\\5-29\\miniforge3\\envs\\fintech\\bin;C:\\Users\\5-29\\miniforge3\\condabin;C:\\WINDOWS\\system32;C:\\WINDOWS;C:\\WINDOWS\\System32\\Wbem;C:\\WINDOWS\\System32\\WindowsPowerShell\\v1.0;C:\\WINDOWS\\System32\\OpenSSH;C:\\Program Files (x86)\\Windows Kits\\10\\Windows Performance Toolkit;C:\\Program Files\\Git\\cmd;C:\\Program Files\\MySQL\\MySQL Shell 8.0\\bin;C:\\Users\\5-29\\AppData\\Local\\Microsoft\\WindowsApps;C:\\Users\\5-29\\AppData\\Local\\Programs\\Microsoft VS Code\\bin\n",
      "PATHEXT: .COM;.EXE;.BAT;.CMD;.VBS;.VBE;.JS;.JSE;.WSF;.WSH;.MSC\n",
      "PROCESSOR_ARCHITECTURE: AMD64\n",
      "PROCESSOR_IDENTIFIER: AMD64 Family 23 Model 24 Stepping 1, AuthenticAMD\n",
      "PROCESSOR_LEVEL: 23\n",
      "PROCESSOR_REVISION: 1801\n",
      "PROGRAMDATA: C:\\ProgramData\n",
      "PROGRAMFILES: C:\\Program Files\n",
      "PROGRAMFILES(X86): C:\\Program Files (x86)\n",
      "PROGRAMW6432: C:\\Program Files\n",
      "PROMPT: (fintech) $P$G\n",
      "PSMODULEPATH: C:\\Program Files\\WindowsPowerShell\\Modules;C:\\WINDOWS\\system32\\WindowsPowerShell\\v1.0\\Modules\n",
      "PUBLIC: C:\\Users\\Public\n",
      "SESSIONNAME: Console\n",
      "SSL_CERT_DIR: C:\\Users\\5-29\\miniforge3\\envs\\fintech\\Library\\ssl\\certs\n",
      "SSL_CERT_FILE: C:\\Users\\5-29\\miniforge3\\envs\\fintech\\Library\\ssl\\cacert.pem\n",
      "SYSTEMDRIVE: C:\n",
      "SYSTEMROOT: C:\\WINDOWS\n",
      "TEMP: C:\\Users\\5-29\\AppData\\Local\\Temp\n",
      "TMP: C:\\Users\\5-29\\AppData\\Local\\Temp\n",
      "USERDOMAIN: 5-29\n",
      "USERDOMAIN_ROAMINGPROFILE: 5-29\n",
      "USERNAME: 5-29\n",
      "USERPROFILE: C:\\Users\\5-29\n",
      "WINDIR: C:\\WINDOWS\n",
      "XML_CATALOG_FILES: file:///C:/Users/5-29/miniforge3/envs/fintech/etc/xml/catalog\n",
      "__CONDA_OPENSSL_CERT_DIR_SET: \"1\"\n",
      "__CONDA_OPENSSL_CERT_FILE_SET: \"1\"\n",
      "JPY_INTERRUPT_EVENT: 2616\n",
      "IPY_INTERRUPT_EVENT: 2616\n",
      "JPY_PARENT_PID: 2612\n",
      "PYDEVD_USE_FRAME_EVAL: NO\n",
      "TERM: xterm-color\n",
      "CLICOLOR: 1\n",
      "FORCE_COLOR: 1\n",
      "CLICOLOR_FORCE: 1\n",
      "PAGER: cat\n",
      "GIT_PAGER: cat\n",
      "MPLBACKEND: module://matplotlib_inline.backend_inline\n",
      "CLIENT_ID: pRmtpgiw8Lf7F3QGZ4ar\n",
      "CLIENT_SECRET: M_XHcT1MXF\n",
      "SERVICEKEY: 8Ym5dhmVJdr12XzGnyYrQjSBS1QuRBYK8yHfx65JCl4vACM9uLKo8fxCVOFJkPB71llD7F2rOEROZnHgNGoj3A==\n"
     ]
    }
   ],
   "source": [
    "# 모든 환경 변수 출력\n",
    "for key, value in os.environ.items():\n",
    "    print(f'{key}: {value}')"
   ]
  },
  {
   "cell_type": "code",
   "execution_count": null,
   "id": "8307c1bb-ebdc-499a-a693-8718e93e4284",
   "metadata": {},
   "outputs": [],
   "source": []
  },
  {
   "cell_type": "code",
   "execution_count": 6,
   "id": "75fa3c63",
   "metadata": {},
   "outputs": [
    {
     "ename": "FeatureNotFound",
     "evalue": "Couldn't find a tree builder with the features you requested: lxml. Do you need to install a parser library?",
     "output_type": "error",
     "traceback": [
      "\u001b[1;31m---------------------------------------------------------------------------\u001b[0m",
      "\u001b[1;31mFeatureNotFound\u001b[0m                           Traceback (most recent call last)",
      "Cell \u001b[1;32mIn[6], line 8\u001b[0m\n\u001b[0;32m      6\u001b[0m r\u001b[38;5;241m.\u001b[39murl\n\u001b[0;32m      7\u001b[0m r\u001b[38;5;241m.\u001b[39mstatus_code\n\u001b[1;32m----> 8\u001b[0m soup \u001b[38;5;241m=\u001b[39m \u001b[43mbs\u001b[49m\u001b[43m(\u001b[49m\u001b[43mr\u001b[49m\u001b[38;5;241;43m.\u001b[39;49m\u001b[43mtext\u001b[49m\u001b[43m,\u001b[49m\u001b[43m \u001b[49m\u001b[38;5;124;43m'\u001b[39;49m\u001b[38;5;124;43mlxml\u001b[39;49m\u001b[38;5;124;43m'\u001b[39;49m\u001b[43m)\u001b[49m\n\u001b[0;32m      9\u001b[0m soup\n",
      "File \u001b[1;32m~\\miniforge3\\envs\\fintech\\lib\\site-packages\\bs4\\__init__.py:250\u001b[0m, in \u001b[0;36mBeautifulSoup.__init__\u001b[1;34m(self, markup, features, builder, parse_only, from_encoding, exclude_encodings, element_classes, **kwargs)\u001b[0m\n\u001b[0;32m    248\u001b[0m     builder_class \u001b[38;5;241m=\u001b[39m builder_registry\u001b[38;5;241m.\u001b[39mlookup(\u001b[38;5;241m*\u001b[39mfeatures)\n\u001b[0;32m    249\u001b[0m     \u001b[38;5;28;01mif\u001b[39;00m builder_class \u001b[38;5;129;01mis\u001b[39;00m \u001b[38;5;28;01mNone\u001b[39;00m:\n\u001b[1;32m--> 250\u001b[0m         \u001b[38;5;28;01mraise\u001b[39;00m FeatureNotFound(\n\u001b[0;32m    251\u001b[0m             \u001b[38;5;124m\"\u001b[39m\u001b[38;5;124mCouldn\u001b[39m\u001b[38;5;124m'\u001b[39m\u001b[38;5;124mt find a tree builder with the features you \u001b[39m\u001b[38;5;124m\"\u001b[39m\n\u001b[0;32m    252\u001b[0m             \u001b[38;5;124m\"\u001b[39m\u001b[38;5;124mrequested: \u001b[39m\u001b[38;5;132;01m%s\u001b[39;00m\u001b[38;5;124m. Do you need to install a parser library?\u001b[39m\u001b[38;5;124m\"\u001b[39m\n\u001b[0;32m    253\u001b[0m             \u001b[38;5;241m%\u001b[39m \u001b[38;5;124m\"\u001b[39m\u001b[38;5;124m,\u001b[39m\u001b[38;5;124m\"\u001b[39m\u001b[38;5;241m.\u001b[39mjoin(features))\n\u001b[0;32m    255\u001b[0m \u001b[38;5;66;03m# At this point either we have a TreeBuilder instance in\u001b[39;00m\n\u001b[0;32m    256\u001b[0m \u001b[38;5;66;03m# builder, or we have a builder_class that we can instantiate\u001b[39;00m\n\u001b[0;32m    257\u001b[0m \u001b[38;5;66;03m# with the remaining **kwargs.\u001b[39;00m\n\u001b[0;32m    258\u001b[0m \u001b[38;5;28;01mif\u001b[39;00m builder \u001b[38;5;129;01mis\u001b[39;00m \u001b[38;5;28;01mNone\u001b[39;00m:\n",
      "\u001b[1;31mFeatureNotFound\u001b[0m: Couldn't find a tree builder with the features you requested: lxml. Do you need to install a parser library?"
     ]
    }
   ],
   "source": [
    "service_key = os.getenv('service_key')\n",
    "url = \"http://apis.data.go.kr/1160100/service/GetSmallLoanFinanceInstituteInfoService/getOrdinaryFinanceInfo\"\n",
    "payload = dict(serviceKey=service_key, pageNo=1, numOfRows=1000)\n",
    "\n",
    "r = requests.get(url, params=payload)\n",
    "r.url\n",
    "r.status_code\n",
    "soup = bs(r.text, 'lxml')\n",
    "soup"
   ]
  },
  {
   "cell_type": "code",
   "execution_count": 5,
   "id": "e44b225b-d130-488a-a85b-c786577c10ed",
   "metadata": {},
   "outputs": [
    {
     "ename": "NameError",
     "evalue": "name 'soup' is not defined",
     "output_type": "error",
     "traceback": [
      "\u001b[1;31m---------------------------------------------------------------------------\u001b[0m",
      "\u001b[1;31mNameError\u001b[0m                                 Traceback (most recent call last)",
      "Cell \u001b[1;32mIn[5], line 1\u001b[0m\n\u001b[1;32m----> 1\u001b[0m basYm \u001b[38;5;241m=\u001b[39m \u001b[43msoup\u001b[49m\u001b[38;5;241m.\u001b[39mselect(\u001b[38;5;124m'\u001b[39m\u001b[38;5;124mbasYm\u001b[39m\u001b[38;5;124m'\u001b[39m)\n",
      "\u001b[1;31mNameError\u001b[0m: name 'soup' is not defined"
     ]
    }
   ],
   "source": [
    "basYm = soup.select('basYm')"
   ]
  },
  {
   "cell_type": "code",
   "execution_count": 18,
   "id": "2aba8847-9097-4906-a44e-101503ec4775",
   "metadata": {},
   "outputs": [
    {
     "data": {
      "text/plain": [
       "[<snq>1</snq>,\n",
       " <snq>2</snq>,\n",
       " <snq>3</snq>,\n",
       " <snq>4</snq>,\n",
       " <snq>5</snq>,\n",
       " <snq>6</snq>,\n",
       " <snq>7</snq>,\n",
       " <snq>8</snq>,\n",
       " <snq>9</snq>,\n",
       " <snq>10</snq>]"
      ]
     },
     "execution_count": 18,
     "metadata": {},
     "output_type": "execute_result"
    }
   ],
   "source": [
    "snq = soup.select('snq')\n"
   ]
  },
  {
   "cell_type": "code",
   "execution_count": null,
   "id": "5f99bac3",
   "metadata": {},
   "outputs": [],
   "source": [
    "resultCode\n",
    "resultMsg\n",
    "numOfRows\n",
    "pageNo\n",
    "totalCount\n",
    "basYm\n",
    "snq\n",
    "finPrdNm\n",
    "lnLmt\n",
    "irtCtg\n",
    "irt\n",
    "maxTotLnTrm\n",
    "maxDfrmTrm\n",
    "maxRdptTrm\n",
    "rdptMthd\n",
    "usge\n",
    "trgt\n",
    "instCtg\n",
    "ofrInstNm\n",
    "rsdAreaPamtEqltIstm\n",
    "suprTgtDtlCond\n",
    "age\n",
    "incm\n",
    "rsdArea\n",
    "crdtSc\n",
    "anin\n",
    "housHoldCnt\n",
    "housAr\n",
    "lnTgtHous\n",
    "rfrcCnpl\n",
    "grnInst\n",
    "jnMthd\n",
    "rpymdCfe\n",
    "lnIcdcst\n",
    "ovItrYr\n",
    "prftAddIrtCond\n",
    "etcRefSbjc\n",
    "hdlInst\n",
    "cnpl\n",
    "rltSite\n",
    "tgtFltr\n",
    "hdlInstDtlVw\n",
    "prdExisYn\n",
    "cv19Rfrc\n",
    "prdCtg\n",
    "prdNm\n",
    "cv19SuprCtg\n",
    "cv19SuprCtn\n",
    "cv19SuprTgtDtlCtn\n",
    "mgmDln\n",
    "prdCtg2\n",
    "fileWrtDt\n"
   ]
  },
  {
   "cell_type": "code",
   "execution_count": null,
   "id": "ba48fa98-c2ee-43f3-aa07-678e2192e87a",
   "metadata": {},
   "outputs": [],
   "source": []
  },
  {
   "cell_type": "code",
   "execution_count": null,
   "id": "50bddffe-d41f-46d5-970f-b912d6cba7e7",
   "metadata": {},
   "outputs": [],
   "source": []
  },
  {
   "cell_type": "code",
   "execution_count": null,
   "id": "0c7f8254-e25f-4f25-b9a4-a7395ffe1f89",
   "metadata": {},
   "outputs": [],
   "source": []
  },
  {
   "cell_type": "code",
   "execution_count": null,
   "id": "d04d6a35-2746-4660-837e-3e2896aa0fcc",
   "metadata": {},
   "outputs": [],
   "source": []
  },
  {
   "cell_type": "code",
   "execution_count": null,
   "id": "33ee7df3-ff6d-4066-8b80-2c1e0c052323",
   "metadata": {},
   "outputs": [],
   "source": []
  }
 ],
 "metadata": {
  "kernelspec": {
   "display_name": "Python 3 (ipykernel)",
   "language": "python",
   "name": "python3"
  },
  "language_info": {
   "codemirror_mode": {
    "name": "ipython",
    "version": 3
   },
   "file_extension": ".py",
   "mimetype": "text/x-python",
   "name": "python",
   "nbconvert_exporter": "python",
   "pygments_lexer": "ipython3",
   "version": "3.10.14"
  }
 },
 "nbformat": 4,
 "nbformat_minor": 5
}
