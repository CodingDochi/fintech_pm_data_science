{
 "cells": [
  {
   "cell_type": "code",
   "execution_count": 35,
   "id": "cd5ec5a4",
   "metadata": {},
   "outputs": [
    {
     "data": {
      "text/plain": [
       "True"
      ]
     },
     "execution_count": 35,
     "metadata": {},
     "output_type": "execute_result"
    }
   ],
   "source": [
    "import requests\n",
    "import os\n",
    "from dotenv import load_dotenv\n",
    "import pandas as pd\n",
    "import time\n",
    "load_dotenv()"
   ]
  },
  {
   "cell_type": "code",
   "execution_count": 36,
   "id": "452c4618",
   "metadata": {},
   "outputs": [
    {
     "name": "stdout",
     "output_type": "stream",
     "text": [
      "200\n"
     ]
    }
   ],
   "source": [
    "url = \"http://apis.data.go.kr/1160100/service/GetSmallLoanFinanceInstituteInfoService/getOrdinaryFinanceInfo\"\n",
    "payload = dict(serviceKey=os.getenv('servicekey'), pageNo=1, numOfRows=10)\n",
    "r = requests.get(url, params=payload)\n",
    "print(r.status_code)\n",
    "data = r.text"
   ]
  },
  {
   "cell_type": "code",
   "execution_count": 37,
   "id": "2d38c076",
   "metadata": {},
   "outputs": [
    {
     "data": {
      "text/plain": [
       "'<?xml version=\"1.0\" encoding=\"UTF-8\" standalone=\"yes\"?>\\n<response>\\n    <header>\\n        <resultCode>00</resultCode>\\n        <resultMsg>NORMAL SERVICE.</resultMsg>\\n    </header>\\n    <body>\\n        <numOfRows>10</numOfRows>\\n        <pageNo>1</pageNo>\\n        <totalCount>3696</totalCount>\\n        <items>\\n            <item>\\n                <basYm>202202</basYm>\\n                <snq>1</snq>\\n                <finPrdNm>미소금융 창업자금_임차보증금대출</finPrdNm>\\n                <lnLmt>7000만원</lnLmt>\\n                <i'"
      ]
     },
     "execution_count": 37,
     "metadata": {},
     "output_type": "execute_result"
    }
   ],
   "source": [
    "data[:500]"
   ]
  },
  {
   "cell_type": "code",
   "execution_count": null,
   "id": "c8bfe867",
   "metadata": {},
   "outputs": [],
   "source": [
    "soup.find_all('basYm')\n",
    "soup.find_all('snq')\n",
    "soup.find_all('finPrdNm')\n",
    "'lnLmt'\n",
    "'irtCtg'\n",
    "irt\n",
    "maxTotLnTrm\n",
    "maxDfrmTrm\n",
    "maxRdptTrm\n",
    "rdptMthd\n",
    "usge\n",
    "trgt\n",
    "instCtg\n",
    "ofrInstNm\n",
    "rsdAreaPamtEqltIstm\n",
    "suprTgtDtlCond\n",
    "age\n",
    "incm\n",
    "rsdArea\n",
    "crdtSc\n",
    "anin\n",
    "housHoldCnt\n",
    "housAr\n",
    "lnTgtHous\n",
    "rfrcCnpl\n",
    "grnInst\n",
    "jnMthd\n",
    "rpymdCfe\n",
    "lnIcdcst\n",
    "ovItrYr\n",
    "prftAddIrtCond\n",
    "etcRefSbjc\n",
    "hdlInst\n",
    "cnpl\n",
    "rltSite\n",
    "tgtFltr\n",
    "hdlInstDtlVw\n",
    "prdExisYn\n",
    "cv19Rfrc\n",
    "prdCtg\n",
    "prdNm\n",
    "cv19SuprCtg\n",
    "cv19SuprCtn\n",
    "cv19SuprTgtDtlCtn\n",
    "mgmDln\n",
    "prdCtg2\n",
    "fileWrtDt\n"
   ]
  },
  {
   "cell_type": "code",
   "execution_count": 47,
   "id": "1473f5a1",
   "metadata": {
    "scrolled": false
   },
   "outputs": [],
   "source": [
    "from bs4 import BeautifulSoup\n",
    "soup = BeautifulSoup(data, 'xml')\n",
    "finPrdNm = soup.find_all('finPrdNm')\n",
    "lnLmt = soup.find_all('lnLmt')"
   ]
  },
  {
   "cell_type": "code",
   "execution_count": 54,
   "id": "8182db06",
   "metadata": {},
   "outputs": [],
   "source": [
    "finPrdNm =[item.string for item in soup.find_all('finPrdNm')]\n",
    "lnLmt = [item.string for item in soup.find_all('lnLmt')]\n",
    "    \n"
   ]
  },
  {
   "cell_type": "code",
   "execution_count": 55,
   "id": "fb9d8661",
   "metadata": {},
   "outputs": [
    {
     "data": {
      "text/plain": [
       "['7000만원',\n",
       " '2000만원',\n",
       " '2000만원',\n",
       " '2000만원',\n",
       " '2000만원',\n",
       " '2000만원',\n",
       " '1000만원',\n",
       " '300만원',\n",
       " '500만원',\n",
       " '1200만원']"
      ]
     },
     "execution_count": 55,
     "metadata": {},
     "output_type": "execute_result"
    }
   ],
   "source": [
    "lnLmt"
   ]
  },
  {
   "cell_type": "code",
   "execution_count": 39,
   "id": "3debd401",
   "metadata": {
    "scrolled": true
   },
   "outputs": [
    {
     "data": {
      "text/plain": [
       "[<lnLmt>7000만원</lnLmt>,\n",
       " <lnLmt>2000만원</lnLmt>,\n",
       " <lnLmt>2000만원</lnLmt>,\n",
       " <lnLmt>2000만원</lnLmt>,\n",
       " <lnLmt>2000만원</lnLmt>,\n",
       " <lnLmt>2000만원</lnLmt>,\n",
       " <lnLmt>1000만원</lnLmt>,\n",
       " <lnLmt>300만원</lnLmt>,\n",
       " <lnLmt>500만원</lnLmt>,\n",
       " <lnLmt>1200만원</lnLmt>]"
      ]
     },
     "execution_count": 39,
     "metadata": {},
     "output_type": "execute_result"
    }
   ],
   "source": [
    "lnLmt"
   ]
  },
  {
   "cell_type": "code",
   "execution_count": 45,
   "id": "a4cfa41d",
   "metadata": {},
   "outputs": [
    {
     "name": "stdout",
     "output_type": "stream",
     "text": [
      "['미소금융 창업자금_임차보증금대출', '미소금융 창업자금_생계형차량 구입자금', '미소금융 창업자금_창업초기 운영자금', '미소금융 창업자금_창업초기 시설자금', '미소금융 운영자금', '미소금융 시설개선자금', '미소금융 긴급생계자금', '미소금융 취업성공대출', '미소금융 교육비지원대출', '미소금융 취약계층자립자금']\n",
      "['7000만원', '2000만원', '2000만원', '2000만원', '2000만원', '2000만원', '1000만원', '300만원', '500만원', '1200만원']\n"
     ]
    }
   ],
   "source": [
    "finPrdNms2 = []\n",
    "lnLmt2 = [] \n",
    "for item1, item2 in zip(finPrdNm, lnLmt):\n",
    "    finPrdNms2.append(item1.string)\n",
    "    lnLmt2.append(item2.string)\n",
    "print(finPrdNms2)\n",
    "print(lnLmt2)"
   ]
  },
  {
   "cell_type": "code",
   "execution_count": null,
   "id": "535d8868",
   "metadata": {},
   "outputs": [],
   "source": []
  },
  {
   "cell_type": "code",
   "execution_count": null,
   "id": "2ccfd27f",
   "metadata": {},
   "outputs": [],
   "source": []
  },
  {
   "cell_type": "code",
   "execution_count": null,
   "id": "474976d5",
   "metadata": {},
   "outputs": [],
   "source": []
  },
  {
   "cell_type": "code",
   "execution_count": null,
   "id": "43318b16",
   "metadata": {},
   "outputs": [],
   "source": []
  },
  {
   "cell_type": "markdown",
   "id": "279ae34a",
   "metadata": {},
   "source": [
    "# beautifulSoup 으로 html, xml 파싱하기"
   ]
  },
  {
   "cell_type": "code",
   "execution_count": 7,
   "id": "3c7c760b",
   "metadata": {},
   "outputs": [],
   "source": [
    "html_doc = \"\"\"<html><head><title>The Dormouse's story</title></head>\n",
    "<body>\n",
    "<p class=\"title\"><b>The Dormouse's story</b></p>\n",
    "\n",
    "<p class=\"story\">Once upon a time there were three little sisters; and their names were\n",
    "<a href=\"http://example.com/elsie\" class=\"sister\" id=\"link1\">Elsie</a>,\n",
    "<a href=\"http://example.com/lacie\" class=\"sister\" id=\"link2\">Lacie</a> and\n",
    "<a href=\"http://example.com/tillie\" class=\"sister\" id=\"link3\">Tillie</a>;\n",
    "and they lived at the bottom of a well.</p>\n",
    "\n",
    "<p class=\"story\">...</p>\n",
    "\"\"\""
   ]
  },
  {
   "cell_type": "code",
   "execution_count": 8,
   "id": "39066c5c",
   "metadata": {},
   "outputs": [
    {
     "name": "stdout",
     "output_type": "stream",
     "text": [
      "<html>\n",
      " <head>\n",
      "  <title>\n",
      "   The Dormouse's story\n",
      "  </title>\n",
      " </head>\n",
      " <body>\n",
      "  <p class=\"title\">\n",
      "   <b>\n",
      "    The Dormouse's story\n",
      "   </b>\n",
      "  </p>\n",
      "  <p class=\"story\">\n",
      "   Once upon a time there were three little sisters; and their names were\n",
      "   <a class=\"sister\" href=\"http://example.com/elsie\" id=\"link1\">\n",
      "    Elsie\n",
      "   </a>\n",
      "   ,\n",
      "   <a class=\"sister\" href=\"http://example.com/lacie\" id=\"link2\">\n",
      "    Lacie\n",
      "   </a>\n",
      "   and\n",
      "   <a class=\"sister\" href=\"http://example.com/tillie\" id=\"link3\">\n",
      "    Tillie\n",
      "   </a>\n",
      "   ;\n",
      "and they lived at the bottom of a well.\n",
      "  </p>\n",
      "  <p class=\"story\">\n",
      "   ...\n",
      "  </p>\n",
      " </body>\n",
      "</html>\n",
      "\n"
     ]
    }
   ],
   "source": [
    "from bs4 import BeautifulSoup\n",
    "soup = BeautifulSoup(html_doc, 'html.parser')\n",
    "\n",
    "print(soup.prettify())"
   ]
  },
  {
   "cell_type": "code",
   "execution_count": 9,
   "id": "b66da43f",
   "metadata": {},
   "outputs": [
    {
     "data": {
      "text/plain": [
       "<title>The Dormouse's story</title>"
      ]
     },
     "execution_count": 9,
     "metadata": {},
     "output_type": "execute_result"
    }
   ],
   "source": [
    "soup.title"
   ]
  },
  {
   "cell_type": "code",
   "execution_count": 11,
   "id": "e4af4ec7",
   "metadata": {},
   "outputs": [
    {
     "data": {
      "text/plain": [
       "\"The Dormouse's story\""
      ]
     },
     "execution_count": 11,
     "metadata": {},
     "output_type": "execute_result"
    }
   ],
   "source": [
    "soup.title.string"
   ]
  },
  {
   "cell_type": "code",
   "execution_count": 13,
   "id": "4f2ee43c",
   "metadata": {},
   "outputs": [
    {
     "data": {
      "text/plain": [
       "<p class=\"title\"><b>The Dormouse's story</b></p>"
      ]
     },
     "execution_count": 13,
     "metadata": {},
     "output_type": "execute_result"
    }
   ],
   "source": [
    "soup.p"
   ]
  },
  {
   "cell_type": "code",
   "execution_count": 14,
   "id": "8fe4fa86",
   "metadata": {},
   "outputs": [
    {
     "data": {
      "text/plain": [
       "['title']"
      ]
     },
     "execution_count": 14,
     "metadata": {},
     "output_type": "execute_result"
    }
   ],
   "source": [
    "soup.p['class']"
   ]
  },
  {
   "cell_type": "code",
   "execution_count": 15,
   "id": "88e754b2",
   "metadata": {},
   "outputs": [
    {
     "data": {
      "text/plain": [
       "<a class=\"sister\" href=\"http://example.com/elsie\" id=\"link1\">Elsie</a>"
      ]
     },
     "execution_count": 15,
     "metadata": {},
     "output_type": "execute_result"
    }
   ],
   "source": [
    "soup.a"
   ]
  },
  {
   "cell_type": "code",
   "execution_count": null,
   "id": "9a122af3",
   "metadata": {},
   "outputs": [],
   "source": []
  }
 ],
 "metadata": {
  "kernelspec": {
   "display_name": "Python 3 (ipykernel)",
   "language": "python",
   "name": "python3"
  },
  "language_info": {
   "codemirror_mode": {
    "name": "ipython",
    "version": 3
   },
   "file_extension": ".py",
   "mimetype": "text/x-python",
   "name": "python",
   "nbconvert_exporter": "python",
   "pygments_lexer": "ipython3",
   "version": "3.10.14"
  }
 },
 "nbformat": 4,
 "nbformat_minor": 5
}
