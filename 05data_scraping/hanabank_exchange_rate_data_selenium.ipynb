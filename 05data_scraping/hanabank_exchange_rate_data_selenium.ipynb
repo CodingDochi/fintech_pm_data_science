{
 "cells": [
  {
   "cell_type": "code",
   "execution_count": 1,
   "id": "7ba920a5",
   "metadata": {},
   "outputs": [],
   "source": [
    "# !pip install selenium\n",
    "# !pip install webdriver_manager\n",
    "# !pip install sqlalchemy PyMySQL"
   ]
  },
  {
   "cell_type": "code",
   "execution_count": 2,
   "id": "f3ba94ef",
   "metadata": {},
   "outputs": [],
   "source": [
    "from selenium import webdriver\n",
    "from selenium.webdriver.chrome.service import Service as ChromeService\n",
    "from webdriver_manager.chrome import ChromeDriverManager\n",
    "from selenium.webdriver.common.keys import Keys\n",
    "from selenium.webdriver.common.by import By\n",
    "from selenium.webdriver.support.ui import WebDriverWait\n",
    "from selenium.webdriver.support import expected_conditions as EC\n",
    "from bs4 import BeautifulSoup as bs\n",
    "# from tqdm import tqdm\n",
    "import time\n",
    "import random\n",
    "import lxml\n",
    "import pandas as pd"
   ]
  },
  {
   "cell_type": "code",
   "execution_count": 3,
   "id": "fc90151a",
   "metadata": {},
   "outputs": [],
   "source": [
    "import warnings\n",
    "warnings.simplefilter(action='ignore', category=FutureWarning)"
   ]
  },
  {
   "cell_type": "code",
   "execution_count": 4,
   "id": "4ecff9e1",
   "metadata": {},
   "outputs": [],
   "source": [
    "# 출력 행 제한을 없애는 코드\n",
    "pd.set_option('display.max_rows', 200)"
   ]
  },
  {
   "cell_type": "markdown",
   "id": "0bb0820c",
   "metadata": {},
   "source": [
    "### 날짜 생성 코드"
   ]
  },
  {
   "cell_type": "code",
   "execution_count": 5,
   "id": "1b8eaff6",
   "metadata": {},
   "outputs": [
    {
     "name": "stdout",
     "output_type": "stream",
     "text": [
      "[datetime.date(2024, 8, 27), datetime.date(2024, 8, 28), datetime.date(2024, 8, 29), datetime.date(2024, 8, 30), datetime.date(2024, 9, 2), datetime.date(2024, 9, 3), datetime.date(2024, 9, 4)]\n"
     ]
    }
   ],
   "source": [
    "import datetime\n",
    "\n",
    "start_date = datetime.date(2024, 8, 27)\n",
    "end_date = datetime.date(2024, 9, 4)\n",
    "\n",
    "# 월-금요일에 해당하는 날짜 리스트 생성\n",
    "weekdays = [0, 1, 2, 3, 4]  # 월요일=0, 화요일=1, ..., 금요일=4\n",
    "date_list = []\n",
    "\n",
    "current_date = start_date\n",
    "while current_date <= end_date:\n",
    "    if current_date.weekday() in weekdays:\n",
    "        date_list.append(current_date)\n",
    "    current_date += datetime.timedelta(days=1)\n",
    "\n",
    "print(date_list)\n"
   ]
  },
  {
   "cell_type": "code",
   "execution_count": 6,
   "id": "228cd6f3",
   "metadata": {},
   "outputs": [
    {
     "data": {
      "text/plain": [
       "'2024-08-27'"
      ]
     },
     "execution_count": 6,
     "metadata": {},
     "output_type": "execute_result"
    }
   ],
   "source": [
    "str(date_list[0])"
   ]
  },
  {
   "cell_type": "code",
   "execution_count": null,
   "id": "5a978ee4",
   "metadata": {},
   "outputs": [],
   "source": []
  },
  {
   "cell_type": "code",
   "execution_count": 7,
   "id": "a736ede4",
   "metadata": {},
   "outputs": [],
   "source": [
    "# 크롬 옵션즈에 User-Agent, lang 같은 정보를 담아 셀레니움을 이용한 크롤링이 아닌 것 처럼 만들기\n",
    "options = webdriver.ChromeOptions()\n",
    "options.add_experimental_option(\"excludeSwitches\", [\"enable-logging\"])\n",
    "# options.add_argument('Mozilla/5.0 (Windows NT 10.0; Win64; x64) AppleWebKit/537.36 (KHTML, like Gecko) Chrome/107.0.0.0 Safari/537.36')\n",
    "options.add_argument(\"lang=ko_KR\")\n",
    "\n",
    "# 웹드라이버를 버전에 맞게 자동으로 다운 받고 옵션을 추가해 줌\n",
    "driver = webdriver.Chrome(service=ChromeService(ChromeDriverManager().install()))\n",
    "driver.set_window_size(1920,1080)   # 웹브라우저 해상도 조절\n",
    "\n",
    "driver.get(\"https://www.hanabank.com/cms/rate/index.do?contentUrl=/cms/rate/wpfxd651_01i.do#//HanaBank\")  # 크롤링 할 웹사이트 주소"
   ]
  },
  {
   "cell_type": "code",
   "execution_count": 8,
   "id": "5cdf1850",
   "metadata": {},
   "outputs": [],
   "source": [
    "cols13 = ('통화', '현찰_살때_환율', '현찰_살때_Spread', '현찰_팔때_환율', '현찰_팔때_Spread', \n",
    "       '송금_보낼때', '송금_받을때', 'T/C_살때', '외화_수표_팔때', '매매기준율', '환가_료율',\n",
    "       '미화 환산율', 'date')\n",
    "sorted_cols13 = ('date', '통화', '현찰_살때_환율', '현찰_살때_Spread', '현찰_팔때_환율', '현찰_팔때_Spread', \n",
    "       '송금_보낼때', '송금_받을때', 'T/C_살때', '외화_수표_팔때', '매매기준율', '환가_료율',\n",
    "       '미화 환산율')"
   ]
  },
  {
   "cell_type": "code",
   "execution_count": 9,
   "id": "ed3ee5e3",
   "metadata": {},
   "outputs": [],
   "source": [
    "cols12 = ('통화', '현찰_살때_환율', '현찰_살때_Spread', '현찰_팔때_환율', '현찰_팔때_Spread', \n",
    "       '송금_보낼때', '송금_받을때', '외화_수표_팔때', '매매기준율', '환가_료율', '미화 환산율', 'date')\n",
    "sorted_cols12 = ('date', '통화', '현찰_살때_환율', '현찰_살때_Spread', '현찰_팔때_환율', '현찰_팔때_Spread', \n",
    "       '송금_보낼때', '송금_받을때', '외화_수표_팔때', '매매기준율', '환가_료율', '미화 환산율')"
   ]
  },
  {
   "cell_type": "code",
   "execution_count": 10,
   "id": "752f8c04",
   "metadata": {},
   "outputs": [],
   "source": [
    "cols11 = ('통화', '현찰_살때_환율', '현찰_살때_Spread', '현찰_팔때_환율', '현찰_팔때_Spread', \n",
    "       '송금_보낼때', '송금_받을때', '매매기준율', '환가_료율', '미화 환산율', 'date')\n",
    "sorted_cols11 = ('date', '통화', '현찰_살때_환율', '현찰_살때_Spread', '현찰_팔때_환율', '현찰_팔때_Spread', \n",
    "       '송금_보낼때', '송금_받을때', '매매기준율', '환가_료율', '미화 환산율')"
   ]
  },
  {
   "cell_type": "code",
   "execution_count": 11,
   "id": "d9c4a006",
   "metadata": {},
   "outputs": [
    {
     "data": {
      "text/plain": [
       "[datetime.date(2024, 8, 27),\n",
       " datetime.date(2024, 8, 28),\n",
       " datetime.date(2024, 8, 29),\n",
       " datetime.date(2024, 8, 30),\n",
       " datetime.date(2024, 9, 2),\n",
       " datetime.date(2024, 9, 3),\n",
       " datetime.date(2024, 9, 4)]"
      ]
     },
     "execution_count": 11,
     "metadata": {},
     "output_type": "execute_result"
    }
   ],
   "source": [
    "date_list"
   ]
  },
  {
   "cell_type": "code",
   "execution_count": 12,
   "id": "a3466130",
   "metadata": {},
   "outputs": [],
   "source": [
    "# for idx, date in enumerate(date_list[:]):\n",
    "#     # 웹 요소가 나타날 때까지 최대 10초 동안 기다립니다.\n",
    "#     wait = WebDriverWait(driver, 10)\n",
    "\n",
    "#     # 날짜 박스 #tmpInqStrDt\n",
    "#     datebox = wait.until(EC.presence_of_element_located((By.CSS_SELECTOR, '#tmpInqStrDt')))\n",
    "#     datebox.clear()   # 기존에 입력된 값을 지웁니다.\n",
    "#     datebox.send_keys(f\"{str(date)}\")   # 새로운 값을 입력합니다.\n",
    "\n",
    "#     # 조회버튼   #HANA_CONTENTS_DIV > div.btnBoxCenter > a\n",
    "#     search_box = driver.find_element(By.CSS_SELECTOR, '#HANA_CONTENTS_DIV > div.btnBoxCenter > a')\n",
    "#     search_box.click()   # 조회버튼 클릭\n",
    "#     # 생성한 시간 동안 대기합니다.\n",
    "#     time.sleep(random.uniform(3, 7))\n",
    "#     exchange_rate_table = wait.until(EC.presence_of_element_located((By.CSS_SELECTOR, '#searchContentDiv > div.printdiv > table')))\n",
    "\n",
    "#     # 페이지의 전체 HTML 소스를 가져옵니다.\n",
    "#     page_html = driver.page_source\n",
    "#     # soup = bs(page_html, \"lxml\")     # beautifulsoup으로 html을 parsing\n",
    "#     exchange_rate = pd.read_html(page_html)\n",
    "#     exchange_rate = exchange_rate[1]\n",
    "#     exchange_rate['date'] = f\"{date}\"\n",
    "    \n",
    "#     if len(exchange_rate.columns) == 13:\n",
    "#         exchange_rate.columns = cols13\n",
    "#         exchange_rate = exchange_rate[[*sorted_cols13]]\n",
    "#     elif len(exchange_rate.columns) == 12:    \n",
    "#         exchange_rate.columns = cols12\n",
    "#         exchange_rate = exchange_rate[[*sorted_cols12]]\n",
    "#     elif len(exchange_rate.columns) == 11:    \n",
    "#         exchange_rate.columns = cols11\n",
    "#         exchange_rate = exchange_rate[[*sorted_cols11]]\n",
    "    \n",
    "#     display(exchange_rate)\n",
    "#     print(f\"전체 {len(date_list)} 중 {idx+1:04d} 페이지 완료\", end=\"\\r\")\n",
    "\n",
    "    "
   ]
  },
  {
   "cell_type": "code",
   "execution_count": 13,
   "id": "b4f870b3",
   "metadata": {
    "scrolled": true
   },
   "outputs": [],
   "source": [
    "# exchange_rate.info()"
   ]
  },
  {
   "cell_type": "code",
   "execution_count": 14,
   "id": "795a2197",
   "metadata": {},
   "outputs": [],
   "source": [
    "# exchange_rate"
   ]
  },
  {
   "cell_type": "markdown",
   "id": "2f032e79",
   "metadata": {},
   "source": [
    "# DB에 직접 저장"
   ]
  },
  {
   "cell_type": "code",
   "execution_count": 15,
   "id": "479291af-077a-4d4c-9fbc-de04bb393fe5",
   "metadata": {},
   "outputs": [],
   "source": [
    "import dbio"
   ]
  },
  {
   "cell_type": "code",
   "execution_count": 18,
   "id": "9f0e1798",
   "metadata": {},
   "outputs": [
    {
     "name": "stdout",
     "output_type": "stream",
     "text": [
      "전체 7 중 0007 페이지 완료-09-04, 저장완료                          \r"
     ]
    }
   ],
   "source": [
    "for idx, date in enumerate(date_list[:]):\n",
    "    # 웹 요소가 나타날 때까지 최대 10초 동안 기다립니다.\n",
    "    wait = WebDriverWait(driver, 10)\n",
    "\n",
    "    # 날짜 박스 #tmpInqStrDt\n",
    "    datebox = wait.until(EC.presence_of_element_located((By.CSS_SELECTOR, '#tmpInqStrDt')))\n",
    "    datebox.clear()   # 기존에 입력된 값을 지웁니다.\n",
    "    datebox.send_keys(f\"{date}\")   # 새로운 값을 입력합니다.\n",
    "\n",
    "    # 조회버튼   #HANA_CONTENTS_DIV > div.btnBoxCenter > a\n",
    "    search_box = driver.find_element(By.CSS_SELECTOR, '#HANA_CONTENTS_DIV > div.btnBoxCenter > a')\n",
    "    search_box.click()   # 조회버튼 클릭\n",
    "    # 생성한 시간 동안 대기합니다.\n",
    "    time.sleep(random.uniform(3, 7))\n",
    "    exchange_rate_table = wait.until(EC.presence_of_element_located((By.CSS_SELECTOR, '#searchContentDiv > div.printdiv > table')))\n",
    "\n",
    "    # 페이지의 전체 HTML 소스를 가져옵니다.\n",
    "    page_html = driver.page_source\n",
    "    # soup = bs(page_html, \"lxml\")     # beautifulsoup으로 html을 parsing\n",
    "    exchange_rate_df = pd.read_html(page_html)\n",
    "    exchange_rate_df = exchange_rate_df[1]\n",
    "    exchange_rate_df['date'] = f\"{date}\"\n",
    "    \n",
    "    if len(exchange_rate_df.columns) == 13:\n",
    "        exchange_rate_df.columns = cols13\n",
    "        exchange_rate_df = exchange_rate_df[[*sorted_cols13]]\n",
    "    elif len(exchange_rate_df.columns) == 12:    \n",
    "        exchange_rate_df.columns = cols12\n",
    "        exchange_rate_df = exchange_rate_df[[*sorted_cols12]]\n",
    "    elif len(exchange_rate_df.columns) == 11:    \n",
    "        exchange_rate_df.columns = cols11\n",
    "        exchange_rate_df = exchange_rate_df[[*sorted_cols11]]\n",
    "    \n",
    "    dbio.exi_to_db(\"exchange_rate\", date, exchange_rate_df)\n",
    "    print(f\"전체 {len(date_list)} 중 {idx+1:04d} 페이지 완료\", end=\"\\r\")\n",
    "\n",
    "    "
   ]
  },
  {
   "cell_type": "code",
   "execution_count": null,
   "id": "202ba132",
   "metadata": {},
   "outputs": [],
   "source": []
  },
  {
   "cell_type": "code",
   "execution_count": null,
   "id": "a03ff558",
   "metadata": {},
   "outputs": [],
   "source": []
  },
  {
   "cell_type": "code",
   "execution_count": null,
   "id": "a1150221-0f83-4bb1-96cf-ae59a0ebc2cb",
   "metadata": {},
   "outputs": [],
   "source": [
    "# final_df['date'][0]"
   ]
  },
  {
   "cell_type": "code",
   "execution_count": null,
   "id": "e14af171-6b18-4b3d-8290-69daa79f767e",
   "metadata": {},
   "outputs": [],
   "source": [
    "# to_db(\"exchange_rate\", final_df"
   ]
  },
  {
   "cell_type": "code",
   "execution_count": null,
   "id": "e33f7d63-b052-4718-b75b-9ade4c88a182",
   "metadata": {},
   "outputs": [],
   "source": [
    "# 57*365*10"
   ]
  },
  {
   "cell_type": "code",
   "execution_count": null,
   "id": "ffc31e97-1d61-44b2-b72e-566ff0750530",
   "metadata": {},
   "outputs": [],
   "source": [
    "# for mon in range(1,13):\n",
    "#     print(mon)"
   ]
  },
  {
   "cell_type": "code",
   "execution_count": null,
   "id": "1ed97bb8-75b2-4481-8833-631e9ffc6f80",
   "metadata": {},
   "outputs": [],
   "source": []
  },
  {
   "cell_type": "code",
   "execution_count": null,
   "id": "c7e6f2a7",
   "metadata": {},
   "outputs": [],
   "source": []
  }
 ],
 "metadata": {
  "kernelspec": {
   "display_name": "Python 3 (ipykernel)",
   "language": "python",
   "name": "python3"
  },
  "language_info": {
   "codemirror_mode": {
    "name": "ipython",
    "version": 3
   },
   "file_extension": ".py",
   "mimetype": "text/x-python",
   "name": "python",
   "nbconvert_exporter": "python",
   "pygments_lexer": "ipython3",
   "version": "3.10.14"
  }
 },
 "nbformat": 4,
 "nbformat_minor": 5
}
