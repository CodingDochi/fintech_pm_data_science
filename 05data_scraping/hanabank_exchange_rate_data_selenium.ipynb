{
 "cells": [
  {
   "cell_type": "code",
   "execution_count": 44,
   "id": "f3ba94ef",
   "metadata": {},
   "outputs": [],
   "source": [
    "from selenium import webdriver\n",
    "from selenium.webdriver.chrome.service import Service as ChromeService\n",
    "from webdriver_manager.chrome import ChromeDriverManager\n",
    "from selenium.webdriver.common.keys import Keys\n",
    "from selenium.webdriver.common.by import By\n",
    "from selenium.webdriver.support.ui import WebDriverWait\n",
    "from selenium.webdriver.support import expected_conditions as EC\n",
    "from bs4 import BeautifulSoup as bs\n",
    "# from tqdm import tqdm\n",
    "import time\n",
    "import random\n",
    "import lxml\n",
    "import pandas as pd"
   ]
  },
  {
   "cell_type": "code",
   "execution_count": 45,
   "id": "fc90151a",
   "metadata": {},
   "outputs": [],
   "source": [
    "import warnings\n",
    "warnings.simplefilter(action='ignore', category=FutureWarning)"
   ]
  },
  {
   "cell_type": "code",
   "execution_count": 46,
   "id": "4ecff9e1",
   "metadata": {},
   "outputs": [],
   "source": [
    "# 출력 행 제한을 없애는 코드\n",
    "pd.set_option('display.max_rows', 200)"
   ]
  },
  {
   "cell_type": "markdown",
   "id": "0bb0820c",
   "metadata": {},
   "source": [
    "### 날짜 생성 코드"
   ]
  },
  {
   "cell_type": "code",
   "execution_count": 47,
   "id": "1b8eaff6",
   "metadata": {},
   "outputs": [
    {
     "name": "stdout",
     "output_type": "stream",
     "text": [
      "[datetime.date(2024, 8, 20)]\n"
     ]
    }
   ],
   "source": [
    "import datetime\n",
    "\n",
    "start_date = datetime.date(2024, 8, 20)\n",
    "end_date = datetime.date(2024, 8, 20)\n",
    "\n",
    "# 월-금요일에 해당하는 날짜 리스트 생성\n",
    "weekdays = [0, 1, 2, 3, 4]  # 월요일=0, 화요일=1, ..., 금요일=4\n",
    "date_list = []\n",
    "\n",
    "current_date = start_date\n",
    "while current_date <= end_date:\n",
    "    if current_date.weekday() in weekdays:\n",
    "        date_list.append(current_date)\n",
    "    current_date += datetime.timedelta(days=1)\n",
    "\n",
    "print(date_list)\n"
   ]
  },
  {
   "cell_type": "code",
   "execution_count": 48,
   "id": "228cd6f3",
   "metadata": {},
   "outputs": [
    {
     "data": {
      "text/plain": [
       "'2024-08-20'"
      ]
     },
     "execution_count": 48,
     "metadata": {},
     "output_type": "execute_result"
    }
   ],
   "source": [
    "str(date_list[0])"
   ]
  },
  {
   "cell_type": "code",
   "execution_count": null,
   "id": "5a978ee4",
   "metadata": {},
   "outputs": [],
   "source": []
  },
  {
   "cell_type": "code",
   "execution_count": 49,
   "id": "a736ede4",
   "metadata": {},
   "outputs": [
    {
     "ename": "TimeoutException",
     "evalue": "Message: timeout: Timed out receiving message from renderer: 299.922\n  (Session info: chrome=127.0.6533.121)\nStacktrace:\n\tGetHandleVerifier [0x00208923+23283]\n\t(No symbol) [0x001CE934]\n\t(No symbol) [0x00100733]\n\t(No symbol) [0x000EC90D]\n\t(No symbol) [0x000EC778]\n\t(No symbol) [0x000EAEDD]\n\t(No symbol) [0x000EB31D]\n\t(No symbol) [0x000F73FA]\n\t(No symbol) [0x0010B6E1]\n\t(No symbol) [0x0010FC16]\n\t(No symbol) [0x000EB94C]\n\t(No symbol) [0x0010B49D]\n\t(No symbol) [0x0017CE37]\n\t(No symbol) [0x001641B6]\n\t(No symbol) [0x00138017]\n\t(No symbol) [0x0013890D]\n\tGetHandleVerifier [0x002FA5F3+1013699]\n\tGetHandleVerifier [0x00303E4C+1052700]\n\tGetHandleVerifier [0x002FD4B4+1025668]\n\tGetHandleVerifier [0x0022EA2B+179195]\n\t(No symbol) [0x001D6833]\n\t(No symbol) [0x001D3198]\n\t(No symbol) [0x001D3337]\n\t(No symbol) [0x001CB4BE]\n\tBaseThreadInitThunk [0x7628FCC9+25]\n\tRtlGetAppContainerNamedObjectPath [0x776780CE+286]\n\tRtlGetAppContainerNamedObjectPath [0x7767809E+238]\n\t(No symbol) [0x00000000]\n",
     "output_type": "error",
     "traceback": [
      "\u001b[1;31m---------------------------------------------------------------------------\u001b[0m",
      "\u001b[1;31mTimeoutException\u001b[0m                          Traceback (most recent call last)",
      "Cell \u001b[1;32mIn[49], line 11\u001b[0m\n\u001b[0;32m      8\u001b[0m driver \u001b[38;5;241m=\u001b[39m webdriver\u001b[38;5;241m.\u001b[39mChrome(service\u001b[38;5;241m=\u001b[39mChromeService(ChromeDriverManager()\u001b[38;5;241m.\u001b[39minstall()))\n\u001b[0;32m      9\u001b[0m driver\u001b[38;5;241m.\u001b[39mset_window_size(\u001b[38;5;241m1920\u001b[39m,\u001b[38;5;241m1080\u001b[39m)   \u001b[38;5;66;03m# 웹브라우저 해상도 조절\u001b[39;00m\n\u001b[1;32m---> 11\u001b[0m \u001b[43mdriver\u001b[49m\u001b[38;5;241;43m.\u001b[39;49m\u001b[43mget\u001b[49m\u001b[43m(\u001b[49m\u001b[38;5;124;43m\"\u001b[39;49m\u001b[38;5;124;43mhttps://www.hanabank.com/cms/rate/index.do?contentUrl=/cms/rate/wpfxd651_01i.do#//HanaBank\u001b[39;49m\u001b[38;5;124;43m\"\u001b[39;49m\u001b[43m)\u001b[49m  \u001b[38;5;66;03m# 크롤링 할 웹사이트 주소\u001b[39;00m\n",
      "File \u001b[1;32m~\\miniforge3\\envs\\fintech\\lib\\site-packages\\selenium\\webdriver\\remote\\webdriver.py:363\u001b[0m, in \u001b[0;36mWebDriver.get\u001b[1;34m(self, url)\u001b[0m\n\u001b[0;32m    361\u001b[0m \u001b[38;5;28;01mdef\u001b[39;00m \u001b[38;5;21mget\u001b[39m(\u001b[38;5;28mself\u001b[39m, url: \u001b[38;5;28mstr\u001b[39m) \u001b[38;5;241m-\u001b[39m\u001b[38;5;241m>\u001b[39m \u001b[38;5;28;01mNone\u001b[39;00m:\n\u001b[0;32m    362\u001b[0m \u001b[38;5;250m    \u001b[39m\u001b[38;5;124;03m\"\"\"Loads a web page in the current browser session.\"\"\"\u001b[39;00m\n\u001b[1;32m--> 363\u001b[0m     \u001b[38;5;28;43mself\u001b[39;49m\u001b[38;5;241;43m.\u001b[39;49m\u001b[43mexecute\u001b[49m\u001b[43m(\u001b[49m\u001b[43mCommand\u001b[49m\u001b[38;5;241;43m.\u001b[39;49m\u001b[43mGET\u001b[49m\u001b[43m,\u001b[49m\u001b[43m \u001b[49m\u001b[43m{\u001b[49m\u001b[38;5;124;43m\"\u001b[39;49m\u001b[38;5;124;43murl\u001b[39;49m\u001b[38;5;124;43m\"\u001b[39;49m\u001b[43m:\u001b[49m\u001b[43m \u001b[49m\u001b[43murl\u001b[49m\u001b[43m}\u001b[49m\u001b[43m)\u001b[49m\n",
      "File \u001b[1;32m~\\miniforge3\\envs\\fintech\\lib\\site-packages\\selenium\\webdriver\\remote\\webdriver.py:354\u001b[0m, in \u001b[0;36mWebDriver.execute\u001b[1;34m(self, driver_command, params)\u001b[0m\n\u001b[0;32m    352\u001b[0m response \u001b[38;5;241m=\u001b[39m \u001b[38;5;28mself\u001b[39m\u001b[38;5;241m.\u001b[39mcommand_executor\u001b[38;5;241m.\u001b[39mexecute(driver_command, params)\n\u001b[0;32m    353\u001b[0m \u001b[38;5;28;01mif\u001b[39;00m response:\n\u001b[1;32m--> 354\u001b[0m     \u001b[38;5;28;43mself\u001b[39;49m\u001b[38;5;241;43m.\u001b[39;49m\u001b[43merror_handler\u001b[49m\u001b[38;5;241;43m.\u001b[39;49m\u001b[43mcheck_response\u001b[49m\u001b[43m(\u001b[49m\u001b[43mresponse\u001b[49m\u001b[43m)\u001b[49m\n\u001b[0;32m    355\u001b[0m     response[\u001b[38;5;124m\"\u001b[39m\u001b[38;5;124mvalue\u001b[39m\u001b[38;5;124m\"\u001b[39m] \u001b[38;5;241m=\u001b[39m \u001b[38;5;28mself\u001b[39m\u001b[38;5;241m.\u001b[39m_unwrap_value(response\u001b[38;5;241m.\u001b[39mget(\u001b[38;5;124m\"\u001b[39m\u001b[38;5;124mvalue\u001b[39m\u001b[38;5;124m\"\u001b[39m, \u001b[38;5;28;01mNone\u001b[39;00m))\n\u001b[0;32m    356\u001b[0m     \u001b[38;5;28;01mreturn\u001b[39;00m response\n",
      "File \u001b[1;32m~\\miniforge3\\envs\\fintech\\lib\\site-packages\\selenium\\webdriver\\remote\\errorhandler.py:229\u001b[0m, in \u001b[0;36mErrorHandler.check_response\u001b[1;34m(self, response)\u001b[0m\n\u001b[0;32m    227\u001b[0m         alert_text \u001b[38;5;241m=\u001b[39m value[\u001b[38;5;124m\"\u001b[39m\u001b[38;5;124malert\u001b[39m\u001b[38;5;124m\"\u001b[39m]\u001b[38;5;241m.\u001b[39mget(\u001b[38;5;124m\"\u001b[39m\u001b[38;5;124mtext\u001b[39m\u001b[38;5;124m\"\u001b[39m)\n\u001b[0;32m    228\u001b[0m     \u001b[38;5;28;01mraise\u001b[39;00m exception_class(message, screen, stacktrace, alert_text)  \u001b[38;5;66;03m# type: ignore[call-arg]  # mypy is not smart enough here\u001b[39;00m\n\u001b[1;32m--> 229\u001b[0m \u001b[38;5;28;01mraise\u001b[39;00m exception_class(message, screen, stacktrace)\n",
      "\u001b[1;31mTimeoutException\u001b[0m: Message: timeout: Timed out receiving message from renderer: 299.922\n  (Session info: chrome=127.0.6533.121)\nStacktrace:\n\tGetHandleVerifier [0x00208923+23283]\n\t(No symbol) [0x001CE934]\n\t(No symbol) [0x00100733]\n\t(No symbol) [0x000EC90D]\n\t(No symbol) [0x000EC778]\n\t(No symbol) [0x000EAEDD]\n\t(No symbol) [0x000EB31D]\n\t(No symbol) [0x000F73FA]\n\t(No symbol) [0x0010B6E1]\n\t(No symbol) [0x0010FC16]\n\t(No symbol) [0x000EB94C]\n\t(No symbol) [0x0010B49D]\n\t(No symbol) [0x0017CE37]\n\t(No symbol) [0x001641B6]\n\t(No symbol) [0x00138017]\n\t(No symbol) [0x0013890D]\n\tGetHandleVerifier [0x002FA5F3+1013699]\n\tGetHandleVerifier [0x00303E4C+1052700]\n\tGetHandleVerifier [0x002FD4B4+1025668]\n\tGetHandleVerifier [0x0022EA2B+179195]\n\t(No symbol) [0x001D6833]\n\t(No symbol) [0x001D3198]\n\t(No symbol) [0x001D3337]\n\t(No symbol) [0x001CB4BE]\n\tBaseThreadInitThunk [0x7628FCC9+25]\n\tRtlGetAppContainerNamedObjectPath [0x776780CE+286]\n\tRtlGetAppContainerNamedObjectPath [0x7767809E+238]\n\t(No symbol) [0x00000000]\n"
     ]
    }
   ],
   "source": [
    "# 크롬 옵션즈에 User-Agent, lang 같은 정보를 담아 셀레니움을 이용한 크롤링이 아닌 것 처럼 만들기\n",
    "options = webdriver.ChromeOptions()\n",
    "options.add_experimental_option(\"excludeSwitches\", [\"enable-logging\"])\n",
    "# options.add_argument('Mozilla/5.0 (Windows NT 10.0; Win64; x64) AppleWebKit/537.36 (KHTML, like Gecko) Chrome/107.0.0.0 Safari/537.36')\n",
    "options.add_argument(\"lang=ko_KR\")\n",
    "\n",
    "# 웹드라이버를 버전에 맞게 자동으로 다운 받고 옵션을 추가해 줌\n",
    "driver = webdriver.Chrome(service=ChromeService(ChromeDriverManager().install()))\n",
    "driver.set_window_size(1920,1080)   # 웹브라우저 해상도 조절\n",
    "\n",
    "driver.get(\"https://www.hanabank.com/cms/rate/index.do?contentUrl=/cms/rate/wpfxd651_01i.do#//HanaBank\")  # 크롤링 할 웹사이트 주소"
   ]
  },
  {
   "cell_type": "code",
   "execution_count": null,
   "id": "5cdf1850",
   "metadata": {},
   "outputs": [],
   "source": [
    "# cols = ('통화', '현찰_살때_환율', '현찰_살때_Spread', '현찰_팔때_환율', '현찰_팔때_Spread', \n",
    "#        '송금_보낼때', '송금_받을때', 'T/C_살때', '외화_수표_팔때', '매매기준율', '환가_료율',\n",
    "#        '미화 환산율', 'date')\n",
    "# sorted_cols = ('date', '통화', '현찰_살때_환율', '현찰_살때_Spread', '현찰_팔때_환율', '현찰_팔때_Spread', \n",
    "#        '송금_보낼때', '송금_받을때', 'T/C_살때', '외화_수표_팔때', '매매기준율', '환가_료율',\n",
    "#        '미화 환산율')"
   ]
  },
  {
   "cell_type": "code",
   "execution_count": null,
   "id": "752f8c04",
   "metadata": {},
   "outputs": [],
   "source": [
    "cols = ('통화', '현찰_살때_환율', '현찰_살때_Spread', '현찰_팔때_환율', '현찰_팔때_Spread', \n",
    "       '송금_보낼때', '송금_받을때', '매매기준율', '환가_료율', '미화 환산율', 'date')\n",
    "sorted_cols = ('date', '통화', '현찰_살때_환율', '현찰_살때_Spread', '현찰_팔때_환율', '현찰_팔때_Spread', \n",
    "       '송금_보낼때', '송금_받을때', '매매기준율', '환가_료율', '미화 환산율')"
   ]
  },
  {
   "cell_type": "code",
   "execution_count": null,
   "id": "d9c4a006",
   "metadata": {},
   "outputs": [],
   "source": [
    "date_list"
   ]
  },
  {
   "cell_type": "code",
   "execution_count": null,
   "id": "a3466130",
   "metadata": {},
   "outputs": [],
   "source": [
    "for idx, date in enumerate(date_list[:5]):\n",
    "    # 웹 요소가 나타날 때까지 최대 10초 동안 기다립니다.\n",
    "    wait = WebDriverWait(driver, 10)\n",
    "\n",
    "    # 날짜 박스 #tmpInqStrDt\n",
    "    datebox = wait.until(EC.presence_of_element_located((By.CSS_SELECTOR, '#tmpInqStrDt')))\n",
    "    datebox.clear()   # 기존에 입력된 값을 지웁니다.\n",
    "    datebox.send_keys(f\"{str(date)}\")   # 새로운 값을 입력합니다.\n",
    "\n",
    "    # 조회버튼   #HANA_CONTENTS_DIV > div.btnBoxCenter > a\n",
    "    search_box = driver.find_element(By.CSS_SELECTOR, '#HANA_CONTENTS_DIV > div.btnBoxCenter > a')\n",
    "    search_box.click()   # 조회버튼 클릭\n",
    "    # 생성한 시간 동안 대기합니다.\n",
    "    time.sleep(random.uniform(3, 7))\n",
    "    exchange_rate_table = wait.until(EC.presence_of_element_located((By.CSS_SELECTOR, '#searchContentDiv > div.printdiv > table')))\n",
    "\n",
    "    # 페이지의 전체 HTML 소스를 가져옵니다.\n",
    "    page_html = driver.page_source\n",
    "    # soup = bs(page_html, \"lxml\")     # beautifulsoup으로 html을 parsing\n",
    "    exchange_rate = pd.read_html(page_html)\n",
    "    exchange_rate = exchange_rate[1]\n",
    "    exchange_rate['date'] = f\"{date}\"\n",
    "    exchange_rate.columns = new_columns\n",
    "    exchange_rate = exchange_rate[[*col_sorted]]\n",
    "    \n",
    "    display(exchange_rate)\n",
    "    print(f\"전체 {len(date_list)} 중 {idx+1:04d} 페이지 완료\", end=\"\\r\")\n",
    "\n",
    "    "
   ]
  },
  {
   "cell_type": "code",
   "execution_count": null,
   "id": "fc432e93",
   "metadata": {},
   "outputs": [],
   "source": []
  },
  {
   "cell_type": "code",
   "execution_count": null,
   "id": "48d45c7c",
   "metadata": {
    "scrolled": true
   },
   "outputs": [],
   "source": [
    "cols = dict(zip(tuple(exchange_rate.columns), new_columns))"
   ]
  },
  {
   "cell_type": "code",
   "execution_count": null,
   "id": "e10f1d24",
   "metadata": {},
   "outputs": [],
   "source": [
    "cols"
   ]
  },
  {
   "cell_type": "code",
   "execution_count": null,
   "id": "1a07fb12",
   "metadata": {
    "scrolled": true
   },
   "outputs": [],
   "source": [
    "exchange_rate = exchange_rate.rename(columns={('통화', '통화', '통화'): '통화',\n",
    " ('현찰', '사실 때', '환율'): '현찰_사실때_환율'})\n",
    "exchange_rate"
   ]
  },
  {
   "cell_type": "code",
   "execution_count": null,
   "id": "e3e74526-c5f7-415e-8ec4-1480aacd398b",
   "metadata": {},
   "outputs": [],
   "source": []
  },
  {
   "cell_type": "code",
   "execution_count": null,
   "id": "b4f870b3",
   "metadata": {
    "scrolled": true
   },
   "outputs": [],
   "source": [
    "exchange_rate.info()"
   ]
  },
  {
   "cell_type": "code",
   "execution_count": null,
   "id": "795a2197",
   "metadata": {},
   "outputs": [],
   "source": [
    "exchange_rate"
   ]
  },
  {
   "cell_type": "markdown",
   "id": "2f032e79",
   "metadata": {},
   "source": [
    "# DB에 직접 저장"
   ]
  },
  {
   "cell_type": "code",
   "execution_count": null,
   "id": "479291af-077a-4d4c-9fbc-de04bb393fe5",
   "metadata": {},
   "outputs": [],
   "source": [
    "import dbio"
   ]
  },
  {
   "cell_type": "code",
   "execution_count": null,
   "id": "9f0e1798",
   "metadata": {},
   "outputs": [],
   "source": [
    "for idx, date in enumerate(date_list[:]):\n",
    "    # 웹 요소가 나타날 때까지 최대 10초 동안 기다립니다.\n",
    "    wait = WebDriverWait(driver, 10)\n",
    "\n",
    "    # 날짜 박스 #tmpInqStrDt\n",
    "    datebox = wait.until(EC.presence_of_element_located((By.CSS_SELECTOR, '#tmpInqStrDt')))\n",
    "    datebox.clear()   # 기존에 입력된 값을 지웁니다.\n",
    "    datebox.send_keys(f\"{date}\")   # 새로운 값을 입력합니다.\n",
    "\n",
    "    # 조회버튼   #HANA_CONTENTS_DIV > div.btnBoxCenter > a\n",
    "    search_box = driver.find_element(By.CSS_SELECTOR, '#HANA_CONTENTS_DIV > div.btnBoxCenter > a')\n",
    "    search_box.click()   # 조회버튼 클릭\n",
    "    # 생성한 시간 동안 대기합니다.\n",
    "    time.sleep(random.uniform(3, 7))\n",
    "    exchange_rate_table = wait.until(EC.presence_of_element_located((By.CSS_SELECTOR, '#searchContentDiv > div.printdiv > table')))\n",
    "\n",
    "    # 페이지의 전체 HTML 소스를 가져옵니다.\n",
    "    page_html = driver.page_source\n",
    "    # soup = bs(page_html, \"lxml\")     # beautifulsoup으로 html을 parsing\n",
    "    exchange_rate_df = pd.read_html(page_html)\n",
    "    exchange_rate_df = exchange_rate_df[1]\n",
    "    exchange_rate_df['date'] = f\"{date}\"\n",
    "    exchange_rate_df.columns = new_columns\n",
    "    exchange_rate_df = exchange_rate_df[[*col_sorted]]\n",
    "    \n",
    "    dbio.exi_to_db(\"exchange_rate\", date, exchange_rate_df)\n",
    "    print(f\"전체 {len(dates)} 중 {idx+1:04d} 페이지 완료\", end=\"\\r\")\n",
    "\n",
    "    "
   ]
  },
  {
   "cell_type": "code",
   "execution_count": null,
   "id": "202ba132",
   "metadata": {},
   "outputs": [],
   "source": []
  },
  {
   "cell_type": "code",
   "execution_count": null,
   "id": "a03ff558",
   "metadata": {},
   "outputs": [],
   "source": []
  },
  {
   "cell_type": "code",
   "execution_count": null,
   "id": "a1150221-0f83-4bb1-96cf-ae59a0ebc2cb",
   "metadata": {},
   "outputs": [],
   "source": [
    "final_df['date'][0]"
   ]
  },
  {
   "cell_type": "code",
   "execution_count": null,
   "id": "e14af171-6b18-4b3d-8290-69daa79f767e",
   "metadata": {},
   "outputs": [],
   "source": [
    "to_db(\"exchange_rate\", final_df"
   ]
  },
  {
   "cell_type": "code",
   "execution_count": null,
   "id": "e33f7d63-b052-4718-b75b-9ade4c88a182",
   "metadata": {},
   "outputs": [],
   "source": [
    "57*365*10"
   ]
  },
  {
   "cell_type": "code",
   "execution_count": null,
   "id": "ffc31e97-1d61-44b2-b72e-566ff0750530",
   "metadata": {},
   "outputs": [],
   "source": [
    "for mon in range(1,13):\n",
    "    print(mon)"
   ]
  },
  {
   "cell_type": "code",
   "execution_count": null,
   "id": "1ed97bb8-75b2-4481-8833-631e9ffc6f80",
   "metadata": {},
   "outputs": [],
   "source": []
  },
  {
   "cell_type": "code",
   "execution_count": null,
   "id": "c7e6f2a7",
   "metadata": {},
   "outputs": [],
   "source": []
  }
 ],
 "metadata": {
  "kernelspec": {
   "display_name": "Python 3 (ipykernel)",
   "language": "python",
   "name": "python3"
  },
  "language_info": {
   "codemirror_mode": {
    "name": "ipython",
    "version": 3
   },
   "file_extension": ".py",
   "mimetype": "text/x-python",
   "name": "python",
   "nbconvert_exporter": "python",
   "pygments_lexer": "ipython3",
   "version": "3.10.14"
  }
 },
 "nbformat": 4,
 "nbformat_minor": 5
}
