{
 "cells": [
  {
   "cell_type": "code",
   "execution_count": 1,
   "metadata": {
    "executionInfo": {
     "elapsed": 472,
     "status": "ok",
     "timestamp": 1727158170893,
     "user": {
      "displayName": "황성민",
      "userId": "04059793346518192521"
     },
     "user_tz": -540
    },
    "id": "kNP8W7z3o9Pa"
   },
   "outputs": [
    {
     "name": "stdout",
     "output_type": "stream",
     "text": [
      "Requirement already satisfied: pip in /home/user/miniforge3/envs/torch/lib/python3.11/site-packages (24.2)\r\n"
     ]
    }
   ],
   "source": [
    "!python3 -m pip install --upgrade pip"
   ]
  },
  {
   "cell_type": "code",
   "execution_count": 2,
   "metadata": {
    "executionInfo": {
     "elapsed": 5,
     "status": "ok",
     "timestamp": 1727158171490,
     "user": {
      "displayName": "황성민",
      "userId": "04059793346518192521"
     },
     "user_tz": -540
    },
    "id": "Sulb31K04W5M",
    "scrolled": true
   },
   "outputs": [
    {
     "name": "stdout",
     "output_type": "stream",
     "text": [
      "\u001b[31mERROR: pip's dependency resolver does not currently take into account all the packages that are installed. This behaviour is the source of the following dependency conflicts.\r\n",
      "tensorflow 2.17.0 requires protobuf!=4.21.0,!=4.21.1,!=4.21.2,!=4.21.3,!=4.21.4,!=4.21.5,<5.0.0dev,>=3.20.3, but you have protobuf 5.28.2 which is incompatible.\r\n",
      "mediapipe 0.10.15 requires protobuf<5,>=4.25.3, but you have protobuf 5.28.2 which is incompatible.\u001b[0m\u001b[31m\r\n",
      "\u001b[0m"
     ]
    }
   ],
   "source": [
    "!pip install -q -U google-generativeai"
   ]
  },
  {
   "cell_type": "code",
   "execution_count": 3,
   "metadata": {
    "executionInfo": {
     "elapsed": 4,
     "status": "ok",
     "timestamp": 1727158171490,
     "user": {
      "displayName": "황성민",
      "userId": "04059793346518192521"
     },
     "user_tz": -540
    },
    "id": "wE6T4GXz4sHC"
   },
   "outputs": [
    {
     "name": "stdout",
     "output_type": "stream",
     "text": [
      "Collecting python-dotenv\n",
      "  Using cached python_dotenv-1.0.1-py3-none-any.whl.metadata (23 kB)\n",
      "Using cached python_dotenv-1.0.1-py3-none-any.whl (19 kB)\n",
      "Installing collected packages: python-dotenv\n",
      "Successfully installed python-dotenv-1.0.1\n"
     ]
    }
   ],
   "source": [
    "!pip install python-dotenv"
   ]
  },
  {
   "cell_type": "code",
   "execution_count": 4,
   "metadata": {
    "executionInfo": {
     "elapsed": 4,
     "status": "ok",
     "timestamp": 1727158171490,
     "user": {
      "displayName": "황성민",
      "userId": "04059793346518192521"
     },
     "user_tz": -540
    },
    "id": "y0_ThYH45VI4"
   },
   "outputs": [],
   "source": [
    "# !pip install gradio==3.40.0"
   ]
  },
  {
   "cell_type": "code",
   "execution_count": 5,
   "metadata": {
    "executionInfo": {
     "elapsed": 3,
     "status": "ok",
     "timestamp": 1727158171490,
     "user": {
      "displayName": "황성민",
      "userId": "04059793346518192521"
     },
     "user_tz": -540
    },
    "id": "_b0rTrf-4ee2"
   },
   "outputs": [],
   "source": [
    "\n",
    "# Used to securely store your API key\n",
    "# from google.colab import userdata"
   ]
  },
  {
   "cell_type": "code",
   "execution_count": 5,
   "metadata": {
    "colab": {
     "base_uri": "https://localhost:8080/",
     "height": 405
    },
    "executionInfo": {
     "elapsed": 1373,
     "status": "error",
     "timestamp": 1727158172860,
     "user": {
      "displayName": "황성민",
      "userId": "04059793346518192521"
     },
     "user_tz": -540
    },
    "id": "QIuOM45s26cD",
    "outputId": "0178233d-a5c3-4899-b422-707c14eb5cda"
   },
   "outputs": [
    {
     "data": {
      "text/plain": [
       "True"
      ]
     },
     "execution_count": 5,
     "metadata": {},
     "output_type": "execute_result"
    }
   ],
   "source": [
    "import os\n",
    "import json\n",
    "import requests\n",
    "import gradio as gr\n",
    "import google.generativeai as genai\n",
    "from datetime import date\n",
    "from bs4 import BeautifulSoup\n",
    "from dotenv import load_dotenv\n",
    "from typing import Any, Callable, Dict, List, Tuple\n",
    "\n",
    "load_dotenv(\".chatbotenv\")"
   ]
  },
  {
   "cell_type": "code",
   "execution_count": 6,
   "metadata": {
    "executionInfo": {
     "elapsed": 5,
     "status": "aborted",
     "timestamp": 1727158172861,
     "user": {
      "displayName": "황성민",
      "userId": "04059793346518192521"
     },
     "user_tz": -540
    },
    "id": "9KSjR6Hv5qHU"
   },
   "outputs": [],
   "source": [
    "GOOGLE_API_KEY=os.getenv('GOOGLE_API_KEY')\n",
    "genai.configure(api_key=GOOGLE_API_KEY)"
   ]
  },
  {
   "cell_type": "code",
   "execution_count": 7,
   "metadata": {
    "executionInfo": {
     "elapsed": 4,
     "status": "aborted",
     "timestamp": 1727158172861,
     "user": {
      "displayName": "황성민",
      "userId": "04059793346518192521"
     },
     "user_tz": -540
    },
    "id": "z-b_-xOy7fQP"
   },
   "outputs": [],
   "source": [
    "# model = genai.GenerativeModel(\"gemini-1.5-flash\")\n",
    "# response = model.generate_content(\"Write a story about a magic backpack.\")\n",
    "# print(response.text)"
   ]
  },
  {
   "cell_type": "code",
   "execution_count": 9,
   "metadata": {
    "executionInfo": {
     "elapsed": 4,
     "status": "aborted",
     "timestamp": 1727158172861,
     "user": {
      "displayName": "황성민",
      "userId": "04059793346518192521"
     },
     "user_tz": -540
    },
    "id": "5MZlICtE21rQ"
   },
   "outputs": [
    {
     "name": "stdout",
     "output_type": "stream",
     "text": [
      "Running on local URL:  http://127.0.0.1:7867\n",
      "IMPORTANT: You are using gradio version 3.40.0, however version 4.29.0 is available, please upgrade.\n",
      "--------\n",
      "Running on public URL: https://6c644b13c083ca7f68.gradio.live\n",
      "\n",
      "This share link expires in 72 hours. For free permanent hosting and GPU upgrades, run `gradio deploy` from Terminal to deploy to Spaces (https://huggingface.co/spaces)\n"
     ]
    },
    {
     "data": {
      "text/plain": []
     },
     "execution_count": 9,
     "metadata": {},
     "output_type": "execute_result"
    },
    {
     "name": "stdout",
     "output_type": "stream",
     "text": [
      "https://openapi.naver.com/v1/search/news.json?query=%EB%AF%B8%EA%B5%AD+%EB%8C%80%EC%84%A0%EC%97%90+%EB%8C%80%ED%95%B4%EC%84%9C+%EC%95%8C%EB%A0%A4%EC%A4%98&display=100&start=1&sort=date\n",
      "<class 'dict'>\n"
     ]
    }
   ],
   "source": [
    "class GPTClient:\n",
    "    def __init__(self):\n",
    "        # Initialize the Gemini model\n",
    "        self.model = genai.GenerativeModel(\"gemini-1.5-flash\")\n",
    "\n",
    "    def generate_response(self, prompt: str) -> str:\n",
    "        \"\"\"\n",
    "        Generate content using the Gemini API with the specified prompt.\n",
    "        \"\"\"\n",
    "        try:\n",
    "            response = self.model.generate_content(prompt)\n",
    "            # 응답에서 차단된 이유를 확인\n",
    "            if not response.candidates:\n",
    "                block_reason = getattr(response, 'prompt_feedback', {}).get('block_reason', 'Unknown')\n",
    "                return f\"요청이 차단되었습니다. 차단 이유: {block_reason}\"\n",
    "            return response.text\n",
    "        except Exception as e:\n",
    "            return f\"오류 발생: {str(e)}\"\n",
    "\n",
    "    def get_args_for_function_call(\n",
    "        self, messages: List[Dict[str, str]], function_signatures: List[Dict[str, Any]]\n",
    "    ) -> Dict[str, Any]:\n",
    "        \"\"\"\n",
    "        Return the arguments for the function call or just the response content.\n",
    "        \"\"\"\n",
    "        # Generate a response using the Gemini API\n",
    "        generated_text = self.generate_response(messages[-1]['content'])\n",
    "\n",
    "        # Since we are not actually calling a function, return a dictionary with content\n",
    "        return {\n",
    "            \"content\": generated_text,\n",
    "            \"function_call\": None  # No function call required\n",
    "        }\n",
    "\n",
    "    def request_with_function_call(\n",
    "        self,\n",
    "        messages: List[Dict[str, str]],\n",
    "        function: Callable,\n",
    "        function_call_resp: Dict[str, Any],\n",
    "        prompt: str = \"\",\n",
    "    ) -> str:\n",
    "        \"\"\"\n",
    "        Process function call response or return generated content directly.\n",
    "        \"\"\"\n",
    "        # If there's no function call in the response, return the content directly\n",
    "        if not function_call_resp.get(\"function_call\"):\n",
    "            return function_call_resp[\"content\"]\n",
    "\n",
    "        function_name = function_call_resp[\"function_call\"][\"name\"]\n",
    "\n",
    "        if prompt:\n",
    "            messages.append({\"role\": \"system\", \"content\": prompt})\n",
    "\n",
    "        # Simulating external function call\n",
    "        kwargs = json.loads(function_call_resp[\"function_call\"][\"arguments\"])\n",
    "        function_result = function(**kwargs)\n",
    "\n",
    "        messages.append(function_call_resp)\n",
    "        messages.append(\n",
    "            {\"role\": \"function\", \"name\": function_name, \"content\": function_result}\n",
    "        )\n",
    "\n",
    "        # Generating final response with Gemini API\n",
    "        res = self.generate_response(messages[-1]['content'])\n",
    "        return res\n",
    "\n",
    "    def summarize(self, texts: str) -> str:\n",
    "        prompt = f\"\"\"\n",
    "            Summarize the following sentences:\n",
    "            ---\n",
    "            {texts}\n",
    "            \"\"\"\n",
    "        return self.generate_response(prompt)\n",
    "\n",
    "    def translate(self, texts: str) -> str:\n",
    "        prompt = f\"\"\"\n",
    "            Translate the following sentences to Korean:\n",
    "            ---\n",
    "            {texts}\n",
    "            \"\"\"\n",
    "        return self.generate_response(prompt)\n",
    "\n",
    "def text_clean(x):\n",
    "    x = x.replace(\"&quot;\", \"\").replace(\"<b>\", \"\").replace(\"</b>\", \"\").replace(\"‘\", \"\").replace(\"’\", \"\")\n",
    "    return x\n",
    "\n",
    "gpt_client = GPTClient()\n",
    "\n",
    "class NewsApiClient:\n",
    "    def __init__(self):\n",
    "        self.client_id = os.getenv('client_id')\n",
    "        self.client_secret = os.getenv('client_secret')\n",
    "        self.max_num_articles = 5\n",
    "\n",
    "    def get_articles(self, query: str = None) -> str:\n",
    "        \"\"\"Naver News API를 사용하여 검색된 기사를 처리합니다.\"\"\"\n",
    "        base_url = \"https://openapi.naver.com/v1/search/news.json\"\n",
    "        params = {\n",
    "            'query': query,\n",
    "            'display': 100,  # 최대 100개의 기사를 가져오도록 설정\n",
    "            'start': 1,\n",
    "            'sort': 'date'\n",
    "        }\n",
    "        headers = {\n",
    "            \"X-Naver-Client-Id\": self.client_id,\n",
    "            \"X-Naver-Client-Secret\": self.client_secret\n",
    "        }\n",
    "\n",
    "        # Naver News API 호출\n",
    "        response = requests.get(base_url, params=params, headers=headers)\n",
    "        print(response.url)  # 디버깅용으로 URL 출력\n",
    "\n",
    "        if response.status_code == 200:\n",
    "            data = response.json()\n",
    "            print(type(data))  # 데이터 타입 출력 (json 데이터)\n",
    "        else:\n",
    "            print(\"Error Code:\", response.status_code)\n",
    "            return \"Error fetching articles\"\n",
    "\n",
    "        today = date.today()\n",
    "        formatted_date = today.strftime(\"%a, %d %b %Y\")  # 이미지의 날짜 형식에 맞게 포맷\n",
    "\n",
    "        result = {\n",
    "            \"title\": [],\n",
    "            \"originallink\": [],\n",
    "            \"link\": [],\n",
    "            \"description\": [],\n",
    "            \"pubDate\": []\n",
    "        }\n",
    "\n",
    "        # 검색된 기사 중 오늘 날짜에 해당하는 기사만 추출\n",
    "        for item in data['items']:\n",
    "            if formatted_date not in item['pubDate']:\n",
    "                # 각각의 컬럼에 맞는 데이터를 result 딕셔너리에 추가\n",
    "                result['title'].append(text_clean(item['title']))\n",
    "                result['originallink'].append(item.get('originallink', 'N/A'))\n",
    "                result['link'].append(item['link'])\n",
    "                result['description'].append(text_clean(item['description']))\n",
    "                result['pubDate'].append(item['pubDate'])\n",
    "            else:\n",
    "                break\n",
    "\n",
    "        # 처리된 결과를 JSON 형식으로 반환\n",
    "        return json.dumps(result, ensure_ascii=False, indent=4)\n",
    "\n",
    "\n",
    "news_api_client = NewsApiClient()\n",
    "\n",
    "def respond(prompt: str, chat_history: List[str]) -> Tuple[str, List[str], gr.Dropdown, str]:\n",
    "    \"\"\"\n",
    "    사용자 입력(prompt)에 따라 Naver 뉴스 API에서 기사를 검색하고,\n",
    "    그 결과를 사용자에게 출력하고, 기사 제목을 드롭다운에 표시하는 함수.\n",
    "    또한 기사 데이터(articles_json)를 상태로 반환하여 나중에 사용.\n",
    "    \"\"\"\n",
    "    # 사용자 입력에 따라 메시지 생성\n",
    "    messages = [{\"role\": \"user\", \"content\": prompt}]\n",
    "\n",
    "    # GPT에서 응답 생성\n",
    "    answer = gpt_client.generate_response(prompt)\n",
    "\n",
    "    # Naver 뉴스 API에서 기사를 검색하는 부분\n",
    "    articles_json = news_api_client.get_articles(query=prompt)\n",
    "    articles = json.loads(articles_json)  # JSON 데이터를 딕셔너리로 변환\n",
    "\n",
    "    # 기사 제목 리스트 생성\n",
    "    title_list = articles['title'] if 'title' in articles else []\n",
    "\n",
    "    if not title_list:\n",
    "        chat_history.append((prompt, \"관련 기사를 찾을 수 없습니다.\"))\n",
    "        return \"\", chat_history, gr.Dropdown.update(choices=[]), \"\"\n",
    "\n",
    "    # 채팅 기록 업데이트\n",
    "    chat_history.append((prompt, answer))\n",
    "\n",
    "    # 기사 제목 리스트를 드롭다운에 반영 및 기사 데이터를 상태로 반환\n",
    "    return \"\", chat_history, gr.Dropdown.update(choices=title_list), articles_json\n",
    "\n",
    "\n",
    "def scrap_article(title: str, articles_json: str) -> Tuple[str, str]:\n",
    "    \"\"\"\n",
    "    Naver 뉴스 기사 제목에 맞는 URL을 통해 기사를 가져와 요약하고 번역합니다.\n",
    "    `articles_json`은 get_articles 함수에서 반환된 기사 정보입니다.\n",
    "    \"\"\"\n",
    "    if not articles_json:\n",
    "        return \"기사 데이터를 가져오는 중 오류가 발생했습니다.\", \"\"\n",
    "\n",
    "    # JSON 데이터를 딕셔너리로 변환\n",
    "    articles = json.loads(articles_json)\n",
    "\n",
    "    # title을 기반으로 articles에서 해당 기사의 URL을 찾아서 가져오기\n",
    "    if title in articles['title']:\n",
    "        index = articles['title'].index(title)  # 선택된 제목의 인덱스를 찾음\n",
    "        url = articles['originallink'][index]  # 해당 제목의 originallink 가져오기\n",
    "    else:\n",
    "        return \"해당 제목에 대한 기사를 찾을 수 없습니다.\", \"\"\n",
    "\n",
    "    # 기사 페이지에서 내용을 가져오기\n",
    "    rep = requests.get(url)\n",
    "    if rep.status_code != 200:\n",
    "        return \"기사를 가져오는 중 오류가 발생했습니다.\", \"\"\n",
    "\n",
    "    # BeautifulSoup을 사용해 본문 파싱\n",
    "    soup = BeautifulSoup(rep.content, \"html.parser\")\n",
    "\n",
    "    # 기사 본문 추출\n",
    "    article = \"\"\n",
    "    for paragraph in soup.find_all(\"p\"):  # 본문이 <p> 태그로 구성되어 있다고 가정\n",
    "        article += paragraph.text.strip()\n",
    "\n",
    "    if not article:\n",
    "        return \"기사를 스크랩하는 중 오류가 발생했습니다.\", \"\"\n",
    "\n",
    "    # Gemini API를 사용해 기사를 요약하고 번역\n",
    "    summarized_article = gpt_client.summarize(article)\n",
    "    translated_article = gpt_client.translate(summarized_article)\n",
    "\n",
    "    return summarized_article, translated_article\n",
    "\n",
    "def clear_output() -> Tuple[str, List[str], gr.Dropdown, str, str, str]:\n",
    "    \"\"\"\n",
    "    Clear 버튼을 눌렀을 때 모든 출력 요소들을 초기화하는 함수.\n",
    "    \"\"\"\n",
    "    return \"\", [], gr.Dropdown.update(choices=[], value=None), \"\", \"\", \"\"  # article_list도 완전히 초기화 (value=None 추가)\n",
    "\n",
    "# Gradio 인터페이스 설정\n",
    "with gr.Blocks() as app:\n",
    "    gr.Markdown(\"# 뉴스 기사 탐색 챗봇\")\n",
    "\n",
    "    with gr.Row():\n",
    "        with gr.Column():\n",
    "            gr.Markdown(\"## Chat 얻고 싶은 정보에 대해 질문해보세요.\")\n",
    "            chatbot = gr.Chatbot(label=\"Chat History\")\n",
    "            prompt = gr.Textbox(label=\"Input prompt\")\n",
    "            clear = gr.Button(\"Clear\")  # Clear 버튼 추가\n",
    "\n",
    "        with gr.Column():\n",
    "            gr.Markdown(\"## Select News article 원하는 기사를 선택하세요.\")\n",
    "            article_list = gr.Dropdown(label=\"Article List\", choices=[])\n",
    "            abstract_box = gr.Textbox(label=\"Summarized article\", lines=10, interactive=False)\n",
    "            translate_box = gr.Textbox(label=\"Translated article\", lines=10, interactive=False)\n",
    "            scrap_btn = gr.Button(\"Get article!\")\n",
    "\n",
    "    # 상태로 articles_json을 유지하도록 설정\n",
    "    articles_state = gr.State()\n",
    "\n",
    "    # 사용자 입력 시 기사 제목을 가져와 article_list에 업데이트, 기사 데이터를 상태에 저장\n",
    "    prompt.submit(respond, [prompt, chatbot], [prompt, chatbot, article_list, articles_state])\n",
    "\n",
    "    # 사용자가 기사 선택 후 \"Get article!\" 버튼을 누르면 해당 기사를 요약 및 번역\n",
    "    scrap_btn.click(scrap_article, inputs=[article_list, articles_state], outputs=[abstract_box, translate_box])\n",
    "\n",
    "    # Clear 버튼 클릭 시 모든 출력 초기화 (기사 내용까지 포함)\n",
    "    clear.click(clear_output, outputs=[prompt, chatbot, article_list, articles_state, abstract_box, translate_box])\n",
    "\n",
    "app.launch(inline=False, share=True)"
   ]
  },
  {
   "cell_type": "code",
   "execution_count": null,
   "metadata": {
    "id": "rwNYt9oWo9Pj",
    "outputId": "ae40b1f4-9bd7-407b-d73e-7737f66fd685"
   },
   "outputs": [
    {
     "name": "stdout",
     "output_type": "stream",
     "text": [
      "Closing server running on port: 7860\n"
     ]
    }
   ],
   "source": [
    "app.close()"
   ]
  },
  {
   "cell_type": "code",
   "execution_count": null,
   "metadata": {
    "id": "GuMpbqBro9Pk"
   },
   "outputs": [],
   "source": []
  }
 ],
 "metadata": {
  "colab": {
   "provenance": []
  },
  "kernelspec": {
   "display_name": "Python 3 (ipykernel)",
   "language": "python",
   "name": "python3"
  },
  "language_info": {
   "codemirror_mode": {
    "name": "ipython",
    "version": 3
   },
   "file_extension": ".py",
   "mimetype": "text/x-python",
   "name": "python",
   "nbconvert_exporter": "python",
   "pygments_lexer": "ipython3",
   "version": "3.11.10"
  }
 },
 "nbformat": 4,
 "nbformat_minor": 1
}
