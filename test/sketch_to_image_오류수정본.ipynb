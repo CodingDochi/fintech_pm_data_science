{
 "cells": [
  {
   "cell_type": "markdown",
   "metadata": {
    "id": "TUv0oLobvCKp"
   },
   "source": [
    "# Sketch to Image Application\n",
    "\n",
    "Colab 환경에서 스케치 투 이미지 애플리케이션을 만들어봅시다.\n"
   ]
  },
  {
   "cell_type": "markdown",
   "metadata": {
    "id": "vxIxrPMYvPr1"
   },
   "source": [
    "## 패키지 및 예제 데이터 다운로드하기\n",
    "python package들을 설치합니다. Colab에서 실행하지 않는 경우 이 셀은 실행하지 않습니다."
   ]
  },
  {
   "cell_type": "code",
   "execution_count": null,
   "metadata": {
    "colab": {
     "base_uri": "https://localhost:8080/"
    },
    "executionInfo": {
     "elapsed": 19235,
     "status": "ok",
     "timestamp": 1727180381078,
     "user": {
      "displayName": "황성민",
      "userId": "04059793346518192521"
     },
     "user_tz": -540
    },
    "id": "4CiswP_Ef97e",
    "outputId": "e5edcd3f-6699-46e6-f22b-2a121dcf0358"
   },
   "outputs": [],
   "source": [
    "# !wget https://raw.githubusercontent.com/mrsyee/dl_apps/main/image_generation/requirements-colab.txt\n",
    "# !pip install -r requirements-colab.txt"
   ]
  },
  {
   "cell_type": "code",
   "execution_count": 1,
   "metadata": {},
   "outputs": [
    {
     "name": "stdout",
     "output_type": "stream",
     "text": [
      "Requirement already satisfied: diffusers in /home/user/miniforge3/envs/torch/lib/python3.11/site-packages (0.30.3)\n",
      "Requirement already satisfied: importlib-metadata in /home/user/miniforge3/envs/torch/lib/python3.11/site-packages (from diffusers) (8.5.0)\n",
      "Requirement already satisfied: filelock in /home/user/miniforge3/envs/torch/lib/python3.11/site-packages (from diffusers) (3.16.1)\n",
      "Requirement already satisfied: huggingface-hub>=0.23.2 in /home/user/miniforge3/envs/torch/lib/python3.11/site-packages (from diffusers) (0.25.0)\n",
      "Requirement already satisfied: numpy in /home/user/miniforge3/envs/torch/lib/python3.11/site-packages (from diffusers) (1.26.4)\n",
      "Requirement already satisfied: regex!=2019.12.17 in /home/user/miniforge3/envs/torch/lib/python3.11/site-packages (from diffusers) (2024.9.11)\n",
      "Requirement already satisfied: requests in /home/user/miniforge3/envs/torch/lib/python3.11/site-packages (from diffusers) (2.32.3)\n",
      "Requirement already satisfied: safetensors>=0.3.1 in /home/user/miniforge3/envs/torch/lib/python3.11/site-packages (from diffusers) (0.4.5)\n",
      "Requirement already satisfied: Pillow in /home/user/miniforge3/envs/torch/lib/python3.11/site-packages (from diffusers) (10.4.0)\n",
      "Requirement already satisfied: fsspec>=2023.5.0 in /home/user/miniforge3/envs/torch/lib/python3.11/site-packages (from huggingface-hub>=0.23.2->diffusers) (2024.6.1)\n",
      "Requirement already satisfied: packaging>=20.9 in /home/user/miniforge3/envs/torch/lib/python3.11/site-packages (from huggingface-hub>=0.23.2->diffusers) (24.1)\n",
      "Requirement already satisfied: pyyaml>=5.1 in /home/user/miniforge3/envs/torch/lib/python3.11/site-packages (from huggingface-hub>=0.23.2->diffusers) (6.0.2)\n",
      "Requirement already satisfied: tqdm>=4.42.1 in /home/user/miniforge3/envs/torch/lib/python3.11/site-packages (from huggingface-hub>=0.23.2->diffusers) (4.66.5)\n",
      "Requirement already satisfied: typing-extensions>=3.7.4.3 in /home/user/miniforge3/envs/torch/lib/python3.11/site-packages (from huggingface-hub>=0.23.2->diffusers) (4.12.2)\n",
      "Requirement already satisfied: zipp>=3.20 in /home/user/miniforge3/envs/torch/lib/python3.11/site-packages (from importlib-metadata->diffusers) (3.20.2)\n",
      "Requirement already satisfied: charset-normalizer<4,>=2 in /home/user/miniforge3/envs/torch/lib/python3.11/site-packages (from requests->diffusers) (3.3.2)\n",
      "Requirement already satisfied: idna<4,>=2.5 in /home/user/miniforge3/envs/torch/lib/python3.11/site-packages (from requests->diffusers) (3.10)\n",
      "Requirement already satisfied: urllib3<3,>=1.21.1 in /home/user/miniforge3/envs/torch/lib/python3.11/site-packages (from requests->diffusers) (2.2.3)\n",
      "Requirement already satisfied: certifi>=2017.4.17 in /home/user/miniforge3/envs/torch/lib/python3.11/site-packages (from requests->diffusers) (2024.8.30)\n"
     ]
    }
   ],
   "source": [
    "!pip install diffusers"
   ]
  },
  {
   "cell_type": "markdown",
   "metadata": {
    "id": "RQzhGixSS7eC"
   },
   "source": [
    "## 패키지 불러오기"
   ]
  },
  {
   "cell_type": "code",
   "execution_count": 2,
   "metadata": {
    "colab": {
     "base_uri": "https://localhost:8080/",
     "height": 269,
     "referenced_widgets": [
      "683dbf17ba494b0d9a4b9728e6a1409e",
      "fa054317eeaf46a39c2f522bb0c1287a",
      "6437cd38cfe7440bb192352c9da756e3",
      "508ec35c9f8a4ae3b20aeebe634931cf",
      "9180155ce92f46a3bf557f85163d888e",
      "d0179e70482d4009b45152cb711073a1",
      "8d81dc6699084d38addcb2e458330a93",
      "3d0bca26c8fe41e8beb7df576582c0af",
      "b0994cd96dd64ffa9e3809a9e397041d",
      "3a7f81ebe2ba40988b5885dc680035e2",
      "224cdd32f1d84876b2db11db46c27c4e"
     ]
    },
    "executionInfo": {
     "elapsed": 17250,
     "status": "ok",
     "timestamp": 1727180398323,
     "user": {
      "displayName": "황성민",
      "userId": "04059793346518192521"
     },
     "user_tz": -540
    },
    "id": "4IljnAX2KlAz",
    "outputId": "55ba555d-a7ca-4398-bca3-657708c72c12"
   },
   "outputs": [
    {
     "name": "stderr",
     "output_type": "stream",
     "text": [
      "/home/user/miniforge3/envs/torch/lib/python3.11/site-packages/tqdm/auto.py:21: TqdmWarning: IProgress not found. Please update jupyter and ipywidgets. See https://ipywidgets.readthedocs.io/en/stable/user_install.html\n",
      "  from .autonotebook import tqdm as notebook_tqdm\n",
      "/home/user/miniforge3/envs/torch/lib/python3.11/site-packages/gradio_client/documentation.py:106: UserWarning: Could not get documentation group for <class 'gradio.mix.Parallel'>: No known documentation group for module 'gradio.mix'\n",
      "  warnings.warn(f\"Could not get documentation group for {cls}: {exc}\")\n",
      "/home/user/miniforge3/envs/torch/lib/python3.11/site-packages/gradio_client/documentation.py:106: UserWarning: Could not get documentation group for <class 'gradio.mix.Series'>: No known documentation group for module 'gradio.mix'\n",
      "  warnings.warn(f\"Could not get documentation group for {cls}: {exc}\")\n",
      "2024-09-25 08:43:09.516159: E external/local_xla/xla/stream_executor/cuda/cuda_fft.cc:485] Unable to register cuFFT factory: Attempting to register factory for plugin cuFFT when one has already been registered\n",
      "2024-09-25 08:43:09.685883: E external/local_xla/xla/stream_executor/cuda/cuda_dnn.cc:8454] Unable to register cuDNN factory: Attempting to register factory for plugin cuDNN when one has already been registered\n",
      "2024-09-25 08:43:09.734701: E external/local_xla/xla/stream_executor/cuda/cuda_blas.cc:1452] Unable to register cuBLAS factory: Attempting to register factory for plugin cuBLAS when one has already been registered\n",
      "2024-09-25 08:43:10.075466: I tensorflow/core/platform/cpu_feature_guard.cc:210] This TensorFlow binary is optimized to use available CPU instructions in performance-critical operations.\n",
      "To enable the following instructions: AVX2 FMA, in other operations, rebuild TensorFlow with the appropriate compiler flags.\n",
      "2024-09-25 08:43:12.329410: W tensorflow/compiler/tf2tensorrt/utils/py_utils.cc:38] TF-TRT Warning: Could not find TensorRT\n"
     ]
    }
   ],
   "source": [
    "import os\n",
    "from typing import IO\n",
    "\n",
    "import gradio as gr\n",
    "import requests\n",
    "import torch\n",
    "from tqdm import tqdm\n",
    "from diffusers import StableDiffusionImg2ImgPipeline\n",
    "from PIL import Image"
   ]
  },
  {
   "cell_type": "markdown",
   "metadata": {
    "id": "Xa8lhoPRKu-G"
   },
   "source": [
    "## 스케치 투 이미지 생성 UI 구현하기"
   ]
  },
  {
   "cell_type": "code",
   "execution_count": null,
   "metadata": {
    "executionInfo": {
     "elapsed": 4,
     "status": "ok",
     "timestamp": 1727180398324,
     "user": {
      "displayName": "황성민",
      "userId": "04059793346518192521"
     },
     "user_tz": -540
    },
    "id": "mpG7E21tkSnk"
   },
   "outputs": [],
   "source": [
    "WIDTH = 512\n",
    "HEIGHT = 512\n",
    "\n",
    "with gr.Blocks() as app:\n",
    "    gr.Markdown(\"## 프롬프트 입력\")\n",
    "    with gr.Row():\n",
    "        prompt = gr.Textbox(label=\"Prompt\")\n",
    "    with gr.Row():\n",
    "        n_prompt = gr.Textbox(label=\"Negative Prompt\")\n",
    "\n",
    "    gr.Markdown(\"## 스케치 to 이미지 생성\")\n",
    "    with gr.Row():\n",
    "        with gr.Column():\n",
    "            with gr.Tab(\"Canvas\"):\n",
    "                with gr.Row():\n",
    "                    canvas = gr.Image(\n",
    "                        label=\"Draw\",\n",
    "                        source=\"canvas\",\n",
    "                        image_mode=\"RGB\",\n",
    "                        tool=\"color-sketch\",\n",
    "                        interactive=True,\n",
    "                        width=WIDTH,\n",
    "                        height=HEIGHT,\n",
    "                        shape=(WIDTH, HEIGHT),\n",
    "                        brush_radius=20,\n",
    "                        type=\"pil\",\n",
    "                    )\n",
    "                with gr.Row():\n",
    "                    canvas_run_btn = gr.Button(value=\"Generate\")\n",
    "\n",
    "            with gr.Tab(\"File\"):\n",
    "                with gr.Row():\n",
    "                    file = gr.Image(\n",
    "                        label=\"Upload\",\n",
    "                        source=\"upload\",\n",
    "                        image_mode=\"RGB\",\n",
    "                        tool=\"color-sketch\",\n",
    "                        interactive=True,\n",
    "                        width=WIDTH,\n",
    "                        height=HEIGHT,\n",
    "                        shape=(WIDTH, HEIGHT),\n",
    "                        type=\"pil\",\n",
    "                    )\n",
    "                with gr.Row():\n",
    "                    file_run_btn = gr.Button(value=\"Generate\")\n",
    "\n",
    "        with gr.Column():\n",
    "            result_gallery = gr.Gallery(label=\"Output\", height=512)"
   ]
  },
  {
   "cell_type": "code",
   "execution_count": null,
   "metadata": {
    "colab": {
     "base_uri": "https://localhost:8080/"
    },
    "executionInfo": {
     "elapsed": 1192,
     "status": "ok",
     "timestamp": 1727180399512,
     "user": {
      "displayName": "황성민",
      "userId": "04059793346518192521"
     },
     "user_tz": -540
    },
    "id": "BJiCOxqWkm-s",
    "outputId": "ffa4e343-7dcc-4294-d46b-d88ea103737d"
   },
   "outputs": [],
   "source": [
    "app.launch(inline=False, share=True)"
   ]
  },
  {
   "cell_type": "code",
   "execution_count": null,
   "metadata": {
    "colab": {
     "base_uri": "https://localhost:8080/"
    },
    "executionInfo": {
     "elapsed": 1212,
     "status": "ok",
     "timestamp": 1727180400722,
     "user": {
      "displayName": "황성민",
      "userId": "04059793346518192521"
     },
     "user_tz": -540
    },
    "id": "CFQdzntYkolK",
    "outputId": "b9f497b8-061b-4763-8f1f-243a12d5920f"
   },
   "outputs": [],
   "source": [
    "app.close()"
   ]
  },
  {
   "cell_type": "markdown",
   "metadata": {
    "id": "Fiop_vbXkqeZ"
   },
   "source": [
    "## 모델 다운로드 UI 구현하기"
   ]
  },
  {
   "cell_type": "code",
   "execution_count": null,
   "metadata": {
    "executionInfo": {
     "elapsed": 3,
     "status": "ok",
     "timestamp": 1727180400722,
     "user": {
      "displayName": "황성민",
      "userId": "04059793346518192521"
     },
     "user_tz": -540
    },
    "id": "HDzXlEk08KB3"
   },
   "outputs": [],
   "source": [
    "with gr.Blocks() as app:\n",
    "    gr.Markdown(\"## 모델 다운로드\")\n",
    "    with gr.Row():\n",
    "        model_url = gr.Textbox(label=\"모델 URL\", placeholder=\"https://civitai.com/\")\n",
    "        download_model_btn = gr.Button(value=\"모델 다운로드\")\n",
    "    with gr.Row():\n",
    "        model_file = gr.File(label=\"모델 파일\")"
   ]
  },
  {
   "cell_type": "code",
   "execution_count": null,
   "metadata": {
    "colab": {
     "base_uri": "https://localhost:8080/"
    },
    "executionInfo": {
     "elapsed": 1220,
     "status": "ok",
     "timestamp": 1727180401939,
     "user": {
      "displayName": "황성민",
      "userId": "04059793346518192521"
     },
     "user_tz": -540
    },
    "id": "g57Gecpx-43U",
    "outputId": "a1b440e4-d3f6-4abf-edc2-9f7a02a78723"
   },
   "outputs": [],
   "source": [
    "app.launch(inline=False, share=True)"
   ]
  },
  {
   "cell_type": "code",
   "execution_count": null,
   "metadata": {
    "colab": {
     "base_uri": "https://localhost:8080/"
    },
    "executionInfo": {
     "elapsed": 4,
     "status": "ok",
     "timestamp": 1727180401940,
     "user": {
      "displayName": "황성민",
      "userId": "04059793346518192521"
     },
     "user_tz": -540
    },
    "id": "KJYBR55T-6Zn",
    "outputId": "84df34fe-420d-4020-9564-1360307b26eb"
   },
   "outputs": [],
   "source": [
    "app.close()"
   ]
  },
  {
   "cell_type": "markdown",
   "metadata": {
    "id": "fBlThieTBJYa"
   },
   "source": [
    "## 모델 다운로드 기능 구현하기"
   ]
  },
  {
   "cell_type": "code",
   "execution_count": null,
   "metadata": {
    "executionInfo": {
     "elapsed": 3,
     "status": "ok",
     "timestamp": 1727180401940,
     "user": {
      "displayName": "황성민",
      "userId": "04059793346518192521"
     },
     "user_tz": -540
    },
    "id": "-N5CvL0CQXFp"
   },
   "outputs": [],
   "source": [
    "import os\n",
    "import glob\n",
    "\n",
    "# 전역 변수로 모델 경로와 파일명을 저장\n",
    "MODEL_PATH = None\n",
    "\n",
    "# 모델을 다운로드하고 경로를 기억하는 함수\n",
    "def download_model(url: str) -> str:\n",
    "    global MODEL_PATH  # 전역 변수를 사용해서 경로를 기억\n",
    "\n",
    "    model_id = url.replace(\"https://civitai.com/models/\", \"\").split(\"/\")[0]\n",
    "\n",
    "    try:\n",
    "        response = requests.get(f\"https://civitai.com/api/v1/models/{model_id}\", timeout=600)\n",
    "    except Exception as err:\n",
    "        print(f\"[ERROR] {err}\")\n",
    "        raise err\n",
    "\n",
    "    download_url = response.json()[\"modelVersions\"][0][\"downloadUrl\"]\n",
    "    filename = response.json()[\"modelVersions\"][0][\"files\"][0][\"name\"]\n",
    "\n",
    "    file_path = f\"models/{filename}\"\n",
    "    if os.path.exists(file_path):\n",
    "        print(f\"[INFO] File already exists: {file_path}\")\n",
    "        MODEL_PATH = file_path  # 모델 경로 기억\n",
    "        return file_path\n",
    "\n",
    "    os.makedirs(\"models\", exist_ok=True)\n",
    "    download_from_url(download_url, file_path)\n",
    "    print(f\"[INFO] File downloaded: {file_path}\")\n",
    "    \n",
    "    # 모델 경로 기억\n",
    "    MODEL_PATH = file_path\n",
    "    return file_path\n",
    "\n",
    "# ./models 폴더에서 가장 최근에 수정된 모델 파일 찾기\n",
    "def find_latest_model_in_directory(directory: str) -> str:\n",
    "    model_files = glob.glob(f\"{directory}/*.safetensors\")\n",
    "    if not model_files:\n",
    "        return None\n",
    "\n",
    "     # 가장 최근에 수정된 모델 파일 선택\n",
    "    latest_model = max(model_files, key=os.path.getmtime)\n",
    "    return latest_model"
   ]
  },
  {
   "cell_type": "code",
   "execution_count": null,
   "metadata": {
    "executionInfo": {
     "elapsed": 2,
     "status": "ok",
     "timestamp": 1727180401940,
     "user": {
      "displayName": "황성민",
      "userId": "04059793346518192521"
     },
     "user_tz": -540
    },
    "id": "U0IbkRIcRD-b"
   },
   "outputs": [],
   "source": [
    "with gr.Blocks() as app:\n",
    "    gr.Markdown(\"## 모델 다운로드\")\n",
    "    with gr.Row():\n",
    "        model_url = gr.Textbox(label=\"모델 URL\", placeholder=\"https://civitai.com/\")\n",
    "        download_model_btn = gr.Button(value=\"모델 다운로드\")\n",
    "    with gr.Row():\n",
    "        model_file = gr.File(label=\"모델 파일\")"
   ]
  },
  {
   "cell_type": "code",
   "execution_count": null,
   "metadata": {
    "colab": {
     "base_uri": "https://localhost:8080/"
    },
    "executionInfo": {
     "elapsed": 1712,
     "status": "ok",
     "timestamp": 1727180403650,
     "user": {
      "displayName": "황성민",
      "userId": "04059793346518192521"
     },
     "user_tz": -540
    },
    "id": "vz1-B1ZTTUKX",
    "outputId": "4b939b93-7fa2-4361-af75-d1e459c00c0a"
   },
   "outputs": [],
   "source": [
    "app.queue().launch(inline=False, share=True)"
   ]
  },
  {
   "cell_type": "code",
   "execution_count": null,
   "metadata": {
    "colab": {
     "base_uri": "https://localhost:8080/"
    },
    "executionInfo": {
     "elapsed": 6,
     "status": "ok",
     "timestamp": 1727180403651,
     "user": {
      "displayName": "황성민",
      "userId": "04059793346518192521"
     },
     "user_tz": -540
    },
    "id": "xQ3DdaUeTVfV",
    "outputId": "23ab38ca-bebe-4d02-dfdd-297c4fc17b4e"
   },
   "outputs": [],
   "source": [
    "app.close()"
   ]
  },
  {
   "cell_type": "markdown",
   "metadata": {
    "id": "LO3V8z6-QX__"
   },
   "source": [
    "## 모델 불러오기 UI 및 기능 구현하기"
   ]
  },
  {
   "cell_type": "code",
   "execution_count": null,
   "metadata": {
    "executionInfo": {
     "elapsed": 4,
     "status": "ok",
     "timestamp": 1727180403651,
     "user": {
      "displayName": "황성민",
      "userId": "04059793346518192521"
     },
     "user_tz": -540
    },
    "id": "4Tb3Ly_PogVu"
   },
   "outputs": [],
   "source": [
    "# 다운로드된 모델을 불러오는 함수\n",
    "def init_pipeline() -> str:\n",
    "    global MODEL_PATH  # 전역 변수를 사용\n",
    "\n",
    "    if MODEL_PATH is None:\n",
    "        # MODEL_PATH가 없으면 ./models에서 모델을 찾음\n",
    "        print(\"[INFO] No model path found, searching ./models directory...\")\n",
    "        MODEL_PATH = find_latest_model_in_directory(\"./models\")\n",
    "    \n",
    "    if MODEL_PATH is None:\n",
    "        return \"Error: No model found in ./models directory\"\n",
    "\n",
    "    print(f\"[INFO] Initialize pipeline with model: {MODEL_PATH}\")\n",
    "    global PIPELINE\n",
    "\n",
    "    try:\n",
    "        PIPELINE = StableDiffusionImg2ImgPipeline.from_single_file(\n",
    "            MODEL_PATH,\n",
    "            torch_dtype=torch.float16,\n",
    "            variant=\"fp16\",\n",
    "            use_safetensors=True,\n",
    "        ).to(\"cuda\")\n",
    "        print(\"[INFO] Initialized pipeline\")\n",
    "        return \"Model Loaded!\"\n",
    "    except Exception as e:\n",
    "        print(f\"[ERROR] Failed to load model: {e}\")\n",
    "        return f\"Error: {e}\""
   ]
  },
  {
   "cell_type": "code",
   "execution_count": null,
   "metadata": {
    "executionInfo": {
     "elapsed": 4,
     "status": "ok",
     "timestamp": 1727180403651,
     "user": {
      "displayName": "황성민",
      "userId": "04059793346518192521"
     },
     "user_tz": -540
    },
    "id": "RcxCcRYCsuxr"
   },
   "outputs": [],
   "source": [
    "# Gradio 인터페이스 설정\n",
    "with gr.Blocks() as app:\n",
    "    gr.Markdown(\"## 모델 불러오기\")\n",
    "    with gr.Row():\n",
    "        load_model_btn = gr.Button(value=\"모델 불러오기\")\n",
    "    with gr.Row():\n",
    "        is_model_check = gr.Textbox(label=\"Model Load Check\", value=\"Model Not Loaded\")\n",
    "\n",
    "    download_model_btn.click(\n",
    "        download_model,\n",
    "        [model_url],\n",
    "        [model_file],\n",
    "    )\n",
    "    load_model_btn.click(\n",
    "        init_pipeline,\n",
    "        None,  # 모델을 불러올 때는 별도의 입력이 필요하지 않음\n",
    "        [is_model_check],\n",
    "    )"
   ]
  },
  {
   "cell_type": "code",
   "execution_count": null,
   "metadata": {
    "colab": {
     "base_uri": "https://localhost:8080/"
    },
    "executionInfo": {
     "elapsed": 1765,
     "status": "ok",
     "timestamp": 1727180405412,
     "user": {
      "displayName": "황성민",
      "userId": "04059793346518192521"
     },
     "user_tz": -540
    },
    "id": "kfUumDF3A-IN",
    "outputId": "0fcb4a1f-45ce-464d-b00b-db6a9c2ca7ef"
   },
   "outputs": [],
   "source": [
    "app.queue().launch(inline=False, share=True)"
   ]
  },
  {
   "cell_type": "code",
   "execution_count": null,
   "metadata": {
    "colab": {
     "base_uri": "https://localhost:8080/"
    },
    "executionInfo": {
     "elapsed": 4,
     "status": "ok",
     "timestamp": 1727180405412,
     "user": {
      "displayName": "황성민",
      "userId": "04059793346518192521"
     },
     "user_tz": -540
    },
    "id": "8bKanmd2A-lB",
    "outputId": "88d4757a-d739-4a0b-886d-2dfbf544e5a1"
   },
   "outputs": [],
   "source": [
    "app.close()"
   ]
  },
  {
   "cell_type": "markdown",
   "metadata": {
    "id": "xo8u_NmL-Q2_"
   },
   "source": [
    "## 스케치 투 이미지 생성 기능 구현하기"
   ]
  },
  {
   "cell_type": "code",
   "execution_count": null,
   "metadata": {
    "executionInfo": {
     "elapsed": 3,
     "status": "ok",
     "timestamp": 1727180405412,
     "user": {
      "displayName": "황성민",
      "userId": "04059793346518192521"
     },
     "user_tz": -540
    },
    "id": "PmF6CY38-hdx"
   },
   "outputs": [],
   "source": [
    "def sketch_to_image(sketch: Image.Image, prompt: str, negative_prompt: str):\n",
    "    width, height = sketch.size\n",
    "    images =  PIPELINE(\n",
    "        image=sketch,\n",
    "        prompt=prompt,\n",
    "        negative_prompt=negative_prompt,\n",
    "        height=height,\n",
    "        width=width,\n",
    "        num_images_per_prompt=4,\n",
    "        num_inference_steps=20,\n",
    "        strength=0.7,\n",
    "    ).images\n",
    "\n",
    "    with torch.cuda.device(\"cuda\"):\n",
    "        torch.cuda.empty_cache()\n",
    "\n",
    "    return images"
   ]
  },
  {
   "cell_type": "code",
   "execution_count": null,
   "metadata": {
    "colab": {
     "base_uri": "https://localhost:8080/"
    },
    "executionInfo": {
     "elapsed": 622,
     "status": "ok",
     "timestamp": 1727180406031,
     "user": {
      "displayName": "황성민",
      "userId": "04059793346518192521"
     },
     "user_tz": -540
    },
    "id": "gv6Nh8NzBJYc",
    "outputId": "0c0612f2-69cc-4263-959a-12a14c72c362"
   },
   "outputs": [],
   "source": [
    "print(\"[INFO] Gradio app ready\")\n",
    "with gr.Blocks() as app:\n",
    "    gr.Markdown(\"# 스케치 to 이미지 애플리케이션\")\n",
    "\n",
    "    gr.Markdown(\"## 모델 다운로드\")\n",
    "    with gr.Row():\n",
    "        model_url = gr.Textbox(label=\"Model Link\", placeholder=\"https://civitai.com/\")\n",
    "        download_model_btn = gr.Button(value=\"Download model\")\n",
    "    with gr.Row():\n",
    "        model_file = gr.File(label=\"Model File\")\n",
    "\n",
    "    gr.Markdown(\"## 모델 불러오기\")\n",
    "    with gr.Row():\n",
    "        load_model_btn = gr.Button(value=\"Load model\")\n",
    "    with gr.Row():\n",
    "        is_model_check = gr.Textbox(label=\"Model Load Check\", value=\"Model Not loaded\")\n",
    "\n",
    "    gr.Markdown(\"## 프롬프트 입력\")\n",
    "    with gr.Row():\n",
    "        prompt = gr.Textbox(label=\"Prompt\")\n",
    "    with gr.Row():\n",
    "        n_prompt = gr.Textbox(label=\"Negative Prompt\")\n",
    "\n",
    "    gr.Markdown(\"## 스케치 to 이미지 생성\")\n",
    "    with gr.Row():\n",
    "        with gr.Column():\n",
    "            with gr.Tab(\"Canvas\"):\n",
    "                with gr.Row():\n",
    "                    canvas = gr.Image(\n",
    "                        label=\"Draw\",\n",
    "                        source=\"canvas\",\n",
    "                        image_mode=\"RGB\",\n",
    "                        tool=\"color-sketch\",\n",
    "                        interactive=True,\n",
    "                        width=WIDTH,\n",
    "                        height=HEIGHT,\n",
    "                        shape=(WIDTH, HEIGHT),\n",
    "                        brush_radius=20,\n",
    "                        type=\"pil\",\n",
    "                    )\n",
    "                with gr.Row():\n",
    "                    canvas_run_btn = gr.Button(value=\"Generate\")\n",
    "\n",
    "            with gr.Tab(\"File\"):\n",
    "                with gr.Row():\n",
    "                    file = gr.Image(\n",
    "                        label=\"Upload\",\n",
    "                        source=\"upload\",\n",
    "                        image_mode=\"RGB\",\n",
    "                        tool=\"color-sketch\",\n",
    "                        interactive=True,\n",
    "                        width=WIDTH,\n",
    "                        height=HEIGHT,\n",
    "                        shape=(WIDTH, HEIGHT),\n",
    "                        type=\"pil\",\n",
    "                    )\n",
    "                with gr.Row():\n",
    "                    file_run_btn = gr.Button(value=\"Generate\")\n",
    "\n",
    "        with gr.Column():\n",
    "            result_gallery = gr.Gallery(label=\"Output\", height=512)\n",
    "\n",
    "\n",
    "    # Event\n",
    "    download_model_btn.click(\n",
    "        download_model,\n",
    "        [model_url],\n",
    "        [model_file],\n",
    "    )\n",
    "    load_model_btn.click(\n",
    "        init_pipeline,\n",
    "        [model_file],\n",
    "        [is_model_check],\n",
    "    )\n",
    "    canvas_run_btn.click(\n",
    "        sketch_to_image,\n",
    "        [canvas, prompt, n_prompt],\n",
    "        [result_gallery],\n",
    "    )\n",
    "    file_run_btn.click(\n",
    "        sketch_to_image,\n",
    "        [file, prompt, n_prompt],\n",
    "        [result_gallery],\n",
    "    )"
   ]
  },
  {
   "cell_type": "code",
   "execution_count": null,
   "metadata": {
    "colab": {
     "base_uri": "https://localhost:8080/"
    },
    "executionInfo": {
     "elapsed": 1781,
     "status": "ok",
     "timestamp": 1727180407810,
     "user": {
      "displayName": "황성민",
      "userId": "04059793346518192521"
     },
     "user_tz": -540
    },
    "id": "jdXq7tMoBJYc",
    "outputId": "ffeebcad-85c8-4ac1-943a-e0fc80affddc"
   },
   "outputs": [],
   "source": [
    "app.queue().launch(inline=False, share=True)"
   ]
  },
  {
   "cell_type": "code",
   "execution_count": null,
   "metadata": {
    "colab": {
     "base_uri": "https://localhost:8080/"
    },
    "executionInfo": {
     "elapsed": 5,
     "status": "ok",
     "timestamp": 1727180407810,
     "user": {
      "displayName": "황성민",
      "userId": "04059793346518192521"
     },
     "user_tz": -540
    },
    "id": "l7h8BOZuBJYd",
    "outputId": "12a5a0af-10c2-4dca-9ff1-3d9ba10d9c75"
   },
   "outputs": [],
   "source": [
    "app.close()"
   ]
  },
  {
   "cell_type": "markdown",
   "metadata": {
    "id": "HmZOiRmXAIGs"
   },
   "source": [
    "## 최종 App 구현"
   ]
  },
  {
   "cell_type": "code",
   "execution_count": 7,
   "metadata": {
    "executionInfo": {
     "elapsed": 4,
     "status": "ok",
     "timestamp": 1727180407810,
     "user": {
      "displayName": "황성민",
      "userId": "04059793346518192521"
     },
     "user_tz": -540
    },
    "id": "3OGnSU94Ky37"
   },
   "outputs": [],
   "source": [
    "import os\n",
    "from typing import IO\n",
    "import glob\n",
    "import gradio as gr\n",
    "import requests\n",
    "import torch\n",
    "import tempfile\n",
    "import torch_directml\n",
    "from tqdm import tqdm\n",
    "from diffusers import StableDiffusionImg2ImgPipeline\n",
    "from PIL import Image"
   ]
  },
  {
   "cell_type": "code",
   "execution_count": 4,
   "metadata": {
    "executionInfo": {
     "elapsed": 4,
     "status": "ok",
     "timestamp": 1727180407811,
     "user": {
      "displayName": "황성민",
      "userId": "04059793346518192521"
     },
     "user_tz": -540
    },
    "id": "_EJHWMdOHh2G"
   },
   "outputs": [],
   "source": [
    "WIDTH = 512\n",
    "HEIGHT = 512\n",
    "\n",
    "# 전역 변수를 사용하여 모델 경로와 파이프라인 객체를 저장\n",
    "MODEL_PATH = None\n",
    "PIPELINE = None"
   ]
  },
  {
   "cell_type": "code",
   "execution_count": 5,
   "metadata": {
    "executionInfo": {
     "elapsed": 4,
     "status": "ok",
     "timestamp": 1727180407811,
     "user": {
      "displayName": "황성민",
      "userId": "04059793346518192521"
     },
     "user_tz": -540
    },
    "id": "roRHRyqRBTqX"
   },
   "outputs": [],
   "source": [
    "# ./models 디렉토리에서 가장 최근에 수정된 모델 파일 찾기\n",
    "def find_latest_model_in_directory(directory: str) -> str:\n",
    "    model_files = glob.glob(f\"{directory}/*.safetensors\")\n",
    "    if not model_files:\n",
    "        return None\n",
    "    \n",
    "    # 가장 최근에 수정된 모델 파일 선택\n",
    "    latest_model = max(model_files, key=os.path.getmtime)\n",
    "    return latest_model\n",
    "\n",
    "# 모델 다운로드 함수\n",
    "def download_model(url: str) -> str:\n",
    "    model_id = url.replace(\"https://civitai.com/models/\", \"\").split(\"/\")[0]\n",
    "\n",
    "    try:\n",
    "        response = requests.get(f\"https://civitai.com/api/v1/models/{model_id}\", timeout=600)\n",
    "        response.raise_for_status()  # 요청 상태 확인\n",
    "    except Exception as err:\n",
    "        print(f\"[ERROR] {err}\")\n",
    "        raise err\n",
    "\n",
    "    # 모델 다운로드 URL 및 파일명 추출\n",
    "    download_url = response.json()[\"modelVersions\"][0][\"downloadUrl\"]\n",
    "    filename = response.json()[\"modelVersions\"][0][\"files\"][0][\"name\"]\n",
    "\n",
    "    file_path = f\"models/{filename}\"\n",
    "    \n",
    "    # 이미 다운로드된 파일이 존재하는 경우\n",
    "    if os.path.exists(file_path):\n",
    "        print(f\"[INFO] File already exists: {file_path}\")\n",
    "        return file_path\n",
    "\n",
    "    # 모델 저장 디렉토리 생성\n",
    "    os.makedirs(\"models\", exist_ok=True)\n",
    "    \n",
    "    # 모델 다운로드\n",
    "    download_from_url(download_url, file_path)\n",
    "    print(f\"[INFO] File downloaded: {file_path}\")\n",
    "    return file_path\n",
    "\n",
    "\n",
    "# URL로부터 파일 다운로드 함수\n",
    "def download_from_url(url: str, file_path: str, chunk_size=1024):\n",
    "    try:\n",
    "        resp = requests.get(url, stream=True)\n",
    "        resp.raise_for_status()  # 다운로드 요청 상태 확인\n",
    "    except Exception as err:\n",
    "        print(f\"[ERROR] {err}\")\n",
    "        raise err\n",
    "\n",
    "    total = int(resp.headers.get('content-length', 0))  # 파일 크기 추출\n",
    "    with open(file_path, 'wb') as file, tqdm(\n",
    "        desc=file_path,\n",
    "        total=total,\n",
    "        unit='iB',\n",
    "        unit_scale=True,\n",
    "        unit_divisor=1024,\n",
    "    ) as bar:\n",
    "        for data in resp.iter_content(chunk_size=chunk_size):\n",
    "            size = file.write(data)\n",
    "            bar.update(size)\n",
    "\n",
    "# 모델 파이프라인 초기화 함수\n",
    "def init_pipeline() -> str:\n",
    "    global MODEL_PATH  # 전역 변수를 사용\n",
    "\n",
    "    if MODEL_PATH is None:\n",
    "        # MODEL_PATH가 없으면 ./models에서 모델을 찾음\n",
    "        print(\"[INFO] No model path found, searching ./models directory...\")\n",
    "        MODEL_PATH = find_latest_model_in_directory(\"./models\")\n",
    "    \n",
    "    if MODEL_PATH is None:\n",
    "        return \"Error: No model found in ./models directory\"\n",
    "\n",
    "    print(f\"[INFO] Initialize pipeline with model: {MODEL_PATH}\")\n",
    "    global PIPELINE\n",
    "\n",
    "    try:\n",
    "        PIPELINE = StableDiffusionImg2ImgPipeline.from_single_file(\n",
    "            MODEL_PATH,\n",
    "            torch_dtype=torch.float16,\n",
    "            variant=\"fp16\",\n",
    "            use_safetensors=True,\n",
    "        ).to(\"cuda\")\n",
    "        print(\"[INFO] Initialized pipeline\")\n",
    "        return \"Model Loaded!\"\n",
    "    except Exception as e:\n",
    "        print(f\"[ERROR] Failed to load model: {e}\")\n",
    "        return f\"Error: {e}\"\n",
    "\n",
    "# 스케치에서 이미지를 생성하는 함수\n",
    "from typing import List\n",
    "\n",
    "def sketch_to_image(sketch: Image.Image, prompt: List[str], negative_prompt: List[str]):\n",
    "    global PIPELINE\n",
    "    if PIPELINE is None:\n",
    "        return \"[ERROR] Pipeline is not initialized.\"\n",
    "\n",
    "    # 프롬프트와 네거티브 프롬프트를 리스트로 변환\n",
    "    if isinstance(prompt, str):\n",
    "        prompt = [prompt]  # 문자열을 리스트로 변환\n",
    "    if isinstance(negative_prompt, str):\n",
    "        negative_prompt = [negative_prompt]  # 문자열을 리스트로 변환\n",
    "\n",
    "    # 프롬프트와 네거티브 프롬프트의 개수를 일치시킴\n",
    "    if len(prompt) != len(negative_prompt):\n",
    "        if len(prompt) > len(negative_prompt):\n",
    "            negative_prompt += [\"\"] * (len(prompt) - len(negative_prompt))\n",
    "        else:\n",
    "            prompt += [\"\"] * (len(negative_prompt) - len(prompt))\n",
    "\n",
    "    width, height = sketch.size\n",
    "\n",
    "    # 프롬프트 수에 맞게 이미지를 복제\n",
    "    images = [sketch] * len(prompt)\n",
    "\n",
    "    print(f\"[INFO] Generating image with dimensions: {width}x{height}\")\n",
    "\n",
    "    try:\n",
    "        # 이미지 생성\n",
    "        result = PIPELINE(\n",
    "            image=images,\n",
    "            prompt=prompt,\n",
    "            negative_prompt=negative_prompt,\n",
    "            height=height,\n",
    "            width=width,\n",
    "            num_images_per_prompt=2,\n",
    "            num_inference_steps=10,\n",
    "            strength=0.7,\n",
    "        ).images\n",
    "    except Exception as e:\n",
    "        print(f\"[ERROR] Failed to generate image: {e}\")\n",
    "        return f\"Error: {e}\"\n",
    "\n",
    "    # GPU 메모리 캐시 비우기\n",
    "    with torch.cuda.device(\"cuda\"):\n",
    "        torch.cuda.empty_cache()\n",
    "\n",
    "    return result"
   ]
  },
  {
   "cell_type": "code",
   "execution_count": 6,
   "metadata": {
    "colab": {
     "base_uri": "https://localhost:8080/"
    },
    "executionInfo": {
     "elapsed": 4,
     "status": "ok",
     "timestamp": 1727180407811,
     "user": {
      "displayName": "황성민",
      "userId": "04059793346518192521"
     },
     "user_tz": -540
    },
    "id": "QcAEk-3kcnEN",
    "outputId": "24c4a282-bec6-4d0d-9bae-eca408dadd2d",
    "scrolled": false
   },
   "outputs": [
    {
     "name": "stdout",
     "output_type": "stream",
     "text": [
      "[INFO] Gradio app ready\n",
      "Running on local URL:  http://127.0.0.1:7860\n",
      "IMPORTANT: You are using gradio version 3.40.0, however version 4.29.0 is available, please upgrade.\n",
      "--------\n",
      "Running on public URL: https://f3a0bdb4a146fae697.gradio.live\n",
      "\n",
      "This share link expires in 72 hours. For free permanent hosting and GPU upgrades, run `gradio deploy` from Terminal to deploy to Spaces (https://huggingface.co/spaces)\n"
     ]
    },
    {
     "data": {
      "text/plain": []
     },
     "execution_count": 6,
     "metadata": {},
     "output_type": "execute_result"
    },
    {
     "name": "stdout",
     "output_type": "stream",
     "text": [
      "[INFO] No model path found, searching ./models directory...\n",
      "[INFO] Initialize pipeline with model: ./models/disneyPixarCartoon_v10.safetensors\n"
     ]
    },
    {
     "name": "stderr",
     "output_type": "stream",
     "text": [
      "Fetching 11 files: 100%|██████████████████████████████████████| 11/11 [00:01<00:00,  7.84it/s]\n",
      "Loading pipeline components...:   0%|                                   | 0/6 [00:00<?, ?it/s]/home/user/miniforge3/envs/torch/lib/python3.11/site-packages/transformers/models/clip/feature_extraction_clip.py:28: FutureWarning: The class CLIPFeatureExtractor is deprecated and will be removed in version 5 of Transformers. Please use CLIPImageProcessor instead.\n",
      "  warnings.warn(\n",
      "Some weights of the model checkpoint were not used when initializing CLIPTextModel: \n",
      " ['text_model.embeddings.position_ids']\n",
      "Loading pipeline components...: 100%|███████████████████████████| 6/6 [01:16<00:00, 12.77s/it]\n",
      "You have disabled the safety checker for <class 'diffusers.pipelines.stable_diffusion.pipeline_stable_diffusion_img2img.StableDiffusionImg2ImgPipeline'> by passing `safety_checker=None`. Ensure that you abide to the conditions of the Stable Diffusion license and do not expose unfiltered results in services or applications open to the public. Both the diffusers team and Hugging Face strongly recommend to keep the safety filter enabled in all public facing circumstances, disabling it only for use-cases that involve analyzing network behavior or auditing its results. For more information, please have a look at https://github.com/huggingface/diffusers/pull/254 .\n"
     ]
    },
    {
     "name": "stdout",
     "output_type": "stream",
     "text": [
      "[ERROR] Failed to load model: Found no NVIDIA driver on your system. Please check that you have an NVIDIA GPU and installed a driver from http://www.nvidia.com/Download/index.aspx\n"
     ]
    }
   ],
   "source": [
    "print(\"[INFO] Gradio app ready\")\n",
    "\n",
    "with gr.Blocks() as app:\n",
    "    gr.Markdown(\"# 스케치 to 이미지 애플리케이션\")\n",
    "\n",
    "    # 모델 다운로드 섹션\n",
    "    gr.Markdown(\"## 모델 다운로드\")\n",
    "    with gr.Row():\n",
    "        model_url = gr.Textbox(label=\"Model Link\", placeholder=\"https://civitai.com/\")\n",
    "        download_model_btn = gr.Button(value=\"Download model\")\n",
    "    with gr.Row():\n",
    "        download_status = gr.Textbox(label=\"Download Status\", value=\"Not downloaded yet\")\n",
    "\n",
    "    # 모델 불러오기 섹션\n",
    "    gr.Markdown(\"## 모델 불러오기\")\n",
    "    with gr.Row():\n",
    "        load_model_btn = gr.Button(value=\"Load model\")\n",
    "    with gr.Row():\n",
    "        is_model_check = gr.Textbox(label=\"Model Load Check\", value=\"Model Not loaded\")\n",
    "\n",
    "    # 프롬프트 입력 섹션\n",
    "    gr.Markdown(\"## 프롬프트 입력\")\n",
    "    with gr.Row():\n",
    "        prompt = gr.Textbox(label=\"Prompt\")\n",
    "    with gr.Row():\n",
    "        n_prompt = gr.Textbox(label=\"Negative Prompt\")\n",
    "\n",
    "    # 스케치 to 이미지 생성 섹션\n",
    "    gr.Markdown(\"## 스케치 to 이미지 생성\")\n",
    "    with gr.Row():\n",
    "        with gr.Column():\n",
    "            with gr.Tab(\"Canvas\"):\n",
    "                with gr.Row():\n",
    "                    canvas = gr.Image(\n",
    "                        label=\"Draw\",\n",
    "                        source=\"canvas\",\n",
    "                        image_mode=\"RGB\",\n",
    "                        tool=\"color-sketch\",\n",
    "                        interactive=True,\n",
    "                        width=WIDTH,\n",
    "                        height=HEIGHT,\n",
    "                        shape=(WIDTH, HEIGHT),\n",
    "                        brush_radius=20,\n",
    "                        type=\"pil\",\n",
    "                    )\n",
    "                with gr.Row():\n",
    "                    canvas_run_btn = gr.Button(value=\"Generate from Canvas\")\n",
    "\n",
    "            with gr.Tab(\"File\"):\n",
    "                with gr.Row():\n",
    "                    file = gr.Image(\n",
    "                        label=\"Upload\",\n",
    "                        source=\"upload\",\n",
    "                        image_mode=\"RGB\",\n",
    "                        interactive=True,\n",
    "                        width=WIDTH,\n",
    "                        height=HEIGHT,\n",
    "                        type=\"pil\",\n",
    "                    )\n",
    "                with gr.Row():\n",
    "                    file_run_btn = gr.Button(value=\"Generate from File\")\n",
    "\n",
    "        # 결과 이미지 갤러리\n",
    "        with gr.Column():\n",
    "            result_gallery = gr.Gallery(label=\"Output\", height=512)\n",
    "\n",
    "    # Event 핸들러 설정\n",
    "    # 모델 다운로드 버튼 클릭 이벤트\n",
    "    download_model_btn.click(\n",
    "        download_model,  # 모델 다운로드 함수 호출\n",
    "        [model_url],  # 입력으로 model_url 사용\n",
    "        [download_status],  # 다운로드 상태를 download_status 텍스트박스에 표시\n",
    "    )\n",
    "\n",
    "    # 모델 불러오기 버튼 클릭 이벤트\n",
    "    load_model_btn.click(\n",
    "        init_pipeline,  # 모델 로드 함수 호출\n",
    "        [],  # 파일 경로는 함수 내에서 관리하므로 입력 없음\n",
    "        [is_model_check],  # 모델 로드 상태를 is_model_check 텍스트박스에 표시\n",
    "    )\n",
    "\n",
    "    # Canvas에서 이미지 생성 버튼 클릭 이벤트\n",
    "    canvas_run_btn.click(\n",
    "        sketch_to_image,  # 스케치에서 이미지 생성 함수 호출\n",
    "        [canvas, prompt, n_prompt],  # 입력으로 canvas, prompt, negative prompt 사용\n",
    "        [result_gallery],  # 출력 이미지가 result_gallery에 표시\n",
    "    )\n",
    "\n",
    "    # File 업로드에서 이미지 생성 버튼 클릭 이벤트\n",
    "    file_run_btn.click(\n",
    "        sketch_to_image,  # 업로드된 이미지에서 생성 함수 호출\n",
    "        [file, prompt, n_prompt],  # 입력으로 업로드된 파일, prompt, negative prompt 사용\n",
    "        [result_gallery],  # 출력 이미지가 result_gallery에 표시\n",
    "    )\n",
    "\n",
    "# Gradio 애플리케이션 실행\n",
    "app.queue().launch(inline=False, share=True)"
   ]
  },
  {
   "cell_type": "code",
   "execution_count": null,
   "metadata": {
    "colab": {
     "base_uri": "https://localhost:8080/"
    },
    "executionInfo": {
     "elapsed": 654,
     "status": "ok",
     "timestamp": 1727180428890,
     "user": {
      "displayName": "황성민",
      "userId": "04059793346518192521"
     },
     "user_tz": -540
    },
    "id": "aYqUda4T1LdK",
    "outputId": "1cb0f21e-40c8-45f1-a1b8-3f226050bc23"
   },
   "outputs": [],
   "source": []
  },
  {
   "cell_type": "code",
   "execution_count": null,
   "metadata": {
    "colab": {
     "base_uri": "https://localhost:8080/"
    },
    "executionInfo": {
     "elapsed": 5,
     "status": "ok",
     "timestamp": 1727180410258,
     "user": {
      "displayName": "황성민",
      "userId": "04059793346518192521"
     },
     "user_tz": -540
    },
    "id": "SM1HqDzu2KuF",
    "outputId": "fe0d3ef8-eb4d-4a71-94f9-a175ac2846b0"
   },
   "outputs": [],
   "source": [
    "app.close()"
   ]
  },
  {
   "cell_type": "code",
   "execution_count": null,
   "metadata": {
    "executionInfo": {
     "elapsed": 5,
     "status": "ok",
     "timestamp": 1727180410259,
     "user": {
      "displayName": "황성민",
      "userId": "04059793346518192521"
     },
     "user_tz": -540
    },
    "id": "Uf9TcRItMH1l"
   },
   "outputs": [],
   "source": []
  }
 ],
 "metadata": {
  "accelerator": "GPU",
  "colab": {
   "gpuType": "T4",
   "provenance": [
    {
     "file_id": "1oyeNQNUrptgrrfnQRXw7nRzQrovA3WIp",
     "timestamp": 1709046193029
    }
   ]
  },
  "kernelspec": {
   "display_name": "Python 3 (ipykernel)",
   "language": "python",
   "name": "python3"
  },
  "language_info": {
   "codemirror_mode": {
    "name": "ipython",
    "version": 3
   },
   "file_extension": ".py",
   "mimetype": "text/x-python",
   "name": "python",
   "nbconvert_exporter": "python",
   "pygments_lexer": "ipython3",
   "version": "3.11.10"
  },
  "widgets": {
   "application/vnd.jupyter.widget-state+json": {
    "224cdd32f1d84876b2db11db46c27c4e": {
     "model_module": "@jupyter-widgets/controls",
     "model_module_version": "1.5.0",
     "model_name": "DescriptionStyleModel",
     "state": {
      "_model_module": "@jupyter-widgets/controls",
      "_model_module_version": "1.5.0",
      "_model_name": "DescriptionStyleModel",
      "_view_count": null,
      "_view_module": "@jupyter-widgets/base",
      "_view_module_version": "1.2.0",
      "_view_name": "StyleView",
      "description_width": ""
     }
    },
    "3a7f81ebe2ba40988b5885dc680035e2": {
     "model_module": "@jupyter-widgets/base",
     "model_module_version": "1.2.0",
     "model_name": "LayoutModel",
     "state": {
      "_model_module": "@jupyter-widgets/base",
      "_model_module_version": "1.2.0",
      "_model_name": "LayoutModel",
      "_view_count": null,
      "_view_module": "@jupyter-widgets/base",
      "_view_module_version": "1.2.0",
      "_view_name": "LayoutView",
      "align_content": null,
      "align_items": null,
      "align_self": null,
      "border": null,
      "bottom": null,
      "display": null,
      "flex": null,
      "flex_flow": null,
      "grid_area": null,
      "grid_auto_columns": null,
      "grid_auto_flow": null,
      "grid_auto_rows": null,
      "grid_column": null,
      "grid_gap": null,
      "grid_row": null,
      "grid_template_areas": null,
      "grid_template_columns": null,
      "grid_template_rows": null,
      "height": null,
      "justify_content": null,
      "justify_items": null,
      "left": null,
      "margin": null,
      "max_height": null,
      "max_width": null,
      "min_height": null,
      "min_width": null,
      "object_fit": null,
      "object_position": null,
      "order": null,
      "overflow": null,
      "overflow_x": null,
      "overflow_y": null,
      "padding": null,
      "right": null,
      "top": null,
      "visibility": null,
      "width": null
     }
    },
    "3d0bca26c8fe41e8beb7df576582c0af": {
     "model_module": "@jupyter-widgets/base",
     "model_module_version": "1.2.0",
     "model_name": "LayoutModel",
     "state": {
      "_model_module": "@jupyter-widgets/base",
      "_model_module_version": "1.2.0",
      "_model_name": "LayoutModel",
      "_view_count": null,
      "_view_module": "@jupyter-widgets/base",
      "_view_module_version": "1.2.0",
      "_view_name": "LayoutView",
      "align_content": null,
      "align_items": null,
      "align_self": null,
      "border": null,
      "bottom": null,
      "display": null,
      "flex": null,
      "flex_flow": null,
      "grid_area": null,
      "grid_auto_columns": null,
      "grid_auto_flow": null,
      "grid_auto_rows": null,
      "grid_column": null,
      "grid_gap": null,
      "grid_row": null,
      "grid_template_areas": null,
      "grid_template_columns": null,
      "grid_template_rows": null,
      "height": null,
      "justify_content": null,
      "justify_items": null,
      "left": null,
      "margin": null,
      "max_height": null,
      "max_width": null,
      "min_height": null,
      "min_width": null,
      "object_fit": null,
      "object_position": null,
      "order": null,
      "overflow": null,
      "overflow_x": null,
      "overflow_y": null,
      "padding": null,
      "right": null,
      "top": null,
      "visibility": null,
      "width": "20px"
     }
    },
    "508ec35c9f8a4ae3b20aeebe634931cf": {
     "model_module": "@jupyter-widgets/controls",
     "model_module_version": "1.5.0",
     "model_name": "HTMLModel",
     "state": {
      "_dom_classes": [],
      "_model_module": "@jupyter-widgets/controls",
      "_model_module_version": "1.5.0",
      "_model_name": "HTMLModel",
      "_view_count": null,
      "_view_module": "@jupyter-widgets/controls",
      "_view_module_version": "1.5.0",
      "_view_name": "HTMLView",
      "description": "",
      "description_tooltip": null,
      "layout": "IPY_MODEL_3a7f81ebe2ba40988b5885dc680035e2",
      "placeholder": "​",
      "style": "IPY_MODEL_224cdd32f1d84876b2db11db46c27c4e",
      "value": " 0/0 [00:00&lt;?, ?it/s]"
     }
    },
    "6437cd38cfe7440bb192352c9da756e3": {
     "model_module": "@jupyter-widgets/controls",
     "model_module_version": "1.5.0",
     "model_name": "FloatProgressModel",
     "state": {
      "_dom_classes": [],
      "_model_module": "@jupyter-widgets/controls",
      "_model_module_version": "1.5.0",
      "_model_name": "FloatProgressModel",
      "_view_count": null,
      "_view_module": "@jupyter-widgets/controls",
      "_view_module_version": "1.5.0",
      "_view_name": "ProgressView",
      "bar_style": "success",
      "description": "",
      "description_tooltip": null,
      "layout": "IPY_MODEL_3d0bca26c8fe41e8beb7df576582c0af",
      "max": 1,
      "min": 0,
      "orientation": "horizontal",
      "style": "IPY_MODEL_b0994cd96dd64ffa9e3809a9e397041d",
      "value": 0
     }
    },
    "683dbf17ba494b0d9a4b9728e6a1409e": {
     "model_module": "@jupyter-widgets/controls",
     "model_module_version": "1.5.0",
     "model_name": "HBoxModel",
     "state": {
      "_dom_classes": [],
      "_model_module": "@jupyter-widgets/controls",
      "_model_module_version": "1.5.0",
      "_model_name": "HBoxModel",
      "_view_count": null,
      "_view_module": "@jupyter-widgets/controls",
      "_view_module_version": "1.5.0",
      "_view_name": "HBoxView",
      "box_style": "",
      "children": [
       "IPY_MODEL_fa054317eeaf46a39c2f522bb0c1287a",
       "IPY_MODEL_6437cd38cfe7440bb192352c9da756e3",
       "IPY_MODEL_508ec35c9f8a4ae3b20aeebe634931cf"
      ],
      "layout": "IPY_MODEL_9180155ce92f46a3bf557f85163d888e"
     }
    },
    "8d81dc6699084d38addcb2e458330a93": {
     "model_module": "@jupyter-widgets/controls",
     "model_module_version": "1.5.0",
     "model_name": "DescriptionStyleModel",
     "state": {
      "_model_module": "@jupyter-widgets/controls",
      "_model_module_version": "1.5.0",
      "_model_name": "DescriptionStyleModel",
      "_view_count": null,
      "_view_module": "@jupyter-widgets/base",
      "_view_module_version": "1.2.0",
      "_view_name": "StyleView",
      "description_width": ""
     }
    },
    "9180155ce92f46a3bf557f85163d888e": {
     "model_module": "@jupyter-widgets/base",
     "model_module_version": "1.2.0",
     "model_name": "LayoutModel",
     "state": {
      "_model_module": "@jupyter-widgets/base",
      "_model_module_version": "1.2.0",
      "_model_name": "LayoutModel",
      "_view_count": null,
      "_view_module": "@jupyter-widgets/base",
      "_view_module_version": "1.2.0",
      "_view_name": "LayoutView",
      "align_content": null,
      "align_items": null,
      "align_self": null,
      "border": null,
      "bottom": null,
      "display": null,
      "flex": null,
      "flex_flow": null,
      "grid_area": null,
      "grid_auto_columns": null,
      "grid_auto_flow": null,
      "grid_auto_rows": null,
      "grid_column": null,
      "grid_gap": null,
      "grid_row": null,
      "grid_template_areas": null,
      "grid_template_columns": null,
      "grid_template_rows": null,
      "height": null,
      "justify_content": null,
      "justify_items": null,
      "left": null,
      "margin": null,
      "max_height": null,
      "max_width": null,
      "min_height": null,
      "min_width": null,
      "object_fit": null,
      "object_position": null,
      "order": null,
      "overflow": null,
      "overflow_x": null,
      "overflow_y": null,
      "padding": null,
      "right": null,
      "top": null,
      "visibility": null,
      "width": null
     }
    },
    "b0994cd96dd64ffa9e3809a9e397041d": {
     "model_module": "@jupyter-widgets/controls",
     "model_module_version": "1.5.0",
     "model_name": "ProgressStyleModel",
     "state": {
      "_model_module": "@jupyter-widgets/controls",
      "_model_module_version": "1.5.0",
      "_model_name": "ProgressStyleModel",
      "_view_count": null,
      "_view_module": "@jupyter-widgets/base",
      "_view_module_version": "1.2.0",
      "_view_name": "StyleView",
      "bar_color": null,
      "description_width": ""
     }
    },
    "d0179e70482d4009b45152cb711073a1": {
     "model_module": "@jupyter-widgets/base",
     "model_module_version": "1.2.0",
     "model_name": "LayoutModel",
     "state": {
      "_model_module": "@jupyter-widgets/base",
      "_model_module_version": "1.2.0",
      "_model_name": "LayoutModel",
      "_view_count": null,
      "_view_module": "@jupyter-widgets/base",
      "_view_module_version": "1.2.0",
      "_view_name": "LayoutView",
      "align_content": null,
      "align_items": null,
      "align_self": null,
      "border": null,
      "bottom": null,
      "display": null,
      "flex": null,
      "flex_flow": null,
      "grid_area": null,
      "grid_auto_columns": null,
      "grid_auto_flow": null,
      "grid_auto_rows": null,
      "grid_column": null,
      "grid_gap": null,
      "grid_row": null,
      "grid_template_areas": null,
      "grid_template_columns": null,
      "grid_template_rows": null,
      "height": null,
      "justify_content": null,
      "justify_items": null,
      "left": null,
      "margin": null,
      "max_height": null,
      "max_width": null,
      "min_height": null,
      "min_width": null,
      "object_fit": null,
      "object_position": null,
      "order": null,
      "overflow": null,
      "overflow_x": null,
      "overflow_y": null,
      "padding": null,
      "right": null,
      "top": null,
      "visibility": null,
      "width": null
     }
    },
    "fa054317eeaf46a39c2f522bb0c1287a": {
     "model_module": "@jupyter-widgets/controls",
     "model_module_version": "1.5.0",
     "model_name": "HTMLModel",
     "state": {
      "_dom_classes": [],
      "_model_module": "@jupyter-widgets/controls",
      "_model_module_version": "1.5.0",
      "_model_name": "HTMLModel",
      "_view_count": null,
      "_view_module": "@jupyter-widgets/controls",
      "_view_module_version": "1.5.0",
      "_view_name": "HTMLView",
      "description": "",
      "description_tooltip": null,
      "layout": "IPY_MODEL_d0179e70482d4009b45152cb711073a1",
      "placeholder": "​",
      "style": "IPY_MODEL_8d81dc6699084d38addcb2e458330a93",
      "value": ""
     }
    }
   }
  }
 },
 "nbformat": 4,
 "nbformat_minor": 1
}
