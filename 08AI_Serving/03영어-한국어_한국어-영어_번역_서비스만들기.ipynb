{
 "cells": [
  {
   "cell_type": "markdown",
   "id": "a9a57706",
   "metadata": {},
   "source": [
    "# 한영 번역 서비스 만들기  M2M100"
   ]
  },
  {
   "cell_type": "code",
   "execution_count": 1,
   "id": "8748165b",
   "metadata": {},
   "outputs": [],
   "source": [
    "# !pip install sentencepiece"
   ]
  },
  {
   "cell_type": "code",
   "execution_count": 3,
   "id": "bafcdc4f",
   "metadata": {},
   "outputs": [
    {
     "name": "stdout",
     "output_type": "stream",
     "text": [
      "This is a Korean/English translator. made with m2m100 model.\n",
      "이것은 한국어에서 영어로 번역기입니다. m2m100 모델을 사용하여 만들었습니다.\n"
     ]
    }
   ],
   "source": [
    "from transformers import M2M100ForConditionalGeneration, M2M100Tokenizer\n",
    "\n",
    "ko_text = \"이것은 한국어/영어 번역기 입니다. m2m100모델로 만들었어요.\"\n",
    "en_text = \"This is a Korean to English translator. I made it using the m2m100 model.\"\n",
    "\n",
    "model = M2M100ForConditionalGeneration.from_pretrained(\"facebook/m2m100_418M\")\n",
    "tokenizer = M2M100Tokenizer.from_pretrained(\"facebook/m2m100_418M\")\n",
    "\n",
    "# translate Hindi to French\n",
    "tokenizer.src_lang = \"ko\"\n",
    "encoded_ko = tokenizer(ko_text, return_tensors=\"pt\")\n",
    "generated_tokens = model.generate(**encoded_ko, forced_bos_token_id=tokenizer.get_lang_id(\"en\"))\n",
    "translated_text = tokenizer.batch_decode(generated_tokens, skip_special_tokens=True)[0]\n",
    "# => \"La vie est comme une boîte de chocolat.\"\n",
    "print(translated_text)\n",
    "\n",
    "# translate Chinese to English\n",
    "tokenizer.src_lang = \"en\"\n",
    "encoded_en = tokenizer(en_text, return_tensors=\"pt\")\n",
    "generated_tokens = model.generate(**encoded_en, forced_bos_token_id=tokenizer.get_lang_id(\"ko\"))\n",
    "translated_text2 = tokenizer.batch_decode(generated_tokens, skip_special_tokens=True)[0]\n",
    "# => \"Life is like a box of chocolate.\"\n",
    "print(translated_text2)"
   ]
  },
  {
   "cell_type": "code",
   "execution_count": null,
   "id": "d6a4454f",
   "metadata": {},
   "outputs": [],
   "source": []
  },
  {
   "cell_type": "code",
   "execution_count": null,
   "id": "878a3f68",
   "metadata": {},
   "outputs": [],
   "source": []
  },
  {
   "cell_type": "code",
   "execution_count": null,
   "id": "3d4733c9",
   "metadata": {},
   "outputs": [],
   "source": []
  },
  {
   "cell_type": "code",
   "execution_count": null,
   "id": "f9ac9f9c",
   "metadata": {},
   "outputs": [],
   "source": []
  },
  {
   "cell_type": "code",
   "execution_count": null,
   "id": "11a8ee21",
   "metadata": {},
   "outputs": [],
   "source": []
  }
 ],
 "metadata": {
  "kernelspec": {
   "display_name": "Python 3 (ipykernel)",
   "language": "python",
   "name": "python3"
  },
  "language_info": {
   "codemirror_mode": {
    "name": "ipython",
    "version": 3
   },
   "file_extension": ".py",
   "mimetype": "text/x-python",
   "name": "python",
   "nbconvert_exporter": "python",
   "pygments_lexer": "ipython3",
   "version": "3.11.10"
  }
 },
 "nbformat": 4,
 "nbformat_minor": 5
}
