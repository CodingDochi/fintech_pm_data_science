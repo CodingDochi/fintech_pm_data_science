{
 "cells": [
  {
   "cell_type": "code",
   "execution_count": 1,
   "id": "78990e4e",
   "metadata": {},
   "outputs": [
    {
     "name": "stdout",
     "output_type": "stream",
     "text": [
      "BGF리테일(282330)의 주가 데이터를 수집 중...\n"
     ]
    },
    {
     "name": "stderr",
     "output_type": "stream",
     "text": [
      "[*********************100%***********************]  1 of 1 completed\n",
      "\n",
      "1 Failed download:\n",
      "['282330']: YFTzMissingError('$%ticker%: possibly delisted; no timezone found')\n"
     ]
    },
    {
     "name": "stdout",
     "output_type": "stream",
     "text": [
      "BGF리테일(282330)의 주가 데이터를 찾을 수 없습니다.\n",
      "DRB동일(004840)의 주가 데이터를 수집 중...\n"
     ]
    },
    {
     "name": "stderr",
     "output_type": "stream",
     "text": [
      "[*********************100%***********************]  1 of 1 completed\n",
      "\n",
      "1 Failed download:\n",
      "['004840']: YFTzMissingError('$%ticker%: possibly delisted; no timezone found')\n"
     ]
    },
    {
     "name": "stdout",
     "output_type": "stream",
     "text": [
      "DRB동일(004840)의 주가 데이터를 찾을 수 없습니다.\n",
      "E1(017940)의 주가 데이터를 수집 중...\n"
     ]
    },
    {
     "name": "stderr",
     "output_type": "stream",
     "text": [
      "[*********************100%***********************]  1 of 1 completed\n",
      "\n",
      "1 Failed download:\n",
      "['017940']: YFTzMissingError('$%ticker%: possibly delisted; no timezone found')\n"
     ]
    },
    {
     "name": "stdout",
     "output_type": "stream",
     "text": [
      "E1(017940)의 주가 데이터를 찾을 수 없습니다.\n",
      "HDC현대산업개발(294870)의 주가 데이터를 수집 중...\n"
     ]
    },
    {
     "name": "stderr",
     "output_type": "stream",
     "text": [
      "[*********************100%***********************]  1 of 1 completed\n",
      "\n",
      "1 Failed download:\n",
      "['294870']: YFTzMissingError('$%ticker%: possibly delisted; no timezone found')\n"
     ]
    },
    {
     "name": "stdout",
     "output_type": "stream",
     "text": [
      "HDC현대산업개발(294870)의 주가 데이터를 찾을 수 없습니다.\n",
      "HD현대마린솔루션(443060)의 주가 데이터를 수집 중...\n"
     ]
    },
    {
     "name": "stderr",
     "output_type": "stream",
     "text": [
      "[*********************100%***********************]  1 of 1 completed\n",
      "\n",
      "1 Failed download:\n",
      "['443060']: YFTzMissingError('$%ticker%: possibly delisted; no timezone found')\n"
     ]
    },
    {
     "name": "stdout",
     "output_type": "stream",
     "text": [
      "HD현대마린솔루션(443060)의 주가 데이터를 찾을 수 없습니다.\n",
      "KPX홀딩스(092230)의 주가 데이터를 수집 중...\n"
     ]
    },
    {
     "name": "stderr",
     "output_type": "stream",
     "text": [
      "[*********************100%***********************]  1 of 1 completed\n",
      "\n",
      "1 Failed download:\n",
      "['092230']: YFTzMissingError('$%ticker%: possibly delisted; no timezone found')\n"
     ]
    },
    {
     "name": "stdout",
     "output_type": "stream",
     "text": [
      "KPX홀딩스(092230)의 주가 데이터를 찾을 수 없습니다.\n",
      "LG화학(051910)의 주가 데이터를 수집 중...\n"
     ]
    },
    {
     "name": "stderr",
     "output_type": "stream",
     "text": [
      "[*********************100%***********************]  1 of 1 completed\n",
      "\n",
      "1 Failed download:\n",
      "['051910']: YFTzMissingError('$%ticker%: possibly delisted; no timezone found')\n"
     ]
    },
    {
     "name": "stdout",
     "output_type": "stream",
     "text": [
      "LG화학(051910)의 주가 데이터를 찾을 수 없습니다.\n",
      "NAVER(035420)의 주가 데이터를 수집 중...\n"
     ]
    },
    {
     "name": "stderr",
     "output_type": "stream",
     "text": [
      "[*********************100%***********************]  1 of 1 completed\n",
      "\n",
      "1 Failed download:\n",
      "['035420']: YFTzMissingError('$%ticker%: possibly delisted; no timezone found')\n"
     ]
    },
    {
     "name": "stdout",
     "output_type": "stream",
     "text": [
      "NAVER(035420)의 주가 데이터를 찾을 수 없습니다.\n",
      "NH투자증권(005940)의 주가 데이터를 수집 중...\n"
     ]
    },
    {
     "name": "stderr",
     "output_type": "stream",
     "text": [
      "[*********************100%***********************]  1 of 1 completed\n",
      "\n",
      "1 Failed download:\n",
      "['005940']: YFTzMissingError('$%ticker%: possibly delisted; no timezone found')\n"
     ]
    },
    {
     "name": "stdout",
     "output_type": "stream",
     "text": [
      "NH투자증권(005940)의 주가 데이터를 찾을 수 없습니다.\n",
      "OCI홀딩스(010060)의 주가 데이터를 수집 중...\n"
     ]
    },
    {
     "name": "stderr",
     "output_type": "stream",
     "text": [
      "[*********************100%***********************]  1 of 1 completed\n",
      "\n",
      "1 Failed download:\n",
      "['010060']: YFTzMissingError('$%ticker%: possibly delisted; no timezone found')\n"
     ]
    },
    {
     "name": "stdout",
     "output_type": "stream",
     "text": [
      "OCI홀딩스(010060)의 주가 데이터를 찾을 수 없습니다.\n",
      "SG글로벌(001380)의 주가 데이터를 수집 중...\n"
     ]
    },
    {
     "name": "stderr",
     "output_type": "stream",
     "text": [
      "[*********************100%***********************]  1 of 1 completed\n",
      "\n",
      "1 Failed download:\n",
      "['001380']: YFTzMissingError('$%ticker%: possibly delisted; no timezone found')\n"
     ]
    },
    {
     "name": "stdout",
     "output_type": "stream",
     "text": [
      "SG글로벌(001380)의 주가 데이터를 찾을 수 없습니다.\n",
      "SK(034730)의 주가 데이터를 수집 중...\n"
     ]
    },
    {
     "name": "stderr",
     "output_type": "stream",
     "text": [
      "[*********************100%***********************]  1 of 1 completed\n",
      "\n",
      "1 Failed download:\n",
      "['034730']: YFTzMissingError('$%ticker%: possibly delisted; no timezone found')\n"
     ]
    },
    {
     "name": "stdout",
     "output_type": "stream",
     "text": [
      "SK(034730)의 주가 데이터를 찾을 수 없습니다.\n",
      "SNT다이내믹스(003570)의 주가 데이터를 수집 중...\n"
     ]
    },
    {
     "name": "stderr",
     "output_type": "stream",
     "text": [
      "[*********************100%***********************]  1 of 1 completed\n",
      "\n",
      "1 Failed download:\n",
      "['003570']: YFTzMissingError('$%ticker%: possibly delisted; no timezone found')\n"
     ]
    },
    {
     "name": "stdout",
     "output_type": "stream",
     "text": [
      "SNT다이내믹스(003570)의 주가 데이터를 찾을 수 없습니다.\n",
      "SPC삼립(005610)의 주가 데이터를 수집 중...\n"
     ]
    },
    {
     "name": "stderr",
     "output_type": "stream",
     "text": [
      "[*********************100%***********************]  1 of 1 completed\n",
      "\n",
      "1 Failed download:\n",
      "['005610']: YFTzMissingError('$%ticker%: possibly delisted; no timezone found')\n"
     ]
    },
    {
     "name": "stdout",
     "output_type": "stream",
     "text": [
      "SPC삼립(005610)의 주가 데이터를 찾을 수 없습니다.\n",
      "STX엔진(077970)의 주가 데이터를 수집 중...\n"
     ]
    },
    {
     "ename": "KeyboardInterrupt",
     "evalue": "",
     "output_type": "error",
     "traceback": [
      "\u001b[1;31m---------------------------------------------------------------------------\u001b[0m",
      "\u001b[1;31mKeyboardInterrupt\u001b[0m                         Traceback (most recent call last)",
      "Cell \u001b[1;32mIn[1], line 68\u001b[0m\n\u001b[0;32m     65\u001b[0m \u001b[38;5;66;03m# 함수 실행 부분\u001b[39;00m\n\u001b[0;32m     66\u001b[0m \u001b[38;5;28;01mif\u001b[39;00m \u001b[38;5;18m__name__\u001b[39m \u001b[38;5;241m==\u001b[39m \u001b[38;5;124m\"\u001b[39m\u001b[38;5;124m__main__\u001b[39m\u001b[38;5;124m\"\u001b[39m:\n\u001b[0;32m     67\u001b[0m     \u001b[38;5;66;03m# 전체 주식 종목의 주가 데이터를 수집 및 저장\u001b[39;00m\n\u001b[1;32m---> 68\u001b[0m     \u001b[43mcollect_all_stock_data\u001b[49m\u001b[43m(\u001b[49m\u001b[43m)\u001b[49m\n",
      "Cell \u001b[1;32mIn[1], line 63\u001b[0m, in \u001b[0;36mcollect_all_stock_data\u001b[1;34m()\u001b[0m\n\u001b[0;32m     60\u001b[0m listing_date \u001b[38;5;241m=\u001b[39m row[\u001b[38;5;124m'\u001b[39m\u001b[38;5;124m상장일\u001b[39m\u001b[38;5;124m'\u001b[39m]\n\u001b[0;32m     62\u001b[0m \u001b[38;5;28mprint\u001b[39m(\u001b[38;5;124mf\u001b[39m\u001b[38;5;124m\"\u001b[39m\u001b[38;5;132;01m{\u001b[39;00mcompany_name\u001b[38;5;132;01m}\u001b[39;00m\u001b[38;5;124m(\u001b[39m\u001b[38;5;132;01m{\u001b[39;00mstock_code\u001b[38;5;132;01m}\u001b[39;00m\u001b[38;5;124m)의 주가 데이터를 수집 중...\u001b[39m\u001b[38;5;124m\"\u001b[39m)\n\u001b[1;32m---> 63\u001b[0m \u001b[43mfetch_and_store_stock_data\u001b[49m\u001b[43m(\u001b[49m\u001b[43mstock_code\u001b[49m\u001b[43m,\u001b[49m\u001b[43m \u001b[49m\u001b[43mcompany_name\u001b[49m\u001b[43m,\u001b[49m\u001b[43m \u001b[49m\u001b[43mlisting_date\u001b[49m\u001b[43m)\u001b[49m\n",
      "Cell \u001b[1;32mIn[1], line 34\u001b[0m, in \u001b[0;36mfetch_and_store_stock_data\u001b[1;34m(stock_code, company_name, listing_date)\u001b[0m\n\u001b[0;32m     31\u001b[0m listing_date \u001b[38;5;241m=\u001b[39m pd\u001b[38;5;241m.\u001b[39mto_datetime(listing_date)\u001b[38;5;241m.\u001b[39mstrftime(\u001b[38;5;124m'\u001b[39m\u001b[38;5;124m%\u001b[39m\u001b[38;5;124mY-\u001b[39m\u001b[38;5;124m%\u001b[39m\u001b[38;5;124mm-\u001b[39m\u001b[38;5;132;01m%d\u001b[39;00m\u001b[38;5;124m'\u001b[39m)\n\u001b[0;32m     33\u001b[0m \u001b[38;5;66;03m# 상장일 이후부터 주가 데이터 수집\u001b[39;00m\n\u001b[1;32m---> 34\u001b[0m stock_data \u001b[38;5;241m=\u001b[39m \u001b[43myf\u001b[49m\u001b[38;5;241;43m.\u001b[39;49m\u001b[43mdownload\u001b[49m\u001b[43m(\u001b[49m\u001b[43mstock_code\u001b[49m\u001b[43m,\u001b[49m\u001b[43m \u001b[49m\u001b[43mstart\u001b[49m\u001b[38;5;241;43m=\u001b[39;49m\u001b[43mlisting_date\u001b[49m\u001b[43m,\u001b[49m\u001b[43m \u001b[49m\u001b[43mend\u001b[49m\u001b[38;5;241;43m=\u001b[39;49m\u001b[43mtoday\u001b[49m\u001b[43m)\u001b[49m\n\u001b[0;32m     36\u001b[0m \u001b[38;5;28;01mif\u001b[39;00m stock_data\u001b[38;5;241m.\u001b[39mempty:\n\u001b[0;32m     37\u001b[0m     \u001b[38;5;28mprint\u001b[39m(\u001b[38;5;124mf\u001b[39m\u001b[38;5;124m\"\u001b[39m\u001b[38;5;132;01m{\u001b[39;00mcompany_name\u001b[38;5;132;01m}\u001b[39;00m\u001b[38;5;124m(\u001b[39m\u001b[38;5;132;01m{\u001b[39;00mstock_code\u001b[38;5;132;01m}\u001b[39;00m\u001b[38;5;124m)의 주가 데이터를 찾을 수 없습니다.\u001b[39m\u001b[38;5;124m\"\u001b[39m)\n",
      "File \u001b[1;32m~\\miniforge3\\envs\\fintech\\lib\\site-packages\\yfinance\\utils.py:104\u001b[0m, in \u001b[0;36mlog_indent_decorator.<locals>.wrapper\u001b[1;34m(*args, **kwargs)\u001b[0m\n\u001b[0;32m    101\u001b[0m logger\u001b[38;5;241m.\u001b[39mdebug(\u001b[38;5;124mf\u001b[39m\u001b[38;5;124m'\u001b[39m\u001b[38;5;124mEntering \u001b[39m\u001b[38;5;132;01m{\u001b[39;00mfunc\u001b[38;5;241m.\u001b[39m\u001b[38;5;18m__name__\u001b[39m\u001b[38;5;132;01m}\u001b[39;00m\u001b[38;5;124m()\u001b[39m\u001b[38;5;124m'\u001b[39m)\n\u001b[0;32m    103\u001b[0m \u001b[38;5;28;01mwith\u001b[39;00m IndentationContext():\n\u001b[1;32m--> 104\u001b[0m     result \u001b[38;5;241m=\u001b[39m func(\u001b[38;5;241m*\u001b[39margs, \u001b[38;5;241m*\u001b[39m\u001b[38;5;241m*\u001b[39mkwargs)\n\u001b[0;32m    106\u001b[0m logger\u001b[38;5;241m.\u001b[39mdebug(\u001b[38;5;124mf\u001b[39m\u001b[38;5;124m'\u001b[39m\u001b[38;5;124mExiting \u001b[39m\u001b[38;5;132;01m{\u001b[39;00mfunc\u001b[38;5;241m.\u001b[39m\u001b[38;5;18m__name__\u001b[39m\u001b[38;5;132;01m}\u001b[39;00m\u001b[38;5;124m()\u001b[39m\u001b[38;5;124m'\u001b[39m)\n\u001b[0;32m    107\u001b[0m \u001b[38;5;28;01mreturn\u001b[39;00m result\n",
      "File \u001b[1;32m~\\miniforge3\\envs\\fintech\\lib\\site-packages\\yfinance\\multi.py:152\u001b[0m, in \u001b[0;36mdownload\u001b[1;34m(tickers, start, end, actions, threads, ignore_tz, group_by, auto_adjust, back_adjust, repair, keepna, progress, period, interval, prepost, proxy, rounding, timeout, session)\u001b[0m\n\u001b[0;32m    145\u001b[0m         _download_one_threaded(ticker, period\u001b[38;5;241m=\u001b[39mperiod, interval\u001b[38;5;241m=\u001b[39minterval,\n\u001b[0;32m    146\u001b[0m                                start\u001b[38;5;241m=\u001b[39mstart, end\u001b[38;5;241m=\u001b[39mend, prepost\u001b[38;5;241m=\u001b[39mprepost,\n\u001b[0;32m    147\u001b[0m                                actions\u001b[38;5;241m=\u001b[39mactions, auto_adjust\u001b[38;5;241m=\u001b[39mauto_adjust,\n\u001b[0;32m    148\u001b[0m                                back_adjust\u001b[38;5;241m=\u001b[39mback_adjust, repair\u001b[38;5;241m=\u001b[39mrepair, keepna\u001b[38;5;241m=\u001b[39mkeepna,\n\u001b[0;32m    149\u001b[0m                                progress\u001b[38;5;241m=\u001b[39m(progress \u001b[38;5;129;01mand\u001b[39;00m i \u001b[38;5;241m>\u001b[39m \u001b[38;5;241m0\u001b[39m), proxy\u001b[38;5;241m=\u001b[39mproxy,\n\u001b[0;32m    150\u001b[0m                                rounding\u001b[38;5;241m=\u001b[39mrounding, timeout\u001b[38;5;241m=\u001b[39mtimeout)\n\u001b[0;32m    151\u001b[0m     \u001b[38;5;28;01mwhile\u001b[39;00m \u001b[38;5;28mlen\u001b[39m(shared\u001b[38;5;241m.\u001b[39m_DFS) \u001b[38;5;241m<\u001b[39m \u001b[38;5;28mlen\u001b[39m(tickers):\n\u001b[1;32m--> 152\u001b[0m         \u001b[43m_time\u001b[49m\u001b[38;5;241;43m.\u001b[39;49m\u001b[43msleep\u001b[49m\u001b[43m(\u001b[49m\u001b[38;5;241;43m0.01\u001b[39;49m\u001b[43m)\u001b[49m\n\u001b[0;32m    153\u001b[0m \u001b[38;5;66;03m# download synchronously\u001b[39;00m\n\u001b[0;32m    154\u001b[0m \u001b[38;5;28;01melse\u001b[39;00m:\n\u001b[0;32m    155\u001b[0m     \u001b[38;5;28;01mfor\u001b[39;00m i, ticker \u001b[38;5;129;01min\u001b[39;00m \u001b[38;5;28menumerate\u001b[39m(tickers):\n",
      "\u001b[1;31mKeyboardInterrupt\u001b[0m: "
     ]
    }
   ],
   "source": [
    "import pymysql\n",
    "from sqlalchemy import create_engine, text\n",
    "from dotenv import load_dotenv\n",
    "import os\n",
    "import yfinance as yf\n",
    "import pandas as pd\n",
    "from datetime import datetime\n",
    "import time\n",
    "\n",
    "# .env 파일에서 환경 변수 로드\n",
    "load_dotenv()\n",
    "\n",
    "# MySQL 연결 정보\n",
    "db_user = os.getenv('DB_USER')\n",
    "db_password = os.getenv('DB_PASSWORD')\n",
    "db_host = os.getenv('DB_HOST')\n",
    "db_name = os.getenv('DB_NAME')\n",
    "\n",
    "# SQLAlchemy 엔진 생성\n",
    "engine = create_engine(f\"mysql+pymysql://{db_user}:{db_password}@{db_host}/{db_name}\")\n",
    "\n",
    "# 테이블 존재 여부 확인 함수\n",
    "def check_table_exists(table_name):\n",
    "    with engine.connect() as conn:\n",
    "        query = text(f\"SHOW TABLES LIKE '{table_name}'\")\n",
    "        result = conn.execute(query).fetchall()\n",
    "        return len(result) > 0\n",
    "\n",
    "# DB에서 상장 기업 목록을 가져오는 함수\n",
    "def get_stock_list_from_db():\n",
    "    query = \"SELECT 종목코드, 회사명, Market FROM korea_stock_company\"\n",
    "    stock_list = pd.read_sql(query, con=engine)\n",
    "    return stock_list\n",
    "\n",
    "# 주가 데이터를 수집하는 함수\n",
    "def fetch_and_store_stock_data(stock_code, company_name, market):\n",
    "    try:\n",
    "        # 종목코드 뒤에 붙일 접미사 결정 (KOSPI -> .KS, KOSDAQ -> .KQ)\n",
    "        suffix = '.KS' if market == 'KOSPI' else '.KQ'\n",
    "        stock_code_yahoo = f\"{stock_code}{suffix}\"\n",
    "        \n",
    "        # 오늘 날짜 전날까지 데이터 수집\n",
    "        today = datetime.now().strftime('%Y-%m-%d')\n",
    "        print(f\"{company_name}({stock_code_yahoo})의 주가 데이터를 수집 중...\")\n",
    "        for year in range(2004, datetime.today().year + 1):  # 2004년부터 현재까지 연도별로 처리\n",
    "            table_name = f'stock_prices_{year}'\n",
    "            \n",
    "            # 테이블이 존재하지 않으면 데이터를 바로 수집하여 테이블 생성\n",
    "            if not check_table_exists(table_name):\n",
    "                print(f\"Table {table_name} does not exist. It will be created automatically when inserting data.\")\n",
    "                stock_data = yf.download(stock_code_yahoo, start=f'{year}-01-01', end=f'{year}-12-31')\n",
    "                \n",
    "                if not stock_data.empty:\n",
    "                    stock_data['종목코드'] = stock_code\n",
    "                    stock_data['회사명'] = company_name\n",
    "                    stock_data.to_sql(table_name, con=engine, if_exists='append', index=True)\n",
    "                    print(f\"New data for {stock_code} ({company_name}) saved to table {table_name}.\")\n",
    "                else:\n",
    "                    print(f\"No data for {stock_code} ({company_name}) in {year}.\")\n",
    "                continue\n",
    "            \n",
    "            # 최신 날짜가 있는 경우 이후 데이터 수집\n",
    "            latest_date_query = f\"\"\"\n",
    "                SELECT MAX(Date) AS latest_date \n",
    "                FROM {table_name} \n",
    "                WHERE 종목코드='{stock_code}'\n",
    "            \"\"\"\n",
    "            with engine.connect() as conn:\n",
    "                result = pd.read_sql(latest_date_query, con=conn)\n",
    "            \n",
    "            latest_date = result['latest_date'].values[0] if not result.empty else None\n",
    "            \n",
    "            # 최신 데이터가 없으면 해당 연도의 처음부터 가져오기\n",
    "            if pd.isna(latest_date):\n",
    "                start_date = f'{year}-01-01'\n",
    "            else:\n",
    "                start_date = (pd.to_datetime(latest_date) + pd.Timedelta(days=1)).strftime('%Y-%m-%d')\n",
    "            \n",
    "            # 연도 말일 기준으로 데이터 수집\n",
    "            end_date = f'{year}-12-31' if year < datetime.today().year else today\n",
    "            \n",
    "            # 주가 데이터 수집\n",
    "            stock_data = yf.download(stock_code_yahoo, start=start_date, end=end_date)\n",
    "            time.sleep(1)\n",
    "\n",
    "            if not stock_data.empty:\n",
    "                stock_data['종목코드'] = stock_code\n",
    "                stock_data['회사명'] = company_name\n",
    "                stock_data.to_sql(table_name, con=engine, if_exists='append', index=True)\n",
    "                print(f\"New data for {stock_code} ({company_name}) saved to table {table_name}.\")\n",
    "            else:\n",
    "                print(f\"No new data for {stock_code} ({company_name}) in {year}.\")\n",
    "    except Exception as e:\n",
    "        print(f\"Error retrieving data for {stock_code} ({company_name}): {e}\")\n",
    "\n",
    "# 전체 주가 데이터를 수집하고 저장하는 함수\n",
    "def collect_all_stock_data():\n",
    "    stock_list = get_stock_list_from_db()\n",
    "    \n",
    "    for idx, row in stock_list.iterrows():\n",
    "        stock_code = row['종목코드']\n",
    "        company_name = row['회사명']\n",
    "        market = row['Market']  # KOSPI 또는 KOSDAQ 정보\n",
    "        \n",
    "        fetch_and_store_stock_data(stock_code, company_name, market)\n",
    "\n",
    "# 함수 실행 부분\n",
    "if __name__ == \"__main__\":\n",
    "    collect_all_stock_data()\n"
   ]
  },
  {
   "cell_type": "code",
   "execution_count": null,
   "id": "35234d6c",
   "metadata": {},
   "outputs": [],
   "source": []
  }
 ],
 "metadata": {
  "kernelspec": {
   "display_name": "Python 3 (ipykernel)",
   "language": "python",
   "name": "python3"
  },
  "language_info": {
   "codemirror_mode": {
    "name": "ipython",
    "version": 3
   },
   "file_extension": ".py",
   "mimetype": "text/x-python",
   "name": "python",
   "nbconvert_exporter": "python",
   "pygments_lexer": "ipython3",
   "version": "3.10.14"
  }
 },
 "nbformat": 4,
 "nbformat_minor": 5
}
