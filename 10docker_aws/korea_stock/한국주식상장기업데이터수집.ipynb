{
 "cells": [
  {
   "cell_type": "code",
   "execution_count": 1,
   "id": "dbe28ac8",
   "metadata": {},
   "outputs": [],
   "source": [
    "# !pip install finance-datareader"
   ]
  },
  {
   "cell_type": "code",
   "execution_count": 7,
   "id": "91e80a18",
   "metadata": {},
   "outputs": [
    {
     "name": "stdout",
     "output_type": "stream",
     "text": [
      "Database 'korea_stock' checked/created successfully.\n"
     ]
    },
    {
     "name": "stderr",
     "output_type": "stream",
     "text": [
      "C:\\Users\\5-29\\miniforge3\\envs\\fintech\\lib\\site-packages\\bs4\\__init__.py:228: UserWarning: You provided Unicode markup but also provided a value for from_encoding. Your from_encoding will be ignored.\n",
      "  warnings.warn(\"You provided Unicode markup but also provided a value for from_encoding. Your from_encoding will be ignored.\")\n"
     ]
    },
    {
     "name": "stdout",
     "output_type": "stream",
     "text": [
      "Table 'korea_stock_company' created successfully based on dataframe columns.\n",
      "New stock company data inserted successfully.\n"
     ]
    }
   ],
   "source": [
    "import pymysql\n",
    "from sqlalchemy import create_engine, text\n",
    "from dotenv import load_dotenv\n",
    "import os\n",
    "import pandas as pd\n",
    "from datetime import datetime\n",
    "\n",
    "# .env 파일에서 환경 변수 로드\n",
    "load_dotenv()\n",
    "\n",
    "# MySQL 연결 정보\n",
    "db_user = os.getenv('DB_USER')\n",
    "db_password = os.getenv('DB_PASSWORD')\n",
    "db_host = os.getenv('DB_HOST')\n",
    "db_name = os.getenv('DB_NAME')\n",
    "\n",
    "# 데이터베이스 생성 함수\n",
    "def create_database_if_not_exists():\n",
    "    # MySQL에 접속\n",
    "    connection = pymysql.connect(\n",
    "        host=db_host,\n",
    "        user=db_user,\n",
    "        password=db_password\n",
    "    )\n",
    "    \n",
    "    try:\n",
    "        with connection.cursor() as cursor:\n",
    "            # 데이터베이스 존재 여부 확인 및 없을 경우 생성\n",
    "            cursor.execute(f\"CREATE DATABASE IF NOT EXISTS {db_name};\")\n",
    "            print(f\"Database '{db_name}' checked/created successfully.\")\n",
    "    finally:\n",
    "        connection.close()\n",
    "\n",
    "# SQLAlchemy 엔진 생성\n",
    "engine = create_engine(f\"mysql+pymysql://{db_user}:{db_password}@{db_host}/{db_name}\")\n",
    "\n",
    "# 테이블 존재 여부 확인 함수\n",
    "def check_table_exists(table_name):\n",
    "    with engine.connect() as conn:\n",
    "        query = text(f\"SHOW TABLES LIKE '{table_name}'\")\n",
    "        result = conn.execute(query).fetchall()\n",
    "        return len(result) > 0\n",
    "\n",
    "# 한국 주식 목록 가져오기 (KRX)\n",
    "def get_kr_stock_list():\n",
    "    url = 'http://kind.krx.co.kr/corpgeneral/corpList.do?method=download'\n",
    "    \n",
    "    # 인코딩을 'euc-kr'로 설정하여 읽기\n",
    "    kr_stock_list = pd.read_html(url, header=0, encoding='euc-kr')[0]\n",
    "    \n",
    "    # 종목코드를 6자리로 맞춤\n",
    "    kr_stock_list['종목코드'] = kr_stock_list['종목코드'].apply(lambda x: f'{x:06d}')\n",
    "    \n",
    "    return kr_stock_list\n",
    "\n",
    "# 상장 기업 목록을 DB에 저장하는 함수\n",
    "def insert_stock_company_data():\n",
    "    # 한국 상장 기업 목록 가져오기\n",
    "    stock_list = get_kr_stock_list()\n",
    "    \n",
    "    # 필요에 따라 열 이름을 맞춤 (원하는 열로 수정 가능)\n",
    "    # stock_list = stock_list[['종목코드', '회사명', '시장구분', '상장주식수', '자본금']]\n",
    "\n",
    "    # 데이터프레임을 MySQL에 저장\n",
    "    stock_list.to_sql('korea_stock_company', con=engine, if_exists='replace', index=False)\n",
    "    print(\"Stock company data inserted successfully.\")\n",
    "\n",
    "# 함수 실행 부분\n",
    "if __name__ == \"__main__\":\n",
    "    # 데이터베이스 생성 확인\n",
    "    create_database_if_not_exists()\n",
    "    \n",
    "    # 상장 기업 데이터 삽입\n",
    "    if not check_table_exists('korea_stock_company'):\n",
    "        insert_stock_company_data()\n",
    "    else:\n",
    "        print(\"Table 'korea_stock_company' already exists.\")\n"
   ]
  },
  {
   "cell_type": "code",
   "execution_count": null,
   "id": "3a3beb52",
   "metadata": {},
   "outputs": [],
   "source": []
  },
  {
   "cell_type": "code",
   "execution_count": null,
   "id": "13a8e4ec",
   "metadata": {},
   "outputs": [],
   "source": []
  }
 ],
 "metadata": {
  "kernelspec": {
   "display_name": "Python 3 (ipykernel)",
   "language": "python",
   "name": "python3"
  },
  "language_info": {
   "codemirror_mode": {
    "name": "ipython",
    "version": 3
   },
   "file_extension": ".py",
   "mimetype": "text/x-python",
   "name": "python",
   "nbconvert_exporter": "python",
   "pygments_lexer": "ipython3",
   "version": "3.10.14"
  }
 },
 "nbformat": 4,
 "nbformat_minor": 5
}
