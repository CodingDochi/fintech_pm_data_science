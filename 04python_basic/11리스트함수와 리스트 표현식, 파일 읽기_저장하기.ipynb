{
 "cells": [
  {
   "cell_type": "markdown",
   "id": "36081949",
   "metadata": {},
   "source": [
    "# 리스트함수와 리스트 표현식, 파일 읽기_저장하기"
   ]
  },
  {
   "cell_type": "markdown",
   "id": "fad7f372",
   "metadata": {},
   "source": [
    "## 리스트 함수\n",
    "* min(): 리스트 내에서 최소값 찾아주는 함수\n",
    "* max(): 리스트 내에서 최대값을 찾아주는 함수\n",
    "* sum(): 리스트 내의 요소를 더해 합계를 구해주는 함수"
   ]
  },
  {
   "cell_type": "code",
   "execution_count": 2,
   "id": "4478c6c3",
   "metadata": {},
   "outputs": [],
   "source": [
    "a = [38, 21, 53, 62, 19, 5, 78, 55, 42, 33]\n",
    "b = [77, 65, 48, 79, 5, 4, 35, 3, 99, 105]"
   ]
  },
  {
   "cell_type": "markdown",
   "id": "e72dff5f",
   "metadata": {},
   "source": [
    "* 정렬해서 가장 앞에 있는 숫자 추출\n",
    "* 모든 요소를 꺼내서 비교"
   ]
  },
  {
   "cell_type": "code",
   "execution_count": 9,
   "id": "7c5f9ba0",
   "metadata": {},
   "outputs": [
    {
     "data": {
      "text/plain": [
       "78"
      ]
     },
     "execution_count": 9,
     "metadata": {},
     "output_type": "execute_result"
    }
   ],
   "source": [
    "sorted(a)[-1]"
   ]
  },
  {
   "cell_type": "code",
   "execution_count": 11,
   "id": "3daf1c13",
   "metadata": {},
   "outputs": [
    {
     "data": {
      "text/plain": [
       "5"
      ]
     },
     "execution_count": 11,
     "metadata": {},
     "output_type": "execute_result"
    }
   ],
   "source": [
    "sorted(a, reverse=True)[-1]"
   ]
  },
  {
   "cell_type": "code",
   "execution_count": 15,
   "id": "5898e743",
   "metadata": {},
   "outputs": [
    {
     "name": "stdout",
     "output_type": "stream",
     "text": [
      "최대값: 105\n"
     ]
    }
   ],
   "source": [
    "# 리스트 내에서 가장 큰 값을 찾는 코드\n",
    "temp = b[0]\n",
    "for i in b:\n",
    "    if temp <= i:\n",
    "        temp = i\n",
    "print(\"최대값:\", temp )"
   ]
  },
  {
   "cell_type": "code",
   "execution_count": 26,
   "id": "3b3dfa02",
   "metadata": {
    "scrolled": false
   },
   "outputs": [
    {
     "name": "stdout",
     "output_type": "stream",
     "text": [
      "최소값: 3\n",
      "Time:  0.0 seconds\n",
      "Time:  0.0 milliseconds\n",
      "Time:  0.0 microseconds\n"
     ]
    }
   ],
   "source": [
    "# 리스트 내에서 가장 큰 값을 찾는 코드\n",
    "temp = b[0]\n",
    "for i in b:\n",
    "    if temp >= i:\n",
    "        temp = i\n",
    "print(\"최소값:\", temp)"
   ]
  },
  {
   "cell_type": "code",
   "execution_count": 29,
   "id": "2d2e4cc4",
   "metadata": {},
   "outputs": [
    {
     "name": "stdout",
     "output_type": "stream",
     "text": [
      "5\n",
      "78\n",
      "3\n",
      "105\n"
     ]
    }
   ],
   "source": [
    "print(min(a))\n",
    "print(max(a))\n",
    "print(min(b))\n",
    "print(max(b))\n"
   ]
  },
  {
   "cell_type": "markdown",
   "id": "5799ea42",
   "metadata": {},
   "source": [
    "리스트 내의 모든 요소 더하기"
   ]
  },
  {
   "cell_type": "code",
   "execution_count": 30,
   "id": "b782b2d8",
   "metadata": {},
   "outputs": [
    {
     "data": {
      "text/plain": [
       "[38, 21, 53, 62, 19, 5, 78, 55, 42, 33]"
      ]
     },
     "execution_count": 30,
     "metadata": {},
     "output_type": "execute_result"
    }
   ],
   "source": [
    "a"
   ]
  },
  {
   "cell_type": "code",
   "execution_count": 31,
   "id": "eb85b1f3",
   "metadata": {},
   "outputs": [
    {
     "name": "stdout",
     "output_type": "stream",
     "text": [
      "406\n"
     ]
    }
   ],
   "source": [
    "hap = 0\n",
    "for i in a:\n",
    "    hap += i\n",
    "print(hap)"
   ]
  },
  {
   "cell_type": "code",
   "execution_count": 32,
   "id": "f55b49b9",
   "metadata": {},
   "outputs": [
    {
     "data": {
      "text/plain": [
       "406"
      ]
     },
     "execution_count": 32,
     "metadata": {},
     "output_type": "execute_result"
    }
   ],
   "source": [
    "sum(a)"
   ]
  },
  {
   "cell_type": "markdown",
   "id": "5f00412d",
   "metadata": {},
   "source": [
    "## 리스트 표현식(list comprehension) 사용하기\n",
    "* 리스트 안에 for반복문과 if else 조건문을 한 번에 적는 방법\n",
    "* 여러 줄의 코드를 1줄로 줄일 수 있고\n",
    "* for, if else 문을 쓸 때 보다 처리속도가 빠르다\n",
    "* [실행할 명령 for 변수 in list, tuple]"
   ]
  },
  {
   "cell_type": "code",
   "execution_count": 33,
   "id": "7e936d94",
   "metadata": {},
   "outputs": [
    {
     "data": {
      "text/plain": [
       "[1, 2, 3, 4, 5, 6, 7, 8, 9, 10]"
      ]
     },
     "execution_count": 33,
     "metadata": {},
     "output_type": "execute_result"
    }
   ],
   "source": [
    "list(range(1,11))"
   ]
  },
  {
   "cell_type": "code",
   "execution_count": 34,
   "id": "bd2ec7d7",
   "metadata": {},
   "outputs": [
    {
     "data": {
      "text/plain": [
       "[1, 2, 3, 4, 5, 6, 7, 8, 9, 10]"
      ]
     },
     "execution_count": 34,
     "metadata": {},
     "output_type": "execute_result"
    }
   ],
   "source": [
    "a = []\n",
    "[i for i in range(1, 11)]\n",
    "    \n",
    "a"
   ]
  },
  {
   "cell_type": "code",
   "execution_count": 35,
   "id": "78a82eb1",
   "metadata": {},
   "outputs": [
    {
     "data": {
      "text/plain": [
       "[1, 2, 3, 4, 5, 6, 7, 8, 9, 10]"
      ]
     },
     "execution_count": 35,
     "metadata": {},
     "output_type": "execute_result"
    }
   ],
   "source": [
    "[i for i in range(1,11)]"
   ]
  },
  {
   "cell_type": "code",
   "execution_count": 36,
   "id": "212901b4",
   "metadata": {},
   "outputs": [],
   "source": [
    "import time"
   ]
  },
  {
   "cell_type": "code",
   "execution_count": 39,
   "id": "c0a2306c",
   "metadata": {},
   "outputs": [
    {
     "name": "stdout",
     "output_type": "stream",
     "text": [
      "[6, 7, 8, 9, 10, 11, 12, 13, 14, 15]\n",
      "코드 실행 시간:  37.471303939819336\n"
     ]
    }
   ],
   "source": [
    "start = time.time()\n",
    "\n",
    "a = []\n",
    "for i in range(1, 200000000):\n",
    "    a.append(i + 5)\n",
    "print(a[:10])\n",
    "\n",
    "print('코드 실행 시간: ', time.time() - start)"
   ]
  },
  {
   "cell_type": "code",
   "execution_count": 40,
   "id": "18f44e96",
   "metadata": {},
   "outputs": [
    {
     "name": "stdout",
     "output_type": "stream",
     "text": [
      "[6, 7, 8, 9, 10, 11, 12, 13, 14, 15]\n",
      "코드 실행 시간:  18.67800521850586\n"
     ]
    }
   ],
   "source": [
    "start = time.time()\n",
    "\n",
    "b = [i + 5 for i in range(1, 200000000)]\n",
    "\n",
    "print(b[:10])\n",
    "\n",
    "print('코드 실행 시간: ', time.time() - start)"
   ]
  },
  {
   "cell_type": "code",
   "execution_count": 42,
   "id": "ce7458ea",
   "metadata": {},
   "outputs": [],
   "source": [
    "import numpy as np"
   ]
  },
  {
   "cell_type": "code",
   "execution_count": 43,
   "id": "0adeba2c",
   "metadata": {},
   "outputs": [
    {
     "name": "stdout",
     "output_type": "stream",
     "text": [
      "[ 6  7  8  9 10 11 12 13 14 15]\n",
      "코드 실행 시간:  1.1000795364379883\n"
     ]
    }
   ],
   "source": [
    "start = time.time()\n",
    "\n",
    "c = np.arange(1, 200000000)\n",
    "c = c + 5\n",
    "print(c[:10])\n",
    "\n",
    "print('코드 실행 시간: ', time.time() - start)"
   ]
  },
  {
   "cell_type": "code",
   "execution_count": null,
   "id": "8e1bce17",
   "metadata": {},
   "outputs": [],
   "source": []
  },
  {
   "cell_type": "code",
   "execution_count": null,
   "id": "3552a9d6",
   "metadata": {},
   "outputs": [],
   "source": []
  },
  {
   "cell_type": "code",
   "execution_count": null,
   "id": "b2e22a79",
   "metadata": {},
   "outputs": [],
   "source": []
  },
  {
   "cell_type": "code",
   "execution_count": null,
   "id": "cf131f02",
   "metadata": {},
   "outputs": [],
   "source": []
  },
  {
   "cell_type": "code",
   "execution_count": null,
   "id": "f304bbb4",
   "metadata": {},
   "outputs": [],
   "source": []
  },
  {
   "cell_type": "code",
   "execution_count": null,
   "id": "350d1dbe",
   "metadata": {},
   "outputs": [],
   "source": []
  }
 ],
 "metadata": {
  "kernelspec": {
   "display_name": "Python 3 (ipykernel)",
   "language": "python",
   "name": "python3"
  },
  "language_info": {
   "codemirror_mode": {
    "name": "ipython",
    "version": 3
   },
   "file_extension": ".py",
   "mimetype": "text/x-python",
   "name": "python",
   "nbconvert_exporter": "python",
   "pygments_lexer": "ipython3",
   "version": "3.10.14"
  }
 },
 "nbformat": 4,
 "nbformat_minor": 5
}
