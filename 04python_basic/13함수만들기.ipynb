{
 "cells": [
  {
   "cell_type": "markdown",
   "id": "f0d81fae",
   "metadata": {},
   "source": [
    "# 함수 만들기"
   ]
  },
  {
   "cell_type": "markdown",
   "id": "12c93c68",
   "metadata": {},
   "source": [
    "* print(), split(), input()  => 함수\n",
    "* 함수의 괄호 안에 값을 넣으면 출력을 해주거나 입력을 받거나 변환을 해 줌\n",
    "* 도구\n",
    "* function => 기능\n",
    "* 자주 사용하는 기능을 미리 만들어서 **반복 재사용** 할 수 있게 만드는 것"
   ]
  },
  {
   "cell_type": "code",
   "execution_count": null,
   "id": "45e8f582",
   "metadata": {},
   "outputs": [],
   "source": [
    "L = [1,2,3,4,5]\n",
    "result = []\n",
    "for i in L:\n",
    "    result.append(i*10)\n",
    "result"
   ]
  },
  {
   "cell_type": "markdown",
   "id": "2d91b949",
   "metadata": {},
   "source": [
    "## 1) 함수 만드는 법\n",
    "def 함수이름():<br>\n",
    "____실행코드<br>\n",
    "____return 리턴 값<br>"
   ]
  },
  {
   "cell_type": "code",
   "execution_count": null,
   "id": "b5928af5",
   "metadata": {},
   "outputs": [],
   "source": [
    "def hello():\n",
    "    print(\"hello 파이썬 함수 만들기\")"
   ]
  },
  {
   "cell_type": "code",
   "execution_count": null,
   "id": "e1f60324",
   "metadata": {},
   "outputs": [],
   "source": [
    "hello()"
   ]
  },
  {
   "cell_type": "markdown",
   "id": "f4dbd258",
   "metadata": {},
   "source": [
    "## 2) 함수 호출순서\n",
    "* 함수는 호출하기 전에 반드시 먼저 정의되어야 하고(만들어 놓아야 함)\n",
    "* 함수 정의가 함수 실행보다 위에 있어야 한다."
   ]
  },
  {
   "cell_type": "code",
   "execution_count": 3,
   "id": "8c0e8bcd",
   "metadata": {},
   "outputs": [
    {
     "name": "stdout",
     "output_type": "stream",
     "text": [
      "hello2 파이썬 함수 만들기\n"
     ]
    }
   ],
   "source": [
    "def hello2():\n",
    "    print(\"hello2 파이썬 함수 만들기\")\n",
    "    \n",
    "hello2()\n",
    "\n"
   ]
  },
  {
   "cell_type": "markdown",
   "id": "1369176d",
   "metadata": {},
   "source": [
    "## 3) 함수의 매개변수\n",
    "* 함수의 ()안에 받는 값\n",
    "* ()안에 값을 받아서 함수 내에서 처리할 때 사용\n",
    "* print(\"hello\")  => hello"
   ]
  },
  {
   "cell_type": "markdown",
   "id": "e88fa1fe",
   "metadata": {},
   "source": [
    "매개변수 1개짜리 함수"
   ]
  },
  {
   "cell_type": "code",
   "execution_count": 11,
   "id": "c26c5734",
   "metadata": {},
   "outputs": [],
   "source": [
    "# 원의 넓이를 구하는 함수 - 반지름 * 반지름 * 3.14\n",
    "def circle(c):\n",
    "    print(\"원의 넓이는: \", c * c * 3.14, \"입니다.\")\n",
    "    return c * c * 3.14"
   ]
  },
  {
   "cell_type": "code",
   "execution_count": 12,
   "id": "b5616213",
   "metadata": {},
   "outputs": [
    {
     "name": "stdout",
     "output_type": "stream",
     "text": [
      "원의 넓이는:  28.26 입니다.\n",
      "result: 28.26\n"
     ]
    }
   ],
   "source": [
    "result = circle(3)\n",
    "print(\"result:\", result)"
   ]
  },
  {
   "cell_type": "markdown",
   "id": "821e98e6",
   "metadata": {},
   "source": [
    "매개변수 2개짜리 함수 - 덧셈 함수 만들기"
   ]
  },
  {
   "cell_type": "code",
   "execution_count": 13,
   "id": "5a199365",
   "metadata": {},
   "outputs": [],
   "source": [
    "def add(a, b):\n",
    "    return a + b"
   ]
  },
  {
   "cell_type": "code",
   "execution_count": 16,
   "id": "a9b993de",
   "metadata": {},
   "outputs": [
    {
     "name": "stdout",
     "output_type": "stream",
     "text": [
      "result:  13\n"
     ]
    }
   ],
   "source": [
    "result = add(10, 3)\n",
    "print(\"result: \", result)"
   ]
  },
  {
   "cell_type": "code",
   "execution_count": 17,
   "id": "21e959f2",
   "metadata": {},
   "outputs": [
    {
     "data": {
      "text/plain": [
       "1345676768165"
      ]
     },
     "execution_count": 17,
     "metadata": {},
     "output_type": "execute_result"
    }
   ],
   "source": [
    "add(999, 1345676767166)"
   ]
  },
  {
   "cell_type": "markdown",
   "id": "a4b7e47e",
   "metadata": {},
   "source": [
    "매개 변수 3개짜리 함수 - a: 시작, b: 끝, c: 증감<br>\n",
    "num_maker라는 이름의 함수를 만드세요.<br>\n",
    "숫자를 입력받아 시작, 끝, 증감이 반영되게 출력하세요.<br>\n",
    "num_maker(1, 10, 2)<br>\n",
    "1, 3, 5, 7, 9"
   ]
  },
  {
   "cell_type": "code",
   "execution_count": 34,
   "id": "16ca55a8",
   "metadata": {},
   "outputs": [],
   "source": [
    "def num_maker(a, b, c):\n",
    "    result = [i for i in range(a,b,c)]\n",
    "    return result "
   ]
  },
  {
   "cell_type": "code",
   "execution_count": 35,
   "id": "5ee8b624",
   "metadata": {},
   "outputs": [
    {
     "name": "stdout",
     "output_type": "stream",
     "text": [
      "[1, 3, 5, 7, 9]\n",
      "<class 'list'>\n"
     ]
    }
   ],
   "source": [
    "result = num_maker(1, 10, 2)\n",
    "print(result)\n",
    "print(type(result))"
   ]
  },
  {
   "cell_type": "code",
   "execution_count": 57,
   "id": "b40f12a6",
   "metadata": {},
   "outputs": [
    {
     "ename": "TypeError",
     "evalue": "num_maker() missing 1 required positional argument: 'c'",
     "output_type": "error",
     "traceback": [
      "\u001b[1;31m---------------------------------------------------------------------------\u001b[0m",
      "\u001b[1;31mTypeError\u001b[0m                                 Traceback (most recent call last)",
      "Cell \u001b[1;32mIn[57], line 1\u001b[0m\n\u001b[1;32m----> 1\u001b[0m \u001b[43mnum_maker\u001b[49m\u001b[43m(\u001b[49m\u001b[38;5;241;43m2\u001b[39;49m\u001b[43m,\u001b[49m\u001b[43m \u001b[49m\u001b[38;5;241;43m500\u001b[39;49m\u001b[43m)\u001b[49m\n",
      "\u001b[1;31mTypeError\u001b[0m: num_maker() missing 1 required positional argument: 'c'"
     ]
    }
   ],
   "source": [
    "num_maker(2, 500)"
   ]
  },
  {
   "cell_type": "markdown",
   "id": "d85f2b7d",
   "metadata": {},
   "source": [
    "리턴값이 여러 개인 함수"
   ]
  },
  {
   "cell_type": "code",
   "execution_count": 30,
   "id": "846af78f",
   "metadata": {},
   "outputs": [],
   "source": [
    "def add_sub(a, b):\n",
    "    add = a + b\n",
    "    sub = a - b\n",
    "    return add, sub"
   ]
  },
  {
   "cell_type": "code",
   "execution_count": 32,
   "id": "854bbd0b",
   "metadata": {},
   "outputs": [
    {
     "name": "stdout",
     "output_type": "stream",
     "text": [
      "<class 'tuple'>\n"
     ]
    }
   ],
   "source": [
    "result = add_sub(7, 3)\n",
    "print(type(result))"
   ]
  },
  {
   "cell_type": "code",
   "execution_count": 38,
   "id": "931ec2b9",
   "metadata": {},
   "outputs": [],
   "source": [
    "a = 1\n",
    "b = 3"
   ]
  },
  {
   "cell_type": "code",
   "execution_count": 39,
   "id": "65dbf564",
   "metadata": {},
   "outputs": [
    {
     "data": {
      "text/plain": [
       "(1, 3)"
      ]
     },
     "execution_count": 39,
     "metadata": {},
     "output_type": "execute_result"
    }
   ],
   "source": [
    "t = a, b\n",
    "t"
   ]
  },
  {
   "cell_type": "code",
   "execution_count": 41,
   "id": "b6b53c15",
   "metadata": {},
   "outputs": [
    {
     "name": "stdout",
     "output_type": "stream",
     "text": [
      "<class 'tuple'> (0, 1)\n",
      "<class 'tuple'> (1, 2)\n",
      "<class 'tuple'> (2, 3)\n",
      "<class 'tuple'> (3, 4)\n",
      "<class 'tuple'> (4, 5)\n",
      "<class 'tuple'> (5, 6)\n",
      "<class 'tuple'> (6, 7)\n",
      "<class 'tuple'> (7, 8)\n",
      "<class 'tuple'> (8, 9)\n",
      "<class 'tuple'> (9, 10)\n"
     ]
    }
   ],
   "source": [
    "for i in enumerate(range(1,11)):\n",
    "    print(type(i),i )"
   ]
  },
  {
   "cell_type": "markdown",
   "id": "6cdf3d2c",
   "metadata": {},
   "source": [
    "num_maker2 - 정방향, 역방향 리스트 출력"
   ]
  },
  {
   "cell_type": "code",
   "execution_count": 42,
   "id": "935b62f4",
   "metadata": {},
   "outputs": [],
   "source": [
    "def num_maker2(a, b, c):\n",
    "    asc = [i for i in range(a, b, c)]\n",
    "    desc = [i for i in range(a, b, c)][::-1]\n",
    "    return asc, desc"
   ]
  },
  {
   "cell_type": "code",
   "execution_count": 43,
   "id": "7471be9c",
   "metadata": {},
   "outputs": [
    {
     "data": {
      "text/plain": [
       "([1, 3, 5, 7, 9], [9, 7, 5, 3, 1])"
      ]
     },
     "execution_count": 43,
     "metadata": {},
     "output_type": "execute_result"
    }
   ],
   "source": [
    "num_maker2(1, 10, 2)"
   ]
  },
  {
   "cell_type": "markdown",
   "id": "6e92efc0",
   "metadata": {},
   "source": [
    "## 4) 중간에 함수를 종료시키기 위한 용도의 return\n",
    "* 반복문에서 break로 반복을 중지시키는 것처럼 함수에서 return이 실행되면 함수는 종료"
   ]
  },
  {
   "cell_type": "markdown",
   "id": "0dbb30f0",
   "metadata": {},
   "source": [
    "1-10까지 숫자중에 짝수만 출력하다가 7 이상이 되면 종료하기"
   ]
  },
  {
   "cell_type": "code",
   "execution_count": 44,
   "id": "7bf38286",
   "metadata": {},
   "outputs": [],
   "source": [
    "age = range(1,11)"
   ]
  },
  {
   "cell_type": "code",
   "execution_count": 45,
   "id": "e245bc77",
   "metadata": {},
   "outputs": [],
   "source": [
    "def even(age):\n",
    "    for i in age:\n",
    "        if i % 2 == 0:\n",
    "            print(i, end = \" \")\n",
    "        elif i >= 7:\n",
    "            break\n",
    "    "
   ]
  },
  {
   "cell_type": "code",
   "execution_count": 46,
   "id": "9ee21ea4",
   "metadata": {},
   "outputs": [
    {
     "name": "stdout",
     "output_type": "stream",
     "text": [
      "2 4 6 "
     ]
    }
   ],
   "source": [
    "even(age)"
   ]
  },
  {
   "cell_type": "code",
   "execution_count": 47,
   "id": "0c9673ce",
   "metadata": {},
   "outputs": [],
   "source": [
    "def even2(age):\n",
    "    for i in age:\n",
    "        if i % 2 == 0:\n",
    "            print(i, end = \" \")\n",
    "        elif i >= 7:\n",
    "            return"
   ]
  },
  {
   "cell_type": "code",
   "execution_count": 48,
   "id": "2c5a4142",
   "metadata": {},
   "outputs": [
    {
     "name": "stdout",
     "output_type": "stream",
     "text": [
      "2 4 6 "
     ]
    }
   ],
   "source": [
    "even2(age)"
   ]
  },
  {
   "cell_type": "markdown",
   "id": "9ded66e8",
   "metadata": {},
   "source": [
    "1-100까지 숫자중에 홀수만 출력하다가 51번째에 종료하는 odd 함수를 만드세요."
   ]
  },
  {
   "cell_type": "code",
   "execution_count": 53,
   "id": "87b141c1",
   "metadata": {},
   "outputs": [],
   "source": [
    "def odd(a):\n",
    "    print(\"a: \", a)\n",
    "    for i in a:\n",
    "        if i % 2 ==1:\n",
    "            print(i, end=\" \")\n",
    "        elif i >= 51:\n",
    "            return"
   ]
  },
  {
   "cell_type": "code",
   "execution_count": 54,
   "id": "466b5e7d",
   "metadata": {
    "scrolled": true
   },
   "outputs": [
    {
     "name": "stdout",
     "output_type": "stream",
     "text": [
      "a:  range(1, 101)\n",
      "1 3 5 7 9 11 13 15 17 19 21 23 25 27 29 31 33 35 37 39 41 43 45 47 49 51 "
     ]
    }
   ],
   "source": [
    "odd(range(1, 101))"
   ]
  },
  {
   "cell_type": "code",
   "execution_count": 56,
   "id": "4e3bf46c",
   "metadata": {},
   "outputs": [
    {
     "name": "stdout",
     "output_type": "stream",
     "text": [
      "a:  [1, 2, 3, 4, 5, 6, 7, 8, 9, 10, 11, 12, 13, 14, 15, 16, 17, 18, 19, 20, 21, 22, 23, 24, 25, 26, 27, 28, 29, 30, 31, 32, 33, 34, 35, 36, 37, 38, 39, 40, 41, 42, 43, 44, 45, 46, 47, 48, 49, 50, 51, 52, 53, 54, 55, 56, 57, 58, 59, 60, 61, 62, 63, 64, 65, 66, 67, 68, 69, 70, 71, 72, 73, 74, 75, 76, 77, 78, 79, 80, 81, 82, 83, 84, 85, 86, 87, 88, 89, 90, 91, 92, 93, 94, 95, 96, 97, 98, 99, 100]\n",
      "1 3 5 7 9 11 13 15 17 19 21 23 25 27 29 31 33 35 37 39 41 43 45 47 49 51 "
     ]
    }
   ],
   "source": [
    "h = list(range(1, 101))\n",
    "odd(h) # =>  a = h"
   ]
  },
  {
   "cell_type": "markdown",
   "id": "81000dd8",
   "metadata": {},
   "source": [
    "## 5) 함수에서 위치 인수와 키워드 인수 사용하기\n",
    "* 위치인수(positional argument) 매개변수\n",
    "* 함수에 인수를 순서대로 넣는 방식\n",
    "* 인수의 위치가 정해져 있음"
   ]
  },
  {
   "cell_type": "code",
   "execution_count": 58,
   "id": "a223abfa",
   "metadata": {},
   "outputs": [],
   "source": [
    "def print_nums(a, b, c):\n",
    "    print(a, b, c)"
   ]
  },
  {
   "cell_type": "code",
   "execution_count": 59,
   "id": "69c9a034",
   "metadata": {},
   "outputs": [
    {
     "name": "stdout",
     "output_type": "stream",
     "text": [
      "10 20 30\n"
     ]
    }
   ],
   "source": [
    "print_nums(10, 20, 30)"
   ]
  },
  {
   "cell_type": "markdown",
   "id": "06cbebd9",
   "metadata": {},
   "source": [
    "리스트, 튜플과 같은 자료형을 1개의 위치인수(매개변수)로 받을 때<br>\n",
    "위치 인수와 개수가 같으면 *로 언패킹 가능"
   ]
  },
  {
   "cell_type": "code",
   "execution_count": 68,
   "id": "5cbbeda7",
   "metadata": {},
   "outputs": [],
   "source": [
    "p = [10, 20, 30]"
   ]
  },
  {
   "cell_type": "code",
   "execution_count": 61,
   "id": "79df54de",
   "metadata": {},
   "outputs": [
    {
     "ename": "TypeError",
     "evalue": "print_nums() missing 2 required positional arguments: 'b' and 'c'",
     "output_type": "error",
     "traceback": [
      "\u001b[1;31m---------------------------------------------------------------------------\u001b[0m",
      "\u001b[1;31mTypeError\u001b[0m                                 Traceback (most recent call last)",
      "Cell \u001b[1;32mIn[61], line 1\u001b[0m\n\u001b[1;32m----> 1\u001b[0m \u001b[43mprint_nums\u001b[49m\u001b[43m(\u001b[49m\u001b[43mp\u001b[49m\u001b[43m)\u001b[49m\n",
      "\u001b[1;31mTypeError\u001b[0m: print_nums() missing 2 required positional arguments: 'b' and 'c'"
     ]
    }
   ],
   "source": [
    "print_nums(p)"
   ]
  },
  {
   "cell_type": "code",
   "execution_count": 62,
   "id": "19732d23",
   "metadata": {},
   "outputs": [
    {
     "name": "stdout",
     "output_type": "stream",
     "text": [
      "10 20 30\n"
     ]
    }
   ],
   "source": [
    "print_nums(p[0], p[1], p[2])"
   ]
  },
  {
   "cell_type": "code",
   "execution_count": 65,
   "id": "81bc15fe",
   "metadata": {},
   "outputs": [
    {
     "name": "stdout",
     "output_type": "stream",
     "text": [
      "10 20 30\n"
     ]
    }
   ],
   "source": [
    "print(*p)"
   ]
  },
  {
   "cell_type": "code",
   "execution_count": 69,
   "id": "a064093d",
   "metadata": {},
   "outputs": [
    {
     "name": "stdout",
     "output_type": "stream",
     "text": [
      "10 20 30\n"
     ]
    }
   ],
   "source": [
    "print_nums(*p)"
   ]
  },
  {
   "cell_type": "markdown",
   "id": "3b7e1779",
   "metadata": {},
   "source": [
    "가변인수\n",
    "* 여러 개의 자료를 한 번에 입력 받음 \n",
    "* *args  => *변수명"
   ]
  },
  {
   "cell_type": "code",
   "execution_count": 70,
   "id": "e0792dc7",
   "metadata": {},
   "outputs": [
    {
     "name": "stdout",
     "output_type": "stream",
     "text": [
      "a b c d\n"
     ]
    }
   ],
   "source": [
    "print(\"a\", \"b\", \"c\", \"d\")"
   ]
  },
  {
   "cell_type": "code",
   "execution_count": null,
   "id": "ebdccb8e",
   "metadata": {},
   "outputs": [],
   "source": []
  },
  {
   "cell_type": "markdown",
   "id": "6dfed89f",
   "metadata": {},
   "source": [
    "여러 개의 숫자를 입력받아 더하는 함수(입력 개수가 정해져 있지 X)"
   ]
  },
  {
   "cell_type": "code",
   "execution_count": 78,
   "id": "a7986741",
   "metadata": {},
   "outputs": [],
   "source": [
    "def sum2(*args):\n",
    "    print(args)\n",
    "    print(type(args))\n",
    "    hap = 0\n",
    "    for i in args:\n",
    "        hap += i\n",
    "    return hap"
   ]
  },
  {
   "cell_type": "code",
   "execution_count": 79,
   "id": "f68611d9",
   "metadata": {
    "scrolled": true
   },
   "outputs": [
    {
     "name": "stdout",
     "output_type": "stream",
     "text": [
      "(1, 1, 4, 6, 7, 8, 9, 2, 5, 6, 2, 2, 6, 4, 2, 6, 2, 2)\n",
      "<class 'tuple'>\n"
     ]
    },
    {
     "data": {
      "text/plain": [
       "75"
      ]
     },
     "execution_count": 79,
     "metadata": {},
     "output_type": "execute_result"
    }
   ],
   "source": [
    "sum2(1,1,4,6,7,8,9,2,5,6,2,2,6,4,2,6,2,2)"
   ]
  },
  {
   "cell_type": "code",
   "execution_count": 80,
   "id": "872f9cdc",
   "metadata": {},
   "outputs": [
    {
     "data": {
      "text/plain": [
       "75"
      ]
     },
     "execution_count": 80,
     "metadata": {},
     "output_type": "execute_result"
    }
   ],
   "source": [
    "sum((1, 1, 4, 6, 7, 8, 9, 2, 5, 6, 2, 2, 6, 4, 2, 6, 2, 2))"
   ]
  },
  {
   "cell_type": "code",
   "execution_count": 86,
   "id": "5eed7cf8",
   "metadata": {},
   "outputs": [],
   "source": [
    "def sum3(*nums):\n",
    "    print(nums)\n",
    "    print(type(nums))\n",
    "    return sum(nums)"
   ]
  },
  {
   "cell_type": "code",
   "execution_count": 88,
   "id": "ca550f74",
   "metadata": {},
   "outputs": [
    {
     "name": "stdout",
     "output_type": "stream",
     "text": [
      "(1, 1, 4, 6, 7, 8, 9, 2, 5, 6, 2, 2, 6, 4, 2, 6, 2, 2)\n",
      "<class 'tuple'>\n"
     ]
    },
    {
     "data": {
      "text/plain": [
       "75"
      ]
     },
     "execution_count": 88,
     "metadata": {},
     "output_type": "execute_result"
    }
   ],
   "source": [
    "sum3(1, 1, 4, 6, 7, 8, 9, 2, 5, 6, 2, 2, 6, 4, 2, 6, 2, 2)"
   ]
  },
  {
   "cell_type": "code",
   "execution_count": 92,
   "id": "c4b29d21",
   "metadata": {},
   "outputs": [
    {
     "name": "stdout",
     "output_type": "stream",
     "text": [
      "1 1 4 6 7 8 9 2 5 6 2 2 6 4 2 6 2 2\n"
     ]
    }
   ],
   "source": [
    "print(*[1, 1, 4, 6, 7, 8, 9, 2, 5, 6, 2, 2, 6, 4, 2, 6, 2, 2])"
   ]
  },
  {
   "cell_type": "code",
   "execution_count": 84,
   "id": "a77c4723",
   "metadata": {},
   "outputs": [],
   "source": [
    "L1 = [1, 1, 4, 6, 7, 8, 9, 2, 5, 6, 2, 2, 6, 4, 2, 6, 2, 2]"
   ]
  },
  {
   "cell_type": "code",
   "execution_count": 90,
   "id": "ce76561b",
   "metadata": {},
   "outputs": [
    {
     "ename": "TypeError",
     "evalue": "unsupported operand type(s) for +: 'int' and 'list'",
     "output_type": "error",
     "traceback": [
      "\u001b[1;31m---------------------------------------------------------------------------\u001b[0m",
      "\u001b[1;31mTypeError\u001b[0m                                 Traceback (most recent call last)",
      "Cell \u001b[1;32mIn[90], line 1\u001b[0m\n\u001b[1;32m----> 1\u001b[0m \u001b[38;5;28;43msum\u001b[39;49m\u001b[43m(\u001b[49m\u001b[43m(\u001b[49m\u001b[43m[\u001b[49m\u001b[38;5;241;43m1\u001b[39;49m\u001b[43m,\u001b[49m\u001b[43m \u001b[49m\u001b[38;5;241;43m1\u001b[39;49m\u001b[43m,\u001b[49m\u001b[43m \u001b[49m\u001b[38;5;241;43m4\u001b[39;49m\u001b[43m,\u001b[49m\u001b[43m \u001b[49m\u001b[38;5;241;43m6\u001b[39;49m\u001b[43m,\u001b[49m\u001b[43m \u001b[49m\u001b[38;5;241;43m7\u001b[39;49m\u001b[43m,\u001b[49m\u001b[43m \u001b[49m\u001b[38;5;241;43m8\u001b[39;49m\u001b[43m,\u001b[49m\u001b[43m \u001b[49m\u001b[38;5;241;43m9\u001b[39;49m\u001b[43m,\u001b[49m\u001b[43m \u001b[49m\u001b[38;5;241;43m2\u001b[39;49m\u001b[43m,\u001b[49m\u001b[43m \u001b[49m\u001b[38;5;241;43m5\u001b[39;49m\u001b[43m,\u001b[49m\u001b[43m \u001b[49m\u001b[38;5;241;43m6\u001b[39;49m\u001b[43m,\u001b[49m\u001b[43m \u001b[49m\u001b[38;5;241;43m2\u001b[39;49m\u001b[43m,\u001b[49m\u001b[43m \u001b[49m\u001b[38;5;241;43m2\u001b[39;49m\u001b[43m,\u001b[49m\u001b[43m \u001b[49m\u001b[38;5;241;43m6\u001b[39;49m\u001b[43m,\u001b[49m\u001b[43m \u001b[49m\u001b[38;5;241;43m4\u001b[39;49m\u001b[43m,\u001b[49m\u001b[43m \u001b[49m\u001b[38;5;241;43m2\u001b[39;49m\u001b[43m,\u001b[49m\u001b[43m \u001b[49m\u001b[38;5;241;43m6\u001b[39;49m\u001b[43m,\u001b[49m\u001b[43m \u001b[49m\u001b[38;5;241;43m2\u001b[39;49m\u001b[43m,\u001b[49m\u001b[43m \u001b[49m\u001b[38;5;241;43m2\u001b[39;49m\u001b[43m]\u001b[49m\u001b[43m,\u001b[49m\u001b[43m)\u001b[49m\u001b[43m)\u001b[49m\n",
      "\u001b[1;31mTypeError\u001b[0m: unsupported operand type(s) for +: 'int' and 'list'"
     ]
    }
   ],
   "source": []
  },
  {
   "cell_type": "code",
   "execution_count": 93,
   "id": "43226423",
   "metadata": {
    "scrolled": true
   },
   "outputs": [
    {
     "name": "stdout",
     "output_type": "stream",
     "text": [
      "(1, 1, 4, 6, 7, 8, 9, 2, 5, 6, 2, 2, 6, 4, 2, 6, 2, 2)\n",
      "<class 'tuple'>\n"
     ]
    },
    {
     "data": {
      "text/plain": [
       "75"
      ]
     },
     "execution_count": 93,
     "metadata": {},
     "output_type": "execute_result"
    }
   ],
   "source": [
    "sum3(*L1)"
   ]
  },
  {
   "cell_type": "code",
   "execution_count": 94,
   "id": "ea8d469c",
   "metadata": {},
   "outputs": [],
   "source": [
    "def list_tuple_func(*args):\n",
    "    print(args)\n",
    "    print(type(args))"
   ]
  },
  {
   "cell_type": "code",
   "execution_count": 95,
   "id": "8b08f642",
   "metadata": {},
   "outputs": [
    {
     "name": "stdout",
     "output_type": "stream",
     "text": [
      "(1, 2, 3, 4, 5)\n",
      "<class 'tuple'>\n"
     ]
    }
   ],
   "source": [
    "list_tuple_func(1,2,3,4,5)"
   ]
  },
  {
   "cell_type": "code",
   "execution_count": 97,
   "id": "8d6ae26a",
   "metadata": {},
   "outputs": [
    {
     "name": "stdout",
     "output_type": "stream",
     "text": [
      "(1.1, 2.2, 3.3, 4.4, 5.5)\n",
      "<class 'tuple'>\n"
     ]
    }
   ],
   "source": [
    "list_tuple_func(1.1,2.2,3.3,4.4,5.5)"
   ]
  },
  {
   "cell_type": "code",
   "execution_count": 98,
   "id": "9c14b89b",
   "metadata": {},
   "outputs": [
    {
     "name": "stdout",
     "output_type": "stream",
     "text": [
      "([1, 2, 3], [4, 5, 6], [7, 8, 9])\n",
      "<class 'tuple'>\n"
     ]
    }
   ],
   "source": [
    "list_tuple_func([1,2,3], [4,5,6], [7,8,9])"
   ]
  },
  {
   "cell_type": "code",
   "execution_count": 99,
   "id": "a4d832eb",
   "metadata": {},
   "outputs": [
    {
     "name": "stdout",
     "output_type": "stream",
     "text": [
      "({'a': 1, 'b': 2, 'c': 3},)\n",
      "<class 'tuple'>\n"
     ]
    }
   ],
   "source": [
    "list_tuple_func(dict(a=1, b=2, c=3))"
   ]
  },
  {
   "cell_type": "markdown",
   "id": "044d9ef0",
   "metadata": {},
   "source": [
    "고정인수와 가변인수 함께 사용하기\n",
    "* 고정인수와 가변인수를 함께 사용할 때는 반드시\n",
    "* 고정인수, 가변인수 순으로 넣고 가변인수는 항상 가장 마지막에 넣는다.<br>\n",
    "def sum(a, *args):  O <br>\n",
    "def sum(*args, a):  X  \n"
   ]
  },
  {
   "cell_type": "markdown",
   "id": "fd206014",
   "metadata": {},
   "source": [
    "정수와 리스트를 입력받아 리스트의 요소에 <br>\n",
    "입력받은 정수를 곱한 값의 리스트를 반환하는 함수<br>\n",
    "3, [1,2,3,4,5] => [3,6,9,12,15]"
   ]
  },
  {
   "cell_type": "code",
   "execution_count": 107,
   "id": "c94313b6",
   "metadata": {},
   "outputs": [],
   "source": [
    "def muls(a, *args):\n",
    "    result = []\n",
    "    for num in args:\n",
    "        print(a * num, end=\" \")\n",
    "        result.append(a * num)\n",
    "    return result"
   ]
  },
  {
   "cell_type": "code",
   "execution_count": 103,
   "id": "eae7fb84",
   "metadata": {},
   "outputs": [],
   "source": [
    "L2 =[1,2,3,4,5]"
   ]
  },
  {
   "cell_type": "code",
   "execution_count": 104,
   "id": "07bf3a39",
   "metadata": {
    "scrolled": true
   },
   "outputs": [
    {
     "name": "stdout",
     "output_type": "stream",
     "text": [
      "3 6 9 12 15 "
     ]
    },
    {
     "data": {
      "text/plain": [
       "[3, 6, 9, 12, 15]"
      ]
     },
     "execution_count": 104,
     "metadata": {},
     "output_type": "execute_result"
    }
   ],
   "source": [
    "muls(3, *L2)"
   ]
  },
  {
   "cell_type": "code",
   "execution_count": 102,
   "id": "d021ccb4",
   "metadata": {},
   "outputs": [
    {
     "name": "stdout",
     "output_type": "stream",
     "text": [
      "3 6 9 12 15 "
     ]
    },
    {
     "data": {
      "text/plain": [
       "[3, 6, 9, 12, 15]"
      ]
     },
     "execution_count": 102,
     "metadata": {},
     "output_type": "execute_result"
    }
   ],
   "source": [
    "muls(3,1,2,3,4,5)"
   ]
  },
  {
   "cell_type": "markdown",
   "id": "24f49ae3",
   "metadata": {},
   "source": [
    "가변인수가 앞에 왔기 때문에 에러"
   ]
  },
  {
   "cell_type": "code",
   "execution_count": 108,
   "id": "1c3eff71",
   "metadata": {},
   "outputs": [],
   "source": [
    "def muls2(*args, a):\n",
    "    result = []\n",
    "    for num in args:\n",
    "        print(a * num, end=\" \")\n",
    "        result.append(a * num)\n",
    "    return result"
   ]
  },
  {
   "cell_type": "code",
   "execution_count": 109,
   "id": "23836537",
   "metadata": {},
   "outputs": [
    {
     "ename": "TypeError",
     "evalue": "muls2() missing 1 required keyword-only argument: 'a'",
     "output_type": "error",
     "traceback": [
      "\u001b[1;31m---------------------------------------------------------------------------\u001b[0m",
      "\u001b[1;31mTypeError\u001b[0m                                 Traceback (most recent call last)",
      "Cell \u001b[1;32mIn[109], line 1\u001b[0m\n\u001b[1;32m----> 1\u001b[0m \u001b[43mmuls2\u001b[49m\u001b[43m(\u001b[49m\u001b[38;5;241;43m*\u001b[39;49m\u001b[43mL2\u001b[49m\u001b[43m,\u001b[49m\u001b[43m \u001b[49m\u001b[38;5;241;43m3\u001b[39;49m\u001b[43m)\u001b[49m\n",
      "\u001b[1;31mTypeError\u001b[0m: muls2() missing 1 required keyword-only argument: 'a'"
     ]
    }
   ],
   "source": [
    "muls2(*L2, 3)"
   ]
  },
  {
   "cell_type": "code",
   "execution_count": null,
   "id": "97a3dce4",
   "metadata": {},
   "outputs": [],
   "source": []
  },
  {
   "cell_type": "code",
   "execution_count": null,
   "id": "95e61b89",
   "metadata": {},
   "outputs": [],
   "source": []
  }
 ],
 "metadata": {
  "kernelspec": {
   "display_name": "Python 3 (ipykernel)",
   "language": "python",
   "name": "python3"
  },
  "language_info": {
   "codemirror_mode": {
    "name": "ipython",
    "version": 3
   },
   "file_extension": ".py",
   "mimetype": "text/x-python",
   "name": "python",
   "nbconvert_exporter": "python",
   "pygments_lexer": "ipython3",
   "version": "3.10.14"
  }
 },
 "nbformat": 4,
 "nbformat_minor": 5
}
