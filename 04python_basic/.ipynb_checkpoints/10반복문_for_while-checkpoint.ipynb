{
 "cells": [
  {
   "cell_type": "markdown",
   "id": "22a443c5",
   "metadata": {},
   "source": [
    "# 반복문 for, while\n",
    "* 반복문은 동일한 작업을 여러 번 반복해야 할 경우 사용하는 명령\n",
    "* for, while 두 종류의 반복문이 있음.\n",
    "* for는 반복 횟수가 정해져 있는 경우에 사용.\n",
    "* while은 반복 횟수가 정해지지 않은 경우에 사용."
   ]
  },
  {
   "cell_type": "markdown",
   "id": "242b16e7",
   "metadata": {},
   "source": [
    "## for 반목문: 반복할 횟수가 정해져 있는 경우\n",
    "for 변수 in 반복할 객체, 자료:<br>\n",
    "____반복할 코드"
   ]
  },
  {
   "cell_type": "code",
   "execution_count": 2,
   "id": "f978537c",
   "metadata": {},
   "outputs": [
    {
     "data": {
      "text/plain": [
       "[1, 2, 3, 4, 5, 6, 7, 8, 9, 10]"
      ]
     },
     "execution_count": 2,
     "metadata": {},
     "output_type": "execute_result"
    }
   ],
   "source": [
    "list(range(1,11))"
   ]
  },
  {
   "cell_type": "code",
   "execution_count": 3,
   "id": "4bb432c2",
   "metadata": {},
   "outputs": [
    {
     "name": "stdout",
     "output_type": "stream",
     "text": [
      "1 2 3 4 5 6 7 8 9 10 "
     ]
    }
   ],
   "source": [
    "# for문을 이용해서 1-10 숫자 출력\n",
    "for num in range(1,11):\n",
    "    print(num, end=\" \")"
   ]
  },
  {
   "cell_type": "markdown",
   "id": "35d7499e",
   "metadata": {},
   "source": [
    "* 순서가 있는 자료형은 모두 for문에 사용 가능\n",
    "  * 문자열, list, tuple"
   ]
  },
  {
   "cell_type": "code",
   "execution_count": 6,
   "id": "6f53f040",
   "metadata": {},
   "outputs": [
    {
     "name": "stdout",
     "output_type": "stream",
     "text": [
      "파 이 썬 은   문 자 열 을   반 복 문 에   넣 어   출 력   가 능 "
     ]
    }
   ],
   "source": [
    "for char in \"파이썬은 문자열을 반복문에 넣어 출력 가능\":\n",
    "    print(char, end=\" \")"
   ]
  },
  {
   "cell_type": "code",
   "execution_count": 7,
   "id": "386b9a6f",
   "metadata": {},
   "outputs": [
    {
     "name": "stdout",
     "output_type": "stream",
     "text": [
      "1 2 3 4 5 "
     ]
    }
   ],
   "source": [
    "for item in [1,2,3,4,5]:\n",
    "    print(item, end=\" \")"
   ]
  },
  {
   "cell_type": "code",
   "execution_count": 8,
   "id": "0708a28b",
   "metadata": {},
   "outputs": [
    {
     "data": {
      "text/plain": [
       "[1, 2.3, 3, '문자열', [1, 2, 3], (4, 5, 6), {'반복문': 'for'}]"
      ]
     },
     "execution_count": 8,
     "metadata": {},
     "output_type": "execute_result"
    }
   ],
   "source": [
    "L = [1,2.3,3, \"문자열\", [1,2,3], (4,5,6), {'반복문': 'for'}]\n",
    "L"
   ]
  },
  {
   "cell_type": "code",
   "execution_count": 9,
   "id": "8592f462",
   "metadata": {},
   "outputs": [
    {
     "name": "stdout",
     "output_type": "stream",
     "text": [
      "1 2.3 3 문자열 [1, 2, 3] (4, 5, 6) {'반복문': 'for'} "
     ]
    }
   ],
   "source": [
    "for item in L:\n",
    "    print(item, end=\" \")"
   ]
  },
  {
   "cell_type": "code",
   "execution_count": 10,
   "id": "006fc252",
   "metadata": {},
   "outputs": [
    {
     "data": {
      "text/plain": [
       "(1, 2.3, 3, '문자열', [1, 2, 3], (4, 5, 6), {'반복문': 'for'})"
      ]
     },
     "execution_count": 10,
     "metadata": {},
     "output_type": "execute_result"
    }
   ],
   "source": [
    "t = tuple(L)\n",
    "t"
   ]
  },
  {
   "cell_type": "code",
   "execution_count": 11,
   "id": "09b4acb1",
   "metadata": {
    "scrolled": true
   },
   "outputs": [
    {
     "name": "stdout",
     "output_type": "stream",
     "text": [
      "1 2.3 3 문자열 [1, 2, 3] (4, 5, 6) {'반복문': 'for'} "
     ]
    }
   ],
   "source": [
    "for item in t:\n",
    "    print(item, end=\" \")"
   ]
  },
  {
   "cell_type": "code",
   "execution_count": 12,
   "id": "9aad2d3c",
   "metadata": {
    "scrolled": true
   },
   "outputs": [
    {
     "data": {
      "text/plain": [
       "{'번호': 1, '주소': '서울', '전화번호': '010-1111-22222', '이름': '홍길동'}"
      ]
     },
     "execution_count": 12,
     "metadata": {},
     "output_type": "execute_result"
    }
   ],
   "source": [
    "d = dict(번호=1,주소='서울', 전화번호='010-1111-22222', 이름='홍길동')\n",
    "d"
   ]
  },
  {
   "cell_type": "markdown",
   "id": "8f66ce21",
   "metadata": {},
   "source": [
    "딕셔너리는 반복문에 넣었을 때 key만 출력된다."
   ]
  },
  {
   "cell_type": "code",
   "execution_count": 15,
   "id": "e0a049f9",
   "metadata": {},
   "outputs": [
    {
     "data": {
      "text/plain": [
       "{'번호': 1, '주소': '서울', '전화번호': '010-1111-22222', '이름': '홍길동'}"
      ]
     },
     "execution_count": 15,
     "metadata": {},
     "output_type": "execute_result"
    }
   ],
   "source": [
    "d"
   ]
  },
  {
   "cell_type": "code",
   "execution_count": 14,
   "id": "00cec9ae",
   "metadata": {},
   "outputs": [
    {
     "name": "stdout",
     "output_type": "stream",
     "text": [
      "번호 주소 전화번호 이름 "
     ]
    }
   ],
   "source": [
    "for item in d:\n",
    "    print(item, end=\" \")"
   ]
  },
  {
   "cell_type": "code",
   "execution_count": 17,
   "id": "2e7a40b6",
   "metadata": {},
   "outputs": [
    {
     "name": "stdout",
     "output_type": "stream",
     "text": [
      "1 서울 010-1111-22222 홍길동 "
     ]
    }
   ],
   "source": [
    "for key in d:\n",
    "    print(d[key], end=\" \")"
   ]
  },
  {
   "cell_type": "code",
   "execution_count": 18,
   "id": "14249b50",
   "metadata": {},
   "outputs": [
    {
     "name": "stdout",
     "output_type": "stream",
     "text": [
      "1 서울 010-1111-22222 홍길동 "
     ]
    }
   ],
   "source": [
    "for key in d:\n",
    "    print(d.get(key,0), end=\" \")"
   ]
  },
  {
   "cell_type": "markdown",
   "id": "1ea85dba",
   "metadata": {},
   "source": [
    "for 반복문을 이용해서 1부터 10까지의 정수를 더한 합만을 출력하세요.\n",
    "* 1부터 10까지 숫자를 만들어 반복문에 넣는다.\n",
    "* 1부터 10까지 누적 덧셈을 한다.\n",
    "* 누적 덧셈을 한 결과를 출력한다."
   ]
  },
  {
   "cell_type": "code",
   "execution_count": 26,
   "id": "2eeb32e5",
   "metadata": {},
   "outputs": [
    {
     "name": "stdout",
     "output_type": "stream",
     "text": [
      "55\n"
     ]
    }
   ],
   "source": [
    "temp = 0\n",
    "for num in range(1,11):\n",
    "#     print(num)\n",
    "    temp = temp + num\n",
    "    for num2 in range(1,10)\n",
    "print(temp)\n",
    "# print(temp)"
   ]
  },
  {
   "cell_type": "markdown",
   "id": "fa3b9f39",
   "metadata": {},
   "source": [
    "1-100까지 곱한 값을 출력하세요."
   ]
  },
  {
   "cell_type": "code",
   "execution_count": 30,
   "id": "59685565",
   "metadata": {},
   "outputs": [
    {
     "name": "stdout",
     "output_type": "stream",
     "text": [
      "93326215443944152681699238856266700490715968264381621468592963895217599993229915608941463976156518286253697920827223758251185210916864000000000000000000000000\n"
     ]
    }
   ],
   "source": [
    "temp2 = 1\n",
    "for num in range(1,101):\n",
    "#     print(num, end=\" \")\n",
    "    temp2 = temp2 * num\n",
    "print(temp2)"
   ]
  },
  {
   "cell_type": "markdown",
   "id": "a8c23dee",
   "metadata": {},
   "source": [
    "1부터 50까지 수 중에서 짝수인 수의 합을 구하시오.\n",
    "* 1-50 수를 만들기\n",
    "* 홀짝 구분 if else   , % 2 == 0 짝, % 2 == 1 홀\n",
    "* 짝수면 덧셈 누적합\n",
    "* print()"
   ]
  },
  {
   "cell_type": "code",
   "execution_count": 34,
   "id": "896a6e16",
   "metadata": {},
   "outputs": [
    {
     "name": "stdout",
     "output_type": "stream",
     "text": [
      "650\n"
     ]
    }
   ],
   "source": [
    "temp3 = 0\n",
    "for num in range(1,51):\n",
    "    if num % 2 == 0:\n",
    "        temp3 += num\n",
    "print(temp3)        "
   ]
  },
  {
   "cell_type": "code",
   "execution_count": 38,
   "id": "97dd1d9c",
   "metadata": {},
   "outputs": [
    {
     "name": "stdout",
     "output_type": "stream",
     "text": [
      "650\n"
     ]
    }
   ],
   "source": [
    "temp4 = 0\n",
    "for num in range(0,51,2):\n",
    "    temp4 += num\n",
    "print(temp4)\n",
    "#     print(num, end=\" \")"
   ]
  },
  {
   "cell_type": "markdown",
   "id": "fd6394dd",
   "metadata": {},
   "source": [
    "1부터 100까지의 수 중에서 7의 배수만 찾아 곱한 값을 출력하세요.\n",
    "* 숫자만들기 1-100\n",
    "* 7의 배수 찾기 % 7 == 0\n",
    "* 누적곱\n",
    "* print()"
   ]
  },
  {
   "cell_type": "code",
   "execution_count": 46,
   "id": "643c9f97",
   "metadata": {},
   "outputs": [
    {
     "name": "stdout",
     "output_type": "stream",
     "text": [
      "59126328543388935628800\n"
     ]
    }
   ],
   "source": [
    "temp =1\n",
    "for num in range(1,101):\n",
    "    if num % 7 == 0:\n",
    "#         print(num)\n",
    "        temp *= num\n",
    "print(temp)"
   ]
  },
  {
   "cell_type": "markdown",
   "id": "346aa702",
   "metadata": {},
   "source": [
    "1부터 100까지 수를 만들고 그중 30-70까지만 더해서 출력하세요.\n",
    "* 방법1. 조건문으로 판별\n",
    "* 방법2. range로 만든 list를 슬라이싱"
   ]
  },
  {
   "cell_type": "code",
   "execution_count": 52,
   "id": "1087799b",
   "metadata": {},
   "outputs": [],
   "source": [
    "temp = 0\n",
    "for num in range(1,101):\n",
    "    if 30 <= num <= 70:\n",
    "        temp += num\n",
    "#         print(temp)\n",
    "# print(temp)"
   ]
  },
  {
   "cell_type": "code",
   "execution_count": 59,
   "id": "7cc82c7a",
   "metadata": {},
   "outputs": [
    {
     "data": {
      "text/plain": [
       "[30,\n",
       " 31,\n",
       " 32,\n",
       " 33,\n",
       " 34,\n",
       " 35,\n",
       " 36,\n",
       " 37,\n",
       " 38,\n",
       " 39,\n",
       " 40,\n",
       " 41,\n",
       " 42,\n",
       " 43,\n",
       " 44,\n",
       " 45,\n",
       " 46,\n",
       " 47,\n",
       " 48,\n",
       " 49,\n",
       " 50,\n",
       " 51,\n",
       " 52,\n",
       " 53,\n",
       " 54,\n",
       " 55,\n",
       " 56,\n",
       " 57,\n",
       " 58,\n",
       " 59,\n",
       " 60,\n",
       " 61,\n",
       " 62,\n",
       " 63,\n",
       " 64,\n",
       " 65,\n",
       " 66,\n",
       " 67,\n",
       " 68,\n",
       " 69,\n",
       " 70]"
      ]
     },
     "execution_count": 59,
     "metadata": {},
     "output_type": "execute_result"
    }
   ],
   "source": [
    "list(range(1,101))[29:70]"
   ]
  },
  {
   "cell_type": "code",
   "execution_count": 60,
   "id": "42863c29",
   "metadata": {},
   "outputs": [
    {
     "name": "stdout",
     "output_type": "stream",
     "text": [
      "2050\n"
     ]
    }
   ],
   "source": [
    "temp =0 \n",
    "for num in range(1,101)[29:70]:\n",
    "    temp += num\n",
    "print(temp)"
   ]
  },
  {
   "cell_type": "code",
   "execution_count": 61,
   "id": "2dd3a423",
   "metadata": {},
   "outputs": [
    {
     "name": "stdout",
     "output_type": "stream",
     "text": [
      "L1 [1, 3, 5, 7, 9]\n",
      "L2 [0, 2, 4, 6, 8]\n"
     ]
    }
   ],
   "source": [
    "L1 = list(range(1,10, 2))\n",
    "print('L1', L1)\n",
    "L2 = list(range(0,10, 2))\n",
    "print('L2', L2)"
   ]
  },
  {
   "cell_type": "code",
   "execution_count": 64,
   "id": "be9d0cdd",
   "metadata": {},
   "outputs": [
    {
     "data": {
      "text/plain": [
       "[0, 1, 2]"
      ]
     },
     "execution_count": 64,
     "metadata": {},
     "output_type": "execute_result"
    }
   ],
   "source": [
    "L3 = list(range(0,3))\n",
    "L3"
   ]
  },
  {
   "cell_type": "code",
   "execution_count": 65,
   "id": "31567d1f",
   "metadata": {},
   "outputs": [
    {
     "name": "stdout",
     "output_type": "stream",
     "text": [
      "1 0 0 1\n",
      "3 2 1 6\n",
      "5 4 2 11\n"
     ]
    }
   ],
   "source": [
    "temp = 0\n",
    "for num, num2, num3 in zip(L1, L2, L3):\n",
    "    temp = num + num2 + num3\n",
    "    print(num, num2, num3, temp)"
   ]
  },
  {
   "cell_type": "code",
   "execution_count": 72,
   "id": "69dedd52",
   "metadata": {},
   "outputs": [
    {
     "name": "stdout",
     "output_type": "stream",
     "text": [
      "(1, 0, 0)\n",
      "(3, 2, 1)\n",
      "(5, 4, 2)\n"
     ]
    }
   ],
   "source": [
    "for num in zip(L1, L2, L3):\n",
    "    print(num)"
   ]
  },
  {
   "cell_type": "markdown",
   "id": "ff00fb47",
   "metadata": {},
   "source": [
    "enumerate(): index를 만들어주는 함수"
   ]
  },
  {
   "cell_type": "code",
   "execution_count": 69,
   "id": "ebf1dd69",
   "metadata": {},
   "outputs": [
    {
     "name": "stdout",
     "output_type": "stream",
     "text": [
      "0 파\n",
      "1 이\n",
      "2 썬\n",
      "3 은\n",
      "4  \n",
      "5 문\n",
      "6 자\n",
      "7 열\n",
      "8 을\n",
      "9  \n",
      "10 반\n",
      "11 복\n",
      "12 문\n",
      "13 에\n",
      "14  \n",
      "15 넣\n",
      "16 어\n",
      "17  \n",
      "18 출\n",
      "19 력\n",
      "20  \n",
      "21 가\n",
      "22 능\n"
     ]
    }
   ],
   "source": [
    "for index, char in enumerate(\"파이썬은 문자열을 반복문에 넣어 출력 가능\"):\n",
    "    print(index, char)"
   ]
  },
  {
   "cell_type": "code",
   "execution_count": 83,
   "id": "a9a81f64",
   "metadata": {},
   "outputs": [
    {
     "name": "stdout",
     "output_type": "stream",
     "text": [
      "(0, (1, 0, 0))\n",
      "2\n",
      "(1, (3, 2, 1))\n",
      "2\n",
      "(2, (5, 4, 2))\n",
      "2\n"
     ]
    }
   ],
   "source": [
    "for num in enumerate(zip(L1, L2, L3)):\n",
    "    print(num)\n",
    "    print(len(num))\n",
    "#     print(\"index;\",index, \"L1:\", num[0], \"L2:\", num[1], \"L3:\",num[2])"
   ]
  },
  {
   "cell_type": "markdown",
   "id": "92b8ffa4",
   "metadata": {},
   "source": [
    "1-10 까지 숫자를 만들고 역순으로 출력하세요"
   ]
  },
  {
   "cell_type": "code",
   "execution_count": 88,
   "id": "b73f7fc5",
   "metadata": {},
   "outputs": [],
   "source": [
    "L3 = list(range(1,11))\n",
    "L3.reverse()"
   ]
  },
  {
   "cell_type": "code",
   "execution_count": 89,
   "id": "fc47b5fe",
   "metadata": {},
   "outputs": [
    {
     "data": {
      "text/plain": [
       "[10, 9, 8, 7, 6, 5, 4, 3, 2, 1]"
      ]
     },
     "execution_count": 89,
     "metadata": {},
     "output_type": "execute_result"
    }
   ],
   "source": [
    "L3"
   ]
  },
  {
   "cell_type": "code",
   "execution_count": 93,
   "id": "40e681a0",
   "metadata": {},
   "outputs": [
    {
     "name": "stdout",
     "output_type": "stream",
     "text": [
      "10 9 8 7 6 5 4 3 2 1 "
     ]
    }
   ],
   "source": [
    "for num in reversed(range(1,11)):\n",
    "    print(num, end=\" \")"
   ]
  },
  {
   "cell_type": "code",
   "execution_count": 95,
   "id": "b9d0aabb",
   "metadata": {},
   "outputs": [
    {
     "name": "stdout",
     "output_type": "stream",
     "text": [
      "10 9 8 7 6 5 4 3 2 1 "
     ]
    }
   ],
   "source": [
    "for num in range(10,0,-1):\n",
    "    print(num, end=\" \")"
   ]
  },
  {
   "cell_type": "code",
   "execution_count": 98,
   "id": "3496166b",
   "metadata": {},
   "outputs": [
    {
     "name": "stdout",
     "output_type": "stream",
     "text": [
      "10 9 8 7 6 5 4 3 2 1 "
     ]
    }
   ],
   "source": [
    "for num in range(1,11)[::-1]:\n",
    "    print(num, end=\" \")"
   ]
  },
  {
   "cell_type": "code",
   "execution_count": 103,
   "id": "527f951d",
   "metadata": {},
   "outputs": [
    {
     "name": "stdout",
     "output_type": "stream",
     "text": [
      "1 4 7 10 "
     ]
    }
   ],
   "source": [
    "for num in range(0,11)[1::3]:\n",
    "    print(num, end=\" \")"
   ]
  },
  {
   "cell_type": "markdown",
   "id": "5304e5a2",
   "metadata": {},
   "source": [
    "# while 반복할 횟수가 정해지지 않은 경우\n",
    "* 무한 반복 가능\n",
    "* 무한 반복이 되지 않도록 조건식을 잘 짜주는 것이 중요<br>\n",
    "변수 선언 및 초기화<br>\n",
    "while 조건식:<br>\n",
    "____반복할 코드<br>\n",
    "____변수 증가/감소 로직"
   ]
  },
  {
   "cell_type": "markdown",
   "id": "de9e2b84",
   "metadata": {},
   "source": [
    "while문으로 1-10까지 출력하기"
   ]
  },
  {
   "cell_type": "code",
   "execution_count": 105,
   "id": "ec8f3970",
   "metadata": {},
   "outputs": [
    {
     "name": "stdout",
     "output_type": "stream",
     "text": [
      "1 2 3 4 5 6 7 8 9 10 "
     ]
    }
   ],
   "source": [
    "i = 1\n",
    "while i <= 10:\n",
    "    print(i, end=\" \")\n",
    "    i += 1"
   ]
  },
  {
   "cell_type": "markdown",
   "id": "0c1770b1",
   "metadata": {},
   "source": [
    "while문을 이용해서 1-10까지 더해서 결과를 출력하세요."
   ]
  },
  {
   "cell_type": "code",
   "execution_count": 109,
   "id": "b0ff552d",
   "metadata": {},
   "outputs": [
    {
     "name": "stdout",
     "output_type": "stream",
     "text": [
      "55\n"
     ]
    }
   ],
   "source": [
    "i = 1\n",
    "hap = 0\n",
    "while i <= 10:\n",
    "    hap += i\n",
    "    i += 1\n",
    "print(hap)"
   ]
  },
  {
   "cell_type": "markdown",
   "id": "9422e409",
   "metadata": {},
   "source": [
    "20에서 1까지 숫자를 더한 값을 출력하세요."
   ]
  },
  {
   "cell_type": "code",
   "execution_count": 112,
   "id": "f6eab97c",
   "metadata": {},
   "outputs": [
    {
     "name": "stdout",
     "output_type": "stream",
     "text": [
      "210\n"
     ]
    }
   ],
   "source": [
    "i = 20\n",
    "hap = 0\n",
    "while i > 0:\n",
    "    hap += i\n",
    "    i -= 1\n",
    "print(hap)"
   ]
  },
  {
   "cell_type": "markdown",
   "id": "66b34650",
   "metadata": {},
   "source": [
    "1-50 까지 수 중에서 3의 배수이거나, 짝수인 수를 찾아서 더한 값을 출력하시오.\n",
    "* 1-50 반복\n",
    "* 3의 배수 or 짝수\n",
    "* 더하기\n",
    "* 출력하기"
   ]
  },
  {
   "cell_type": "code",
   "execution_count": 113,
   "id": "6aaf5cf2",
   "metadata": {},
   "outputs": [
    {
     "name": "stdout",
     "output_type": "stream",
     "text": [
      "842\n"
     ]
    }
   ],
   "source": [
    "i = 1\n",
    "hap = 0\n",
    "while i <= 50:\n",
    "    if i % 3 == 0 or i % 2 ==0:\n",
    "        hap += i\n",
    "    i += 1\n",
    "print(hap)"
   ]
  },
  {
   "cell_type": "code",
   "execution_count": null,
   "id": "b85aa4a7",
   "metadata": {},
   "outputs": [],
   "source": []
  },
  {
   "cell_type": "code",
   "execution_count": null,
   "id": "24987805",
   "metadata": {},
   "outputs": [],
   "source": []
  }
 ],
 "metadata": {
  "kernelspec": {
   "display_name": "Python 3 (ipykernel)",
   "language": "python",
   "name": "python3"
  },
  "language_info": {
   "codemirror_mode": {
    "name": "ipython",
    "version": 3
   },
   "file_extension": ".py",
   "mimetype": "text/x-python",
   "name": "python",
   "nbconvert_exporter": "python",
   "pygments_lexer": "ipython3",
   "version": "3.10.14"
  }
 },
 "nbformat": 4,
 "nbformat_minor": 5
}
