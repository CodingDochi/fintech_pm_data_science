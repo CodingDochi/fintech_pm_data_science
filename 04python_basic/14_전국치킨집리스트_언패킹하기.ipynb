{
 "cells": [
  {
   "cell_type": "markdown",
   "id": "2e17ccea",
   "metadata": {},
   "source": [
    "# 전국치킨집리스트 JSON 파일 언패킹하기\n",
    "## 1. Json 파일의 구조 파악\n",
    "## 2. 가게 1곳의 정보를 추출한 후 반복문으로 추출\n",
    "## 3. 값이 없는 곳도 있으므로 예외처리 필요\n",
    "* 최종 데이터 형태: key : [value1, value2, value3]"
   ]
  },
  {
   "cell_type": "code",
   "execution_count": 2,
   "id": "cb10167e",
   "metadata": {
    "scrolled": true
   },
   "outputs": [
    {
     "name": "stdout",
     "output_type": "stream",
     "text": [
      "<class 'str'>\n"
     ]
    }
   ],
   "source": [
    "with open(\"./data/전국치킨집리스트.json\",'r', encoding='utf-8') as f:\n",
    "    chicken_data = f.read()\n",
    "# print(chicken_data)\n",
    "print(type(chicken_data))"
   ]
  },
  {
   "cell_type": "code",
   "execution_count": 3,
   "id": "29b979f6",
   "metadata": {
    "scrolled": true
   },
   "outputs": [
    {
     "data": {
      "text/plain": [
       "'[{\"header\": {\"description\": \"\\\\uc18c\\\\uc0c1\\\\uacf5\\\\uc778\\\\uc2dc\\\\uc7a5\\\\uc9c4\\\\ud765\\\\uacf5\\\\ub2e8 \\\\uc8fc\\\\uc6'"
      ]
     },
     "execution_count": 3,
     "metadata": {},
     "output_type": "execute_result"
    }
   ],
   "source": [
    "chicken_data[:100]"
   ]
  },
  {
   "cell_type": "code",
   "execution_count": 4,
   "id": "1edf73ae",
   "metadata": {},
   "outputs": [],
   "source": [
    "import json"
   ]
  },
  {
   "cell_type": "code",
   "execution_count": 5,
   "id": "9ef2a792",
   "metadata": {},
   "outputs": [
    {
     "name": "stdout",
     "output_type": "stream",
     "text": [
      "37\n"
     ]
    }
   ],
   "source": [
    "data = json.loads(chicken_data)\n",
    "print(len(data))"
   ]
  },
  {
   "cell_type": "code",
   "execution_count": 10,
   "id": "da5dbb9e",
   "metadata": {
    "scrolled": false
   },
   "outputs": [
    {
     "data": {
      "text/plain": [
       "1000"
      ]
     },
     "execution_count": 10,
     "metadata": {},
     "output_type": "execute_result"
    }
   ],
   "source": [
    "len(data[0]['body']['items'])"
   ]
  },
  {
   "cell_type": "code",
   "execution_count": null,
   "id": "0acde05f",
   "metadata": {},
   "outputs": [],
   "source": []
  },
  {
   "cell_type": "code",
   "execution_count": null,
   "id": "04d2ab75",
   "metadata": {},
   "outputs": [],
   "source": []
  },
  {
   "cell_type": "code",
   "execution_count": null,
   "id": "7840bb64",
   "metadata": {},
   "outputs": [],
   "source": []
  },
  {
   "cell_type": "code",
   "execution_count": null,
   "id": "80178d9e",
   "metadata": {},
   "outputs": [],
   "source": []
  }
 ],
 "metadata": {
  "kernelspec": {
   "display_name": "Python 3 (ipykernel)",
   "language": "python",
   "name": "python3"
  },
  "language_info": {
   "codemirror_mode": {
    "name": "ipython",
    "version": 3
   },
   "file_extension": ".py",
   "mimetype": "text/x-python",
   "name": "python",
   "nbconvert_exporter": "python",
   "pygments_lexer": "ipython3",
   "version": "3.10.14"
  }
 },
 "nbformat": 4,
 "nbformat_minor": 5
}
