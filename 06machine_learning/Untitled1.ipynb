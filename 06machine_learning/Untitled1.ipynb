{
 "cells": [
  {
   "cell_type": "code",
   "execution_count": 1,
   "id": "6a447d79-1308-448d-813b-ad7b64ff5b42",
   "metadata": {},
   "outputs": [
    {
     "name": "stdout",
     "output_type": "stream",
     "text": [
      "[('복잡', 'XR'), ('하', 'XSA'), ('지만', 'EC'), ('Mecab', 'SL'), ('설치', 'NNG'), ('오류', 'NNG'), ('해결', 'NNG'), ('!', 'SF'), ('!', 'SF')]\n"
     ]
    }
   ],
   "source": [
    "from konlpy.tag import Mecab\n",
    "mecab = Mecab()\n",
    "print(mecab.pos(\"복잡하지만 Mecab 설치 오류 해결!!\"))"
   ]
  },
  {
   "cell_type": "code",
   "execution_count": null,
   "id": "10d6f58c-66f3-4ad8-b250-cc6d5833c571",
   "metadata": {},
   "outputs": [],
   "source": []
  }
 ],
 "metadata": {
  "kernelspec": {
   "display_name": "Python 3 (ipykernel)",
   "language": "python",
   "name": "python3"
  },
  "language_info": {
   "codemirror_mode": {
    "name": "ipython",
    "version": 3
   },
   "file_extension": ".py",
   "mimetype": "text/x-python",
   "name": "python",
   "nbconvert_exporter": "python",
   "pygments_lexer": "ipython3",
   "version": "3.10.14"
  }
 },
 "nbformat": 4,
 "nbformat_minor": 5
}
