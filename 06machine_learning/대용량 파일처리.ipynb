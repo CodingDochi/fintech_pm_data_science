{
 "cells": [
  {
   "cell_type": "code",
   "execution_count": 1,
   "id": "6a447d79-1308-448d-813b-ad7b64ff5b42",
   "metadata": {},
   "outputs": [],
   "source": [
    "import pandas as pd\n",
    "from glob import glob"
   ]
  },
  {
   "cell_type": "code",
   "execution_count": 3,
   "id": "10d6f58c-66f3-4ad8-b250-cc6d5833c571",
   "metadata": {},
   "outputs": [],
   "source": [
    "data = pd.read_csv(\"C:/Users/5-29/Downloads/aprtment_price_exchange_rate_interest_rate_academy.csv\")"
   ]
  },
  {
   "cell_type": "code",
   "execution_count": 5,
   "id": "aae1faca",
   "metadata": {
    "scrolled": true
   },
   "outputs": [
    {
     "name": "stdout",
     "output_type": "stream",
     "text": [
      "<class 'pandas.core.frame.DataFrame'>\n",
      "RangeIndex: 10041451 entries, 0 to 10041450\n",
      "Data columns (total 10 columns):\n",
      " #   Column    Non-Null Count     Dtype  \n",
      "---  ------    --------------     -----  \n",
      " 0   시군구       10041451 non-null  object \n",
      " 1   단지명       10041451 non-null  object \n",
      " 2   전용면적(㎡)   10041451 non-null  float64\n",
      " 3   거래금액(만원)  10041451 non-null  object \n",
      " 4   층         10041451 non-null  int64  \n",
      " 5   건축년도      10041336 non-null  float64\n",
      " 6   학원수       7827264 non-null   float64\n",
      " 7   date      10041451 non-null  object \n",
      " 8   기준금리      10041451 non-null  float64\n",
      " 9   달러환율      10041451 non-null  float64\n",
      "dtypes: float64(5), int64(1), object(4)\n",
      "memory usage: 766.1+ MB\n"
     ]
    }
   ],
   "source": [
    "data.info(show_counts=True)"
   ]
  },
  {
   "cell_type": "code",
   "execution_count": 6,
   "id": "ecaf31ea",
   "metadata": {},
   "outputs": [
    {
     "data": {
      "text/html": [
       "<div>\n",
       "<style scoped>\n",
       "    .dataframe tbody tr th:only-of-type {\n",
       "        vertical-align: middle;\n",
       "    }\n",
       "\n",
       "    .dataframe tbody tr th {\n",
       "        vertical-align: top;\n",
       "    }\n",
       "\n",
       "    .dataframe thead th {\n",
       "        text-align: right;\n",
       "    }\n",
       "</style>\n",
       "<table border=\"1\" class=\"dataframe\">\n",
       "  <thead>\n",
       "    <tr style=\"text-align: right;\">\n",
       "      <th></th>\n",
       "      <th>시군구</th>\n",
       "      <th>단지명</th>\n",
       "      <th>전용면적(㎡)</th>\n",
       "      <th>거래금액(만원)</th>\n",
       "      <th>층</th>\n",
       "      <th>건축년도</th>\n",
       "      <th>학원수</th>\n",
       "      <th>date</th>\n",
       "      <th>기준금리</th>\n",
       "      <th>달러환율</th>\n",
       "    </tr>\n",
       "  </thead>\n",
       "  <tbody>\n",
       "    <tr>\n",
       "      <th>0</th>\n",
       "      <td>강원특별자치도 양구군 양구읍 상리</td>\n",
       "      <td>경림</td>\n",
       "      <td>59.400</td>\n",
       "      <td>5,000</td>\n",
       "      <td>11</td>\n",
       "      <td>1998.0</td>\n",
       "      <td>24.0</td>\n",
       "      <td>2005-09-23</td>\n",
       "      <td>3.25</td>\n",
       "      <td>1061.83</td>\n",
       "    </tr>\n",
       "    <tr>\n",
       "      <th>1</th>\n",
       "      <td>경기도 의정부시 신곡동</td>\n",
       "      <td>신일1</td>\n",
       "      <td>59.878</td>\n",
       "      <td>5,750</td>\n",
       "      <td>3</td>\n",
       "      <td>1997.0</td>\n",
       "      <td>1151.0</td>\n",
       "      <td>2005-10-20</td>\n",
       "      <td>3.50</td>\n",
       "      <td>1077.02</td>\n",
       "    </tr>\n",
       "    <tr>\n",
       "      <th>2</th>\n",
       "      <td>경기도 의정부시 신곡동</td>\n",
       "      <td>풍림</td>\n",
       "      <td>49.830</td>\n",
       "      <td>5,500</td>\n",
       "      <td>8</td>\n",
       "      <td>1998.0</td>\n",
       "      <td>1151.0</td>\n",
       "      <td>2005-10-20</td>\n",
       "      <td>3.50</td>\n",
       "      <td>1077.02</td>\n",
       "    </tr>\n",
       "    <tr>\n",
       "      <th>3</th>\n",
       "      <td>경기도 의정부시 민락동</td>\n",
       "      <td>한라비발디</td>\n",
       "      <td>84.990</td>\n",
       "      <td>12,750</td>\n",
       "      <td>19</td>\n",
       "      <td>2003.0</td>\n",
       "      <td>1151.0</td>\n",
       "      <td>2005-10-30</td>\n",
       "      <td>3.50</td>\n",
       "      <td>1073.67</td>\n",
       "    </tr>\n",
       "    <tr>\n",
       "      <th>4</th>\n",
       "      <td>경기도 의정부시 용현동</td>\n",
       "      <td>용현현대1차</td>\n",
       "      <td>129.730</td>\n",
       "      <td>12,200</td>\n",
       "      <td>11</td>\n",
       "      <td>1992.0</td>\n",
       "      <td>1151.0</td>\n",
       "      <td>2005-11-21</td>\n",
       "      <td>3.50</td>\n",
       "      <td>1060.19</td>\n",
       "    </tr>\n",
       "  </tbody>\n",
       "</table>\n",
       "</div>"
      ],
      "text/plain": [
       "                  시군구     단지명  전용면적(㎡) 거래금액(만원)   층    건축년도     학원수  \\\n",
       "0  강원특별자치도 양구군 양구읍 상리      경림   59.400    5,000  11  1998.0    24.0   \n",
       "1        경기도 의정부시 신곡동     신일1   59.878    5,750   3  1997.0  1151.0   \n",
       "2        경기도 의정부시 신곡동      풍림   49.830    5,500   8  1998.0  1151.0   \n",
       "3        경기도 의정부시 민락동   한라비발디   84.990   12,750  19  2003.0  1151.0   \n",
       "4        경기도 의정부시 용현동  용현현대1차  129.730   12,200  11  1992.0  1151.0   \n",
       "\n",
       "         date  기준금리     달러환율  \n",
       "0  2005-09-23  3.25  1061.83  \n",
       "1  2005-10-20  3.50  1077.02  \n",
       "2  2005-10-20  3.50  1077.02  \n",
       "3  2005-10-30  3.50  1073.67  \n",
       "4  2005-11-21  3.50  1060.19  "
      ]
     },
     "execution_count": 6,
     "metadata": {},
     "output_type": "execute_result"
    }
   ],
   "source": [
    "data.head()"
   ]
  },
  {
   "cell_type": "markdown",
   "id": "6cabd7aa",
   "metadata": {},
   "source": [
    "# 1. 전국 아파트 매매 데이터 1999-2024 합치기 glob\n",
    "# 2. database에서 1999-2024 USD 환율정보 가져와 합치기\n",
    "        * 날짜와 USD 살때 데이터만 사용\n",
    "        * 토,일,공휴일 데이터는 그 전날 데이터로 맵핑\n",
    "# 3. 전국 학원 정보 가져와서 합치기 (시군구 단위)\n",
    "# 4. 금리 정보 합치기\n",
    "# 5. 회귀분석으로 집값 예측하기"
   ]
  },
  {
   "cell_type": "code",
   "execution_count": null,
   "id": "3e7a38b3",
   "metadata": {},
   "outputs": [],
   "source": []
  },
  {
   "cell_type": "code",
   "execution_count": null,
   "id": "dc9e72d2",
   "metadata": {},
   "outputs": [],
   "source": []
  }
 ],
 "metadata": {
  "kernelspec": {
   "display_name": "Python 3 (ipykernel)",
   "language": "python",
   "name": "python3"
  },
  "language_info": {
   "codemirror_mode": {
    "name": "ipython",
    "version": 3
   },
   "file_extension": ".py",
   "mimetype": "text/x-python",
   "name": "python",
   "nbconvert_exporter": "python",
   "pygments_lexer": "ipython3",
   "version": "3.10.14"
  }
 },
 "nbformat": 4,
 "nbformat_minor": 5
}
